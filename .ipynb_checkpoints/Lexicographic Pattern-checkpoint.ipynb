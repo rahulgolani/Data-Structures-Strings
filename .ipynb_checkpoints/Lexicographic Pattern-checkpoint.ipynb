{
 "cells": [
  {
   "cell_type": "markdown",
   "metadata": {},
   "source": [
    "# Lexicographic rank of a string"
   ]
  },
  {
   "cell_type": "markdown",
   "metadata": {},
   "source": [
    "Given a string, find its rank among all its permutations sorted lexicographically. For example, rank of “abc” is 1, rank of “acb” is 2, and rank of “cba” is 6."
   ]
  },
  {
   "cell_type": "markdown",
   "metadata": {},
   "source": [
    "<pre>\n",
    "Let the given string be “STRING”. In the input string, ‘S’ is the first character. There are total 6 characters and 4 of them are smaller than ‘S’. So there can be 4 * 5! smaller strings where first character is smaller than ‘S’, like following\n",
    "R X X X X X \n",
    "I X X X X X \n",
    "N X X X X X \n",
    "G X X X X X\n",
    "Now let us Fix S’ and find the smaller strings starting with ‘S’.\n",
    "\n",
    "Repeat the same process for T, rank is 4*5! + 4*4! +…\n",
    "\n",
    "Now fix T and repeat the same process for R, rank is 4*5! + 4*4! + 3*3! +…\n",
    "\n",
    "Now fix R and repeat the same process for I, rank is 4*5! + 4*4! + 3*3! + 1*2! +…\n",
    "\n",
    "Now fix I and repeat the same process for N, rank is 4*5! + 4*4! + 3*3! + 1*2! + 1*1! +…\n",
    "\n",
    "Now fix N and repeat the same process for G, rank is 4*5! + 4*4! + 3*3! + 1*2! + 1*1! + 0*0!\n",
    "\n",
    "Rank = 4*5! + 4*4! + 3*3! + 1*2! + 1*1! + 0*0! = 597\n",
    "\n",
    "Note that the above computations find count of smaller strings. Therefore rank of given string is count of smaller strings plus 1. The final rank = 1 + 597 = 598\n",
    "</pre>"
   ]
  },
  {
   "cell_type": "code",
   "execution_count": 1,
   "metadata": {},
   "outputs": [
    {
     "name": "stdout",
     "output_type": "stream",
     "text": [
      "598\n"
     ]
    }
   ],
   "source": [
    "from math import factorial\n",
    "\n",
    "def getCountRight(s,low,high):\n",
    "    countRight=0\n",
    "    for i in range(low+1,high):\n",
    "        if s[i]<s[low]:\n",
    "            countRight+=1\n",
    "    return countRight\n",
    "\n",
    "def findLexicographicRank(s):\n",
    "    n=len(s)\n",
    "    fact=factorial(n)\n",
    "    i=0\n",
    "    rank=0\n",
    "    for i in range(n):\n",
    "        fact=fact//(n-i)\n",
    "        countRight=getCountRight(s,i,n)\n",
    "        rank+=fact*countRight\n",
    "    return rank+1\n",
    "\n",
    "if __name__ == '__main__':\n",
    "    s=\"string\"\n",
    "    print(findLexicographicRank(s))\n"
   ]
  },
  {
   "cell_type": "markdown",
   "metadata": {},
   "source": [
    "Time Complexity O(n^2)"
   ]
  },
  {
   "cell_type": "markdown",
   "metadata": {},
   "source": [
    "O(n) solution to do"
   ]
  },
  {
   "cell_type": "markdown",
   "metadata": {},
   "source": [
    "# Power Set in Lexicographic order"
   ]
  },
  {
   "cell_type": "code",
   "execution_count": 2,
   "metadata": {},
   "outputs": [
    {
     "name": "stdout",
     "output_type": "stream",
     "text": [
      "a\n",
      "ab\n",
      "abc\n",
      "ac\n",
      "b\n",
      "bc\n",
      "c\n"
     ]
    }
   ],
   "source": [
    "def getPowerSetUtil(s,n,index,curr):\n",
    "    if index==n:\n",
    "        return\n",
    "\n",
    "    if len(curr)>0:\n",
    "        print(curr)\n",
    "\n",
    "    for i in range(index+1,n):\n",
    "        curr+=s[i]\n",
    "        getPowerSetUtil(s,n,i,curr)\n",
    "        curr=curr[:len(curr)-1]\n",
    "\n",
    "\n",
    "def getPowerSet(s):\n",
    "    s=\"\".join(sorted(s))\n",
    "    getPowerSetUtil(s,len(s),-1,\"\")\n",
    "\n",
    "if __name__ == '__main__':\n",
    "    s=\"cab\"\n",
    "    getPowerSet(s)\n"
   ]
  },
  {
   "cell_type": "code",
   "execution_count": null,
   "metadata": {},
   "outputs": [],
   "source": []
  }
 ],
 "metadata": {
  "kernelspec": {
   "display_name": "Python 3",
   "language": "python",
   "name": "python3"
  },
  "language_info": {
   "codemirror_mode": {
    "name": "ipython",
    "version": 3
   },
   "file_extension": ".py",
   "mimetype": "text/x-python",
   "name": "python",
   "nbconvert_exporter": "python",
   "pygments_lexer": "ipython3",
   "version": "3.7.6"
  }
 },
 "nbformat": 4,
 "nbformat_minor": 4
}

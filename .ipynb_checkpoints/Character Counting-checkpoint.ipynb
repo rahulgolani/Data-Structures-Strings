{
 "cells": [
  {
   "cell_type": "markdown",
   "metadata": {},
   "source": [
    "# Find the smallest window in a string containing all characters of another string"
   ]
  },
  {
   "cell_type": "markdown",
   "metadata": {},
   "source": [
    "Given two strings string1 and string2, the task is to find the smallest substring in string1 containing all characters of string2 efficiently. "
   ]
  },
  {
   "cell_type": "markdown",
   "metadata": {},
   "source": [
    "Naive Solution is to check for all the substrings and keep track of the minimum length string that satisfies all the requirements"
   ]
  },
  {
   "cell_type": "markdown",
   "metadata": {},
   "source": [
    "Efficient Solution -> To find the first solution and then try to optimize it by trying to remove some elements from the start so that it satisifies the requirement"
   ]
  },
  {
   "cell_type": "markdown",
   "metadata": {},
   "source": [
    "First check if the length of the string is less than the length of the given pattern, if yes then “no such window can exist “.\n",
    "\n",
    "Store the occurrence of characters of the given pattern in a hash_pat[].\n",
    "\n",
    "we will be using two pointer technique basically\n",
    "\n",
    "Start matching the characters of pattern with the characters of string i.e. increment count if a character matches.\n",
    "\n",
    "Check if (count == length of pattern ) this means a window is found.\n",
    "\n",
    "If such a window found, try to minimize it by removing extra characters from the beginning of the current window.\n",
    "\n",
    "delete one character from first and again find this deleted key at right, once found apply step 5 .\n",
    "\n",
    "Update min_length.\n",
    "\n",
    "Print the minimum length window."
   ]
  },
  {
   "cell_type": "code",
   "execution_count": 1,
   "metadata": {},
   "outputs": [
    {
     "name": "stdout",
     "output_type": "stream",
     "text": [
      "t stri\n"
     ]
    }
   ],
   "source": [
    "def getSmallestWindow(s,p):\n",
    "    n1=len(s)\n",
    "    n2=len(p)\n",
    "\n",
    "    if n1<n2:\n",
    "        return \"No Such Window Found\"\n",
    "\n",
    "    hashStr=[0]*256\n",
    "    hashPat=[0]*256\n",
    "\n",
    "    for i in range(n2):\n",
    "        hashPat[ord(p[i])]+=1\n",
    "    count=0\n",
    "    start=0\n",
    "    start_index=-1\n",
    "    min_len=float('infinity')\n",
    "\n",
    "    for i in range(0,n1):\n",
    "        hashStr[ord(s[i])]+=1\n",
    "        if hashPat[ord(s[i])]!=0 and hashStr[ord(s[i])]<=hashPat[ord(s[i])]:\n",
    "            count+=1\n",
    "\n",
    "        if count==n2:\n",
    "            while hashPat[ord(s[start])]==0 or hashStr[ord(s[start])]>hashPat[ord(s[start])]:\n",
    "                if hashStr[ord(s[start])]>hashPat[ord(s[start])]:\n",
    "                    hashStr[ord(s[start])]-=1\n",
    "                start+=1\n",
    "            len_window=i-start+1\n",
    "            if min_len>len_window:\n",
    "                min_len=len_window\n",
    "                start_index=start\n",
    "\n",
    "    if start_index!=-1:\n",
    "        return s[start_index:start_index+min_len]\n",
    "    return \"No such window found\"\n",
    "\n",
    "if __name__==\"__main__\":\n",
    "    s=\"this is a test string\"\n",
    "    pattern=\"tist\"\n",
    "    # s=\"geeksforgeeks\"\n",
    "    # pattern=\"ork\"\n",
    "    print(getSmallestWindow(s,pattern))\n"
   ]
  },
  {
   "cell_type": "markdown",
   "metadata": {},
   "source": [
    "# Smallest window that contains all characters of string itself"
   ]
  },
  {
   "cell_type": "markdown",
   "metadata": {},
   "source": [
    "Given a string, find the smallest window length with all distinct characters of the given string. For eg. str = “aabcbcdbca”, then the result would be 4 as of the smallest window will be “dbca” ."
   ]
  },
  {
   "cell_type": "markdown",
   "metadata": {},
   "source": [
    "Same Approach as above but here pattern will be same as the string and here we need to have only unique characters in the window not all the characters"
   ]
  },
  {
   "cell_type": "code",
   "execution_count": 2,
   "metadata": {},
   "outputs": [
    {
     "name": "stdout",
     "output_type": "stream",
     "text": [
      "dbca\n"
     ]
    }
   ],
   "source": [
    "def getSmallestWindow(s):\n",
    "    n1=len(s)\n",
    "    hashMap={}\n",
    "    n2=0\n",
    "    for i in s:\n",
    "        if i not in hashMap:\n",
    "            hashMap[i]=1\n",
    "            n2+=1\n",
    "    count=0\n",
    "    start_index=-1\n",
    "    start=0\n",
    "    min_len=float('infinity')\n",
    "\n",
    "    hashStr=[0]*256\n",
    "\n",
    "    for i in range(n1):\n",
    "        hashStr[ord(s[i])]+=1\n",
    "\n",
    "        if hashStr[ord(s[i])]==1:\n",
    "            count+=1\n",
    "\n",
    "        if count==n2:\n",
    "            while hashStr[ord(s[start])]>1:\n",
    "                hashStr[ord(s[start])]-=1\n",
    "                start+=1\n",
    "\n",
    "            len_window=i-start+1\n",
    "\n",
    "            if len_window<min_len:\n",
    "                min_len=len_window\n",
    "                start_index=start\n",
    "\n",
    "    if start_index!=-1:\n",
    "        return s[start_index:start_index+min_len]\n",
    "    return \"No Window Found\"\n",
    "\n",
    "if __name__ == '__main__':\n",
    "    s=\"aabcbcdbca\"\n",
    "    # s=\"aaab\"\n",
    "    # s=\"AABBBCBB\"\n",
    "    # s=\"GEEKSGEEKSFOR\"\n",
    "    print(getSmallestWindow(s))\n"
   ]
  },
  {
   "cell_type": "markdown",
   "metadata": {},
   "source": [
    "# Count number of substrings with exactly k distinct characters"
   ]
  },
  {
   "cell_type": "markdown",
   "metadata": {},
   "source": [
    "Approach -> Traverse the substring and check for the distinct elements while traversing"
   ]
  },
  {
   "cell_type": "code",
   "execution_count": 3,
   "metadata": {},
   "outputs": [
    {
     "name": "stdout",
     "output_type": "stream",
     "text": [
      "4\n"
     ]
    }
   ],
   "source": [
    "def getSubstrings(s,k):\n",
    "    n=len(s)\n",
    "    count=0\n",
    "    for i in range(n):\n",
    "        hash={}\n",
    "        disEle=0\n",
    "        for j in range(i,n):\n",
    "            if s[j] in hash:\n",
    "                hash[s[j]]+=1\n",
    "            else:\n",
    "                hash[s[j]]=1\n",
    "                disEle+=1\n",
    "            if disEle==k:\n",
    "                count+=1\n",
    "            if disEle>k:\n",
    "                \n",
    "                break\n",
    "    return count\n",
    "\n",
    "                \n",
    "if __name__==\"__main__\":\n",
    "    s=\"abcde\"\n",
    "    k=2\n",
    "    print(getSubstrings(s,k))"
   ]
  },
  {
   "cell_type": "markdown",
   "metadata": {},
   "source": [
    "# Number of substrings with count of each character as k"
   ]
  },
  {
   "cell_type": "markdown",
   "metadata": {},
   "source": [
    "Given a string and an integer k, find number of substrings in which all the different characters occurs exactly k times. "
   ]
  },
  {
   "cell_type": "markdown",
   "metadata": {},
   "source": [
    "Approach -> Traverse through the strings and maintain the frequencies and the mismatch count"
   ]
  },
  {
   "cell_type": "code",
   "execution_count": 5,
   "metadata": {},
   "outputs": [
    {
     "name": "stdout",
     "output_type": "stream",
     "text": [
      "3\n"
     ]
    }
   ],
   "source": [
    "def getSubstringsCount(s,k):\n",
    "    result=0\n",
    "    n=len(s)\n",
    "    for i in range(n):\n",
    "        hash={}\n",
    "        mismatch=0\n",
    "        for j in range(i,n):\n",
    "            if s[j] in hash:\n",
    "                hash[s[j]]+=1\n",
    "                if hash[s[j]]>k:\n",
    "                    break\n",
    "                if hash[s[j]]!=k:\n",
    "                    mismatch+=1\n",
    "                else:\n",
    "                    mismatch-=1\n",
    "            else:\n",
    "                hash[s[j]]=1\n",
    "                if k!=1:\n",
    "                    mismatch+=1\n",
    "            if mismatch==0:\n",
    "                result+=1\n",
    "    return result\n",
    "\n",
    "if __name__==\"__main__\":\n",
    "    # s=\"aabbcc\"\n",
    "    s=\"aabccc\"\n",
    "    k=2\n",
    "    print(getSubstringsCount(s,k))"
   ]
  },
  {
   "cell_type": "markdown",
   "metadata": {},
   "source": [
    "# String with k distinct characters and no same characters adjacent"
   ]
  },
  {
   "cell_type": "markdown",
   "metadata": {},
   "source": [
    "Given N and K, print a string that has n characters. The string should have exactly k distinct characters and no adjacent positions."
   ]
  },
  {
   "cell_type": "markdown",
   "metadata": {},
   "source": [
    "Aprpoach -> Modular Arithmetic"
   ]
  },
  {
   "cell_type": "code",
   "execution_count": 6,
   "metadata": {},
   "outputs": [
    {
     "name": "stdout",
     "output_type": "stream",
     "text": [
      "aba\n"
     ]
    }
   ],
   "source": [
    "def getString(n,k):\n",
    "    result=\"\"\n",
    "    i=0\n",
    "    for _ in range(n):\n",
    "        result+=chr(i+ord('a'))\n",
    "        i=(i+1)%k\n",
    "    return result\n",
    "\n",
    "if __name__ == '__main__':\n",
    "    # n=5\n",
    "    # k=3\n",
    "    n=3\n",
    "    k=2\n",
    "    print(getString(n,k))\n"
   ]
  },
  {
   "cell_type": "markdown",
   "metadata": {},
   "source": [
    "# Distinct strings with odd and even changes allowed"
   ]
  },
  {
   "cell_type": "markdown",
   "metadata": {},
   "source": [
    "Given an array of lower case strings, the task is to find the number of strings that are distinct. Two strings are distinct if on applying the following operations on one string the second string cannot be formed.\n",
    "\n",
    "A character on odd index can be swapped with another character at odd index only.\n",
    "\n",
    "A character on even index can be swapped with another character on even index only."
   ]
  },
  {
   "cell_type": "markdown",
   "metadata": {},
   "source": [
    "Approach->\n",
    "\n",
    "Generate an encoded string for every input string. The encoded has counts of even and odd positioned characters separated by a separator. Two strings are considered distinct if their encoded strings are same else not. Once we have a way to encode string, the problem reduces to counting distinct encoded strings. This is a typical problem of hashing. We create hash set and one by one store encodings of strings. If an encoding already exists, we ignore string. Else we store encoding in hash and increment count of distinct strings."
   ]
  },
  {
   "cell_type": "code",
   "execution_count": 1,
   "metadata": {},
   "outputs": [
    {
     "name": "stdout",
     "output_type": "stream",
     "text": [
      "2\n"
     ]
    }
   ],
   "source": [
    "def encoding(s):\n",
    "    evenHash=[0]*26\n",
    "    oddHash=[0]*26\n",
    "\n",
    "    for i in range(len(s)):\n",
    "        if i&1:\n",
    "            oddHash[ord(s[i])-ord('a')]+=1\n",
    "        else:\n",
    "            evenHash[ord(s[i])-ord('a')]+=1\n",
    "\n",
    "    encoding=\"\"\n",
    "    for i in range(26):\n",
    "        encoding+=str(evenHash[i])\n",
    "        encoding+=str(oddHash[i])\n",
    "    # print(f\"{s} -> {encoding}\")\n",
    "    return encoding\n",
    "\n",
    "\n",
    "def getDistinctElements(arr):\n",
    "    hash=set()\n",
    "    count=0\n",
    "    for i in arr:\n",
    "        temp=encoding(i)\n",
    "        if temp not in hash:\n",
    "            hash.add(temp)\n",
    "            count+=1\n",
    "    return count\n",
    "\n",
    "\n",
    "if __name__==\"__main__\":\n",
    "    arr=[\"abcd\", \"cbad\", \"bacd\"]\n",
    "    # arr=[\"abc\", \"cba\"]\n",
    "    # arr=[\"abcd\", \"acbd\", \"adcb\", \"cdba\", \"bcda\", \"badc\"]\n",
    "    print(getDistinctElements(arr))\n"
   ]
  },
  {
   "cell_type": "markdown",
   "metadata": {},
   "source": [
    "# Find k’th character of decrypted string"
   ]
  },
  {
   "cell_type": "markdown",
   "metadata": {},
   "source": [
    "Given an encoded string where repetitions of substrings are represented as substring followed by count of substrings. For example, if encrypted string is “ab2cd2” and k=4 , so output will be ‘b’ because decrypted string is “ababcdcd” and 4th character is ‘b’.\n",
    "Note: Frequency of encrypted substring can be of more than one digit. For example, in “ab12c3”, ab is repeated 12 times. No leading 0 is present in frequency of substring. "
   ]
  },
  {
   "cell_type": "markdown",
   "metadata": {},
   "source": [
    "Approach 1-> Decrypt the string and compute the result"
   ]
  },
  {
   "cell_type": "code",
   "execution_count": 2,
   "metadata": {},
   "outputs": [
    {
     "name": "stdout",
     "output_type": "stream",
     "text": [
      "e\n"
     ]
    }
   ],
   "source": [
    "def getKthElement(s,k):\n",
    "    n=len(s)\n",
    "    string=\"\"\n",
    "    temp=\"\"\n",
    "    for i in range(len(s)):\n",
    "        if s[i].isdigit():\n",
    "            number=0\n",
    "            j=i\n",
    "            while j<n and s[j].isdigit():\n",
    "                number=number*10+int(s[j])\n",
    "                j+=1\n",
    "            i=j-1 # because i will automatically increment in the for loop\n",
    "            string+=temp*number\n",
    "            temp=\"\"\n",
    "        else:\n",
    "            temp+=s[i]\n",
    "    # print(string)\n",
    "    return string[k-1]\n",
    "\n",
    "\n",
    "if __name__==\"__main__\":\n",
    "    # s=\"ab4c2ed3\"\n",
    "    # k=9\n",
    "    # s=\"a2b2c3\"\n",
    "    # k=5\n",
    "    s=\"ab4c12ed3\"\n",
    "    k=21\n",
    "    print(getKthElement(s,k))\n"
   ]
  },
  {
   "cell_type": "markdown",
   "metadata": {},
   "source": [
    "Another Solution is to keep track of the current length of the string, if somewhere this length becomes more than k then the result lies in the previous substring"
   ]
  },
  {
   "cell_type": "code",
   "execution_count": 3,
   "metadata": {},
   "outputs": [
    {
     "name": "stdout",
     "output_type": "stream",
     "text": [
      "c\n"
     ]
    }
   ],
   "source": [
    "def getKthElement(s,k):\n",
    "    temp=\"\"\n",
    "    count=0\n",
    "    n=len(s)\n",
    "    nodigit=True\n",
    "    for i in range(n):\n",
    "        if s[i].isdigit():\n",
    "            nodigit=False\n",
    "            j=i\n",
    "            num=0\n",
    "            while j<n and s[j].isdigit():\n",
    "                num=num*10+int(s[j])\n",
    "                j+=1\n",
    "            i=j-1\n",
    "            count=count+len(temp)*num\n",
    "            if count>=k:\n",
    "                index=len(temp)*num-(count-k)-1\n",
    "                return temp[index]\n",
    "            else:\n",
    "                temp=\"\"\n",
    "        else:\n",
    "            temp+=s[i]\n",
    "\n",
    "    if nodigit:\n",
    "        return temp[k-1]\n",
    "\n",
    "if __name__ == '__main__':\n",
    "    # s=\"ab4c2ed3\"\n",
    "    # k=9\n",
    "    s=\"a2b2c3\"\n",
    "    k=5\n",
    "    # s=\"abced\"\n",
    "    # k=4\n",
    "    print(getKthElement(s,k))\n"
   ]
  },
  {
   "cell_type": "markdown",
   "metadata": {},
   "source": [
    "# Count characters at same position as in English alphabet"
   ]
  },
  {
   "cell_type": "code",
   "execution_count": 4,
   "metadata": {},
   "outputs": [
    {
     "name": "stdout",
     "output_type": "stream",
     "text": [
      "3\n"
     ]
    }
   ],
   "source": [
    "def getCount(s):\n",
    "    s=s.lower()\n",
    "    count=0\n",
    "    for i in range(len(s)):\n",
    "        if (ord(s[i])-ord('a'))==i:\n",
    "            count+=1\n",
    "    return count\n",
    "\n",
    "\n",
    "if __name__==\"__main__\":\n",
    "    s=\"ABcED\"\n",
    "    print(getCount(s))"
   ]
  },
  {
   "cell_type": "markdown",
   "metadata": {},
   "source": [
    "# Count words in a given string"
   ]
  },
  {
   "cell_type": "markdown",
   "metadata": {},
   "source": [
    "Given a string, count number of words in it. The words are separated by following characters: space (‘ ‘) or new line (‘\\n’) or tab (‘\\t’) or a combination of these."
   ]
  },
  {
   "cell_type": "code",
   "execution_count": 5,
   "metadata": {},
   "outputs": [
    {
     "name": "stdout",
     "output_type": "stream",
     "text": [
      "5\n"
     ]
    }
   ],
   "source": [
    "def getNumberOfWords(s):\n",
    "    count=0\n",
    "    for i in range(len(s)):\n",
    "        if (s[i]==' ' or s[i]=='\\n' or s[i]=='\\t') and s[i-1].isalpha():\n",
    "            count+=1\n",
    "    print(count)\n",
    "\n",
    "if __name__ == '__main__':\n",
    "    s=\"One two         three\\n four\\tfive \"\n",
    "    getNumberOfWords(s)"
   ]
  },
  {
   "cell_type": "markdown",
   "metadata": {},
   "source": [
    "# Count of words whose i-th letter is either (i-1)-th, i-th, or (i+1)-th letter of given word"
   ]
  },
  {
   "cell_type": "markdown",
   "metadata": {},
   "source": [
    "Given a string str. The task is to count the words having the same length as str and each letter at the i-th position is either (i-1)-th, i-th, or (i+1)-th position letter of str.\n",
    "Note: For the first letter consider i-th and (i+1)-th position letter of W. And for last letter consider (i-1)-th and i-th position letter of str.m"
   ]
  },
  {
   "cell_type": "markdown",
   "metadata": {},
   "source": [
    "For any letter at index i, except first and last letter, there are three possible letter i.e (i-1)th, ith or (i+1)th letter of given words. So, if three of them are distinct, we have 3 possibilities. If two of them are same, we have 2 possibilities. And if all are same we have only 1 possibility. \n",
    "\n",
    "So, traverse the given words and find the possibility of each letter and multiply them.\n",
    "Similarly, for first letter check the distinct letter at first and second position. And for last position check the distinct letter at last and second last position."
   ]
  },
  {
   "cell_type": "code",
   "execution_count": 7,
   "metadata": {},
   "outputs": [
    {
     "name": "stdout",
     "output_type": "stream",
     "text": [
      "1\n"
     ]
    }
   ],
   "source": [
    "def getCountOfWords(s):\n",
    "\n",
    "    count=1\n",
    "    if len(s)==1:\n",
    "        return count\n",
    "    if s[0]==s[1]:\n",
    "        count*=1\n",
    "    else:\n",
    "        count*=2\n",
    "\n",
    "    for j in range(1,len(s)-1):\n",
    "        if s[j]==s[j-1] and s[j]==s[j+1]:\n",
    "            count*=1\n",
    "        elif s[j]==s[j-1] or s[j]==s[j+1] or s[j-1]==s[j+1]:\n",
    "            count*=2\n",
    "        else:\n",
    "            count*=3\n",
    "\n",
    "    if s[len(s)-1]==s[len(s)-2]:\n",
    "        count*=1\n",
    "    else:\n",
    "        count*=2\n",
    "\n",
    "    return count\n",
    "\n",
    "if __name__ == '__main__':\n",
    "    s=\"ab\"\n",
    "    s=\"x\"\n",
    "    print(getCountOfWords(s))\n"
   ]
  },
  {
   "cell_type": "markdown",
   "metadata": {},
   "source": [
    "# Program to find Smallest and Largest Word in a String"
   ]
  },
  {
   "cell_type": "markdown",
   "metadata": {},
   "source": [
    "Approach 1-> Traverse the string and check the length for each current word"
   ]
  },
  {
   "cell_type": "code",
   "execution_count": 1,
   "metadata": {},
   "outputs": [
    {
     "name": "stdout",
     "output_type": "stream",
     "text": [
      "('A', 'GeeksforGeeks')\n"
     ]
    }
   ],
   "source": [
    "def getSmallestLargest(s):\n",
    "    smallest=float('infinity')\n",
    "    largest=float('-infinity')\n",
    "    smallestWord=None\n",
    "    largestWord=None\n",
    "\n",
    "    currentLength=0\n",
    "    currentWord=\"\"\n",
    "    for i in range(len(s)):\n",
    "        if s[i]!=\" \":\n",
    "            currentLength+=1\n",
    "            currentWord+=s[i]\n",
    "        else:\n",
    "            if currentLength>largest:\n",
    "                largest=currentLength\n",
    "                largestWord=currentWord\n",
    "            if currentLength<smallest:\n",
    "                smallest=currentLength\n",
    "                smallestWord=currentWord\n",
    "            currentLength=0\n",
    "            currentWord=\"\"\n",
    "    if currentLength>largest:\n",
    "        largest=currentLength\n",
    "        largestWord=currentWord\n",
    "    if currentLength<smallest:\n",
    "        smallest=currentLength\n",
    "        smallestWord=currentWord\n",
    "\n",
    "    return (smallestWord,largestWord)\n",
    "\n",
    "if __name__==\"__main__\":\n",
    "    # s=\"This is a test string\"\n",
    "    s=\"GeeksforGeeks A computer Science portal for Geeks\"\n",
    "    result=getSmallestLargest(s)\n",
    "    print(result)\n"
   ]
  },
  {
   "cell_type": "markdown",
   "metadata": {},
   "source": [
    "Approach 2 -> Split it in a list and then check the lengths for all the elements in the array"
   ]
  },
  {
   "cell_type": "code",
   "execution_count": 2,
   "metadata": {},
   "outputs": [
    {
     "name": "stdout",
     "output_type": "stream",
     "text": [
      "Smallest Word is 'A' and Largest Word is 'GeeksforGeeks'\n"
     ]
    }
   ],
   "source": [
    "def getMinMaxWords(s):\n",
    "    s=s.split(\" \")\n",
    "    largestWord=None\n",
    "    smallestWord=None\n",
    "    maxLength=float('-infinity')\n",
    "    minLength=float('infinity')\n",
    "    for i in s:\n",
    "        if len(i)>maxLength:\n",
    "            maxLength=len(i)\n",
    "            largestWord=i\n",
    "        if len(i)<minLength:\n",
    "            minLength=len(i)\n",
    "            smallestWord=i\n",
    "\n",
    "    return (largestWord,smallestWord)\n",
    "\n",
    "if __name__ == '__main__':\n",
    "    # s=\"This is a test string\"\n",
    "    s=\"GeeksforGeeks A computer Science portal for Geeks\"\n",
    "    result=getMinMaxWords(s)\n",
    "    print(f\"Smallest Word is '{result[1]}' and Largest Word is '{result[0]}'\")\n"
   ]
  },
  {
   "cell_type": "markdown",
   "metadata": {},
   "source": [
    "# Count substrings with same first and last characters"
   ]
  },
  {
   "cell_type": "markdown",
   "metadata": {},
   "source": [
    "We are given a string S, we need to find count of all contiguous substrings starting and ending with same character."
   ]
  },
  {
   "cell_type": "markdown",
   "metadata": {},
   "source": [
    "Approach 1 -> Traverse the substrings using two loops and check for the same first and last characters and likewise increment te count"
   ]
  },
  {
   "cell_type": "markdown",
   "metadata": {},
   "source": [
    "Approach 2 -> The count depends upon the frequency of the characters in the original string. For example in string abcab, frequency of ‘a’ is 2 and substrings contributing to answer are a, abca and a respectively, a total of 3, which is calculated by (frequency of ‘a’+1)C2."
   ]
  },
  {
   "cell_type": "code",
   "execution_count": 3,
   "metadata": {},
   "outputs": [
    {
     "name": "stdout",
     "output_type": "stream",
     "text": [
      "7\n"
     ]
    }
   ],
   "source": [
    "def getCountOfSubstrings(s):\n",
    "    freq={}\n",
    "    for i in s:\n",
    "        if i in freq:\n",
    "            freq[i]+=1\n",
    "        else:\n",
    "            freq[i]=1\n",
    "\n",
    "    result=0\n",
    "    for i in freq:\n",
    "        result+=freq[i]*(freq[i]+1)//2\n",
    "    return result\n",
    "\n",
    "\n",
    "if __name__==\"__main__\":\n",
    "    s=\"abcab\"\n",
    "    print(getCountOfSubstrings(s))\n"
   ]
  },
  {
   "cell_type": "markdown",
   "metadata": {},
   "source": [
    "Time Complexity O(n)"
   ]
  },
  {
   "cell_type": "markdown",
   "metadata": {},
   "source": [
    "# Recursive solution to count substrings with same first and last characters"
   ]
  },
  {
   "cell_type": "code",
   "execution_count": 4,
   "metadata": {},
   "outputs": [
    {
     "name": "stdout",
     "output_type": "stream",
     "text": [
      "7\n"
     ]
    }
   ],
   "source": [
    "def getCountOfSubstrings(s,i,j,n):\n",
    "    if n==1:\n",
    "        return 1\n",
    "    if n<=0:\n",
    "        return 0\n",
    "    result=getCountOfSubstrings(s,i,j-1,n-1)+getCountOfSubstrings(s,i+1,j,n-1)-getCountOfSubstrings(s,i+1,j-1,n-2)\n",
    "\n",
    "    if s[i]==s[j]:\n",
    "        result+=1\n",
    "\n",
    "    return result\n",
    "\n",
    "if __name__ == '__main__':\n",
    "    s=\"abcab\"\n",
    "    print(getCountOfSubstrings(s,0,len(s)-1,len(s)))\n"
   ]
  },
  {
   "cell_type": "markdown",
   "metadata": {},
   "source": [
    "# Count of distinct substrings of a string"
   ]
  },
  {
   "cell_type": "markdown",
   "metadata": {},
   "source": [
    "Given a string of length n of lowercase alphabet characters, we need to count total number of distinct substrings of this string."
   ]
  },
  {
   "cell_type": "markdown",
   "metadata": {},
   "source": [
    "Approach 1 -> Using 2 loops"
   ]
  },
  {
   "cell_type": "code",
   "execution_count": 5,
   "metadata": {},
   "outputs": [
    {
     "name": "stdout",
     "output_type": "stream",
     "text": [
      "{'', 'bab', 'aba', 'ba', 'a', 'abab', 'ab', 'baba', 'ababa', 'b'}\n",
      "10\n"
     ]
    }
   ],
   "source": [
    "def getDistinctSubstrings(s):\n",
    "    hash=set()\n",
    "    for i in range(len(s)):\n",
    "        for j in range(i,len(s)+1):\n",
    "            hash.add(s[i:j])\n",
    "    print(hash)\n",
    "\n",
    "    return len(hash)\n",
    "\n",
    "if __name__ == '__main__':\n",
    "    s=\"ababa\"\n",
    "    print(getDistinctSubstrings(s))\n"
   ]
  },
  {
   "cell_type": "markdown",
   "metadata": {},
   "source": [
    "Time Complexity O(n^2) and Space Complexity O(d) where d is the unique count of the substrings"
   ]
  },
  {
   "cell_type": "markdown",
   "metadata": {},
   "source": [
    "# Efficient Approach -> Using Suffix Array TODO"
   ]
  },
  {
   "cell_type": "markdown",
   "metadata": {},
   "source": [
    "# Count of substrings of a binary string containing K ones"
   ]
  },
  {
   "cell_type": "markdown",
   "metadata": {},
   "source": [
    "Approach 1-> Check all substrings using 2 loops"
   ]
  },
  {
   "cell_type": "markdown",
   "metadata": {},
   "source": [
    "Approach 2-> Using Prefix Sum"
   ]
  },
  {
   "cell_type": "markdown",
   "metadata": {},
   "source": [
    "We first create a prefix sum array and loop over that and stop when sum value is greater than or equal to K. Now if sum at current index is (K + a) then we know that substring sum, from all those indices where sum is (a), till current index will be K, so count of indices having sum (a), will be added to result."
   ]
  },
  {
   "cell_type": "markdown",
   "metadata": {},
   "source": [
    "So we need to track two things, prefix sum and frequency of particular sum. In below code, instead of storing complete prefix sum, only prefix sum at current index is stored using one variable and frequency of sums in stored in an array. Total time complexity of solution is O(N).  "
   ]
  },
  {
   "cell_type": "code",
   "execution_count": 1,
   "metadata": {},
   "outputs": [
    {
     "name": "stdout",
     "output_type": "stream",
     "text": [
      "9\n"
     ]
    }
   ],
   "source": [
    "def getTotalSubstrings(s,k):\n",
    "    result=0\n",
    "    countOfOne=0\n",
    "    frequency=[0]*(len(s)+1)\n",
    "    frequency[0]=1\n",
    "    for i in range(len(s)):\n",
    "        countOfOne+=int(s[i])\n",
    "        if countOfOne>=k:\n",
    "            result+=frequency[countOfOne-k]\n",
    "        frequency[countOfOne]+=1\n",
    "    return result\n",
    "\n",
    "if __name__ == '__main__':\n",
    "    s=\"10010\"\n",
    "    k=1\n",
    "    print(getTotalSubstrings(s,k))\n"
   ]
  },
  {
   "cell_type": "markdown",
   "metadata": {},
   "source": [
    "# Group words with same set of characters"
   ]
  },
  {
   "cell_type": "markdown",
   "metadata": {},
   "source": [
    "Given a list of words with lower cases. Implement a function to find all Words that have the same unique character set ."
   ]
  },
  {
   "cell_type": "markdown",
   "metadata": {},
   "source": [
    "<pre>Example:  \n",
    "\n",
    "Input: words[] = { \"may\", \"student\", \"students\", \"dog\",\n",
    "                 \"studentssess\", \"god\", \"cat\", \"act\",\n",
    "                 \"tab\", \"bat\", \"flow\", \"wolf\", \"lambs\",\n",
    "                 \"amy\", \"yam\", \"balms\", \"looped\", \n",
    "                 \"poodle\"};\n",
    "Output : \n",
    "looped, poodle, \n",
    "lambs, balms, \n",
    "flow, wolf, \n",
    "tab, bat, \n",
    "may, amy, yam, \n",
    "student, students, studentssess, \n",
    "dog, god, \n",
    "cat, act, \n",
    "</pre>"
   ]
  },
  {
   "cell_type": "markdown",
   "metadata": {},
   "source": [
    "Approach -> Create a unique hash key for each word and group them"
   ]
  },
  {
   "cell_type": "code",
   "execution_count": 2,
   "metadata": {},
   "outputs": [
    {
     "name": "stdout",
     "output_type": "stream",
     "text": [
      "['may', 'amy', 'yam']\n",
      "['student', 'students', 'studentssess']\n",
      "['dog', 'god']\n",
      "['cat', 'act']\n",
      "['tab', 'bat']\n",
      "['flow', 'wolf']\n",
      "['lambs', 'balms']\n",
      "['looped', 'poodle']\n"
     ]
    }
   ],
   "source": [
    "def groupWords(words):\n",
    "    result={}\n",
    "    final=[]\n",
    "    for word in arr:\n",
    "        character=[0]*26\n",
    "        key=0\n",
    "        for i in word:\n",
    "            if character[ord(i)-ord('a')]==0:\n",
    "                character[ord(i)-ord('a')]+=1\n",
    "                key+=ord(i)-ord('a')\n",
    "        if key in result:\n",
    "            result[key].append(word)\n",
    "        else:\n",
    "            result[key]=[word]\n",
    "    for i in result:\n",
    "        final.append(result[i])\n",
    "    return final\n",
    "\n",
    "\n",
    "if __name__ == '__main__':\n",
    "    arr=[\"may\", \"student\", \"students\", \"dog\",\"studentssess\", \"god\", \"cat\", \"act\",\"tab\", \"bat\", \"flow\", \"wolf\", \"lambs\",\"amy\", \"yam\", \"balms\", \"looped\", \"poodle\"]\n",
    "    result=groupWords(arr)\n",
    "    for i in result:\n",
    "        print(i)\n"
   ]
  },
  {
   "cell_type": "markdown",
   "metadata": {},
   "source": [
    "Time Complexity O(n*k) where n is the total number of words and k is the length of the maximum words"
   ]
  },
  {
   "cell_type": "markdown",
   "metadata": {},
   "source": [
    "# Print all distinct characters of a string in order"
   ]
  },
  {
   "cell_type": "markdown",
   "metadata": {},
   "source": [
    "Approach 1 -> 2 loops"
   ]
  },
  {
   "cell_type": "markdown",
   "metadata": {},
   "source": [
    "Approach 2 -> Hashing + String Traversal"
   ]
  },
  {
   "cell_type": "code",
   "execution_count": 4,
   "metadata": {},
   "outputs": [
    {
     "name": "stdout",
     "output_type": "stream",
     "text": [
      "HoGks"
     ]
    }
   ],
   "source": [
    "def getDistinctCharacters(s):\n",
    "    hash=[0]*255\n",
    "    for i in range(len(s)):\n",
    "        if s[i]!=\" \":\n",
    "            hash[ord(s[i])]+=1\n",
    "    for i in s:\n",
    "        if hash[ord(i)]==1:\n",
    "            print(i,end=\"\")\n",
    "\n",
    "if __name__ == '__main__':\n",
    "    # s=\"Geeks for Geeks\"\n",
    "    s=\"Hello Geeks\"\n",
    "    getDistinctCharacters(s)\n"
   ]
  },
  {
   "cell_type": "markdown",
   "metadata": {},
   "source": [
    "Time Complexity O(n) and Space Complexity O(255)"
   ]
  },
  {
   "cell_type": "markdown",
   "metadata": {},
   "source": [
    "Approach 3-> Hashing + 2 Traversals"
   ]
  },
  {
   "cell_type": "code",
   "execution_count": 5,
   "metadata": {},
   "outputs": [
    {
     "name": "stdout",
     "output_type": "stream",
     "text": [
      "HoGks"
     ]
    }
   ],
   "source": [
    "def printDistinct(s):\n",
    "    # s=s.lower()\n",
    "    count=[0]*255\n",
    "    index=[len(s)]*255\n",
    "    for i in range(len(s)):\n",
    "        if s[i]!=' ':\n",
    "            count[ord(s[i])]+=1\n",
    "            if count[ord(s[i])]==1:\n",
    "                index[ord(s[i])]=i\n",
    "            if count[ord(s[i])]==2:\n",
    "                index[ord(s[i])]=len(s)\n",
    "    index.sort()\n",
    "    for i in index:\n",
    "        if i==len(s):\n",
    "            break\n",
    "        print(s[i],end=\"\")\n",
    "\n",
    "\n",
    "if __name__ == '__main__':\n",
    "    # s=\"Geeksforgeeks\"\n",
    "    s=\"Hello Geeks\"\n",
    "    printDistinct(s)\n"
   ]
  },
  {
   "cell_type": "markdown",
   "metadata": {},
   "source": [
    "# Print common characters of two Strings in alphabetical order"
   ]
  },
  {
   "cell_type": "markdown",
   "metadata": {},
   "source": [
    "Approach -> Use of hashmap and character array"
   ]
  },
  {
   "cell_type": "code",
   "execution_count": 6,
   "metadata": {},
   "outputs": [
    {
     "name": "stdout",
     "output_type": "stream",
     "text": [
      "hhh\n"
     ]
    }
   ],
   "source": [
    "def getCommonCharacters(s1,s2):\n",
    "    hash={}\n",
    "    for i in s1:\n",
    "        if i in hash:\n",
    "            hash[i]+=1\n",
    "        else:\n",
    "            hash[i]=1\n",
    "    result=[0]*255\n",
    "    for i in s2:\n",
    "        if i in hash:\n",
    "            if hash[i]>0:\n",
    "                result[ord(i)]+=1\n",
    "                hash[i]-=1\n",
    "    s=\"\"\n",
    "    for i in range(255):\n",
    "        if result[i]>0:\n",
    "            s+=chr(i)*result[i]\n",
    "\n",
    "    return s\n",
    "\n",
    "if __name__ == '__main__':\n",
    "    # s1=\"geeks\"\n",
    "    # s2=\"forgeeks\"\n",
    "    s1=\"hhhhhello\"\n",
    "    s2=\"gfghhmh\"\n",
    "    print(getCommonCharacters(s1,s2))\n"
   ]
  },
  {
   "cell_type": "markdown",
   "metadata": {},
   "source": [
    "Time Complexity O(n1+n2) "
   ]
  },
  {
   "cell_type": "markdown",
   "metadata": {},
   "source": [
    "# Common characters in n strings"
   ]
  },
  {
   "cell_type": "markdown",
   "metadata": {},
   "source": [
    "Approach -> Use 2 character array, process one string at a time and check the min count of those characters "
   ]
  },
  {
   "cell_type": "code",
   "execution_count": 7,
   "metadata": {},
   "outputs": [
    {
     "name": "stdout",
     "output_type": "stream",
     "text": [
      "ae\n"
     ]
    }
   ],
   "source": [
    "def getCommonCharacters(arr):\n",
    "    characters=[0]*255\n",
    "    for i in arr[0]:\n",
    "        characters[ord(i)]+=1\n",
    "    for i in range(1,len(arr)):\n",
    "        characters_i=[0]*255\n",
    "        for j in arr[i]:\n",
    "            characters_i[ord(j)]+=1\n",
    "            # characters[k]=min(characters[k],characters_i[k])\n",
    "        for k in range(255):\n",
    "            characters[k]=min(characters[k],characters_i[k])\n",
    "    result=\"\"\n",
    "    for k in range(255):\n",
    "        if characters[k]>0:\n",
    "            result+=chr(k)\n",
    "    return result\n",
    "\n",
    "if __name__ == '__main__':\n",
    "    # arr=[\"geeksforgeeks\",\"gemkstones\",\"acknowledges\",\"aguelikes\"]\n",
    "    arr=[\"apple\",\"orange\"]\n",
    "    print(getCommonCharacters(arr))\n"
   ]
  },
  {
   "cell_type": "markdown",
   "metadata": {},
   "source": [
    "# Find uncommon characters of the two strings"
   ]
  },
  {
   "cell_type": "code",
   "execution_count": 8,
   "metadata": {},
   "outputs": [
    {
     "name": "stdout",
     "output_type": "stream",
     "text": [
      "fioqruz\n"
     ]
    }
   ],
   "source": [
    "def getUncommonCharacters(s1,s2):\n",
    "    characters=[0]*26\n",
    "    for i in s1:\n",
    "        characters[ord(i)-ord('a')]=1\n",
    "    for i in s2:\n",
    "        if characters[ord(i)-ord('a')]==1:\n",
    "            characters[ord(i)-ord('a')]=2\n",
    "        elif characters[ord(i)-ord('a')]!=2:\n",
    "            characters[ord(i)-ord('a')]=1\n",
    "    result=''\n",
    "    for i in range(26):\n",
    "        if characters[i]==1:\n",
    "            result+=chr(i+ord('a'))\n",
    "    return result\n",
    "\n",
    "\n",
    "if __name__ == '__main__':\n",
    "    # s1=\"characters\"\n",
    "    # s2=\"alphabets\"\n",
    "    s1=\"geeksforgeeks\"\n",
    "    s2=\"geeksquiz\"\n",
    "    print(getUncommonCharacters(s1,s2))\n"
   ]
  },
  {
   "cell_type": "code",
   "execution_count": null,
   "metadata": {},
   "outputs": [],
   "source": []
  }
 ],
 "metadata": {
  "kernelspec": {
   "display_name": "Python 3",
   "language": "python",
   "name": "python3"
  },
  "language_info": {
   "codemirror_mode": {
    "name": "ipython",
    "version": 3
   },
   "file_extension": ".py",
   "mimetype": "text/x-python",
   "name": "python",
   "nbconvert_exporter": "python",
   "pygments_lexer": "ipython3",
   "version": "3.7.6"
  }
 },
 "nbformat": 4,
 "nbformat_minor": 4
}

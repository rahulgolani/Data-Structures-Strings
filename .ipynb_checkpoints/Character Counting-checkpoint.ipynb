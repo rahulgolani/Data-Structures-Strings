{
 "cells": [
  {
   "cell_type": "markdown",
   "metadata": {},
   "source": [
    "# Find the smallest window in a string containing all characters of another string"
   ]
  },
  {
   "cell_type": "markdown",
   "metadata": {},
   "source": [
    "Given two strings string1 and string2, the task is to find the smallest substring in string1 containing all characters of string2 efficiently. "
   ]
  },
  {
   "cell_type": "markdown",
   "metadata": {},
   "source": [
    "Naive Solution is to check for all the substrings and keep track of the minimum length string that satisfies all the requirements"
   ]
  },
  {
   "cell_type": "markdown",
   "metadata": {},
   "source": [
    "Efficient Solution -> To find the first solution and then try to optimize it by trying to remove some elements from the start so that it satisifies the requirement"
   ]
  },
  {
   "cell_type": "markdown",
   "metadata": {},
   "source": [
    "First check if the length of the string is less than the length of the given pattern, if yes then “no such window can exist “.\n",
    "\n",
    "Store the occurrence of characters of the given pattern in a hash_pat[].\n",
    "\n",
    "we will be using two pointer technique basically\n",
    "\n",
    "Start matching the characters of pattern with the characters of string i.e. increment count if a character matches.\n",
    "\n",
    "Check if (count == length of pattern ) this means a window is found.\n",
    "\n",
    "If such a window found, try to minimize it by removing extra characters from the beginning of the current window.\n",
    "\n",
    "delete one character from first and again find this deleted key at right, once found apply step 5 .\n",
    "\n",
    "Update min_length.\n",
    "\n",
    "Print the minimum length window."
   ]
  },
  {
   "cell_type": "code",
   "execution_count": 1,
   "metadata": {},
   "outputs": [
    {
     "name": "stdout",
     "output_type": "stream",
     "text": [
      "t stri\n"
     ]
    }
   ],
   "source": [
    "def getSmallestWindow(s,p):\n",
    "    n1=len(s)\n",
    "    n2=len(p)\n",
    "\n",
    "    if n1<n2:\n",
    "        return \"No Such Window Found\"\n",
    "\n",
    "    hashStr=[0]*256\n",
    "    hashPat=[0]*256\n",
    "\n",
    "    for i in range(n2):\n",
    "        hashPat[ord(p[i])]+=1\n",
    "    count=0\n",
    "    start=0\n",
    "    start_index=-1\n",
    "    min_len=float('infinity')\n",
    "\n",
    "    for i in range(0,n1):\n",
    "        hashStr[ord(s[i])]+=1\n",
    "        if hashPat[ord(s[i])]!=0 and hashStr[ord(s[i])]<=hashPat[ord(s[i])]:\n",
    "            count+=1\n",
    "\n",
    "        if count==n2:\n",
    "            while hashPat[ord(s[start])]==0 or hashStr[ord(s[start])]>hashPat[ord(s[start])]:\n",
    "                if hashStr[ord(s[start])]>hashPat[ord(s[start])]:\n",
    "                    hashStr[ord(s[start])]-=1\n",
    "                start+=1\n",
    "            len_window=i-start+1\n",
    "            if min_len>len_window:\n",
    "                min_len=len_window\n",
    "                start_index=start\n",
    "\n",
    "    if start_index!=-1:\n",
    "        return s[start_index:start_index+min_len]\n",
    "    return \"No such window found\"\n",
    "\n",
    "if __name__==\"__main__\":\n",
    "    s=\"this is a test string\"\n",
    "    pattern=\"tist\"\n",
    "    # s=\"geeksforgeeks\"\n",
    "    # pattern=\"ork\"\n",
    "    print(getSmallestWindow(s,pattern))\n"
   ]
  },
  {
   "cell_type": "markdown",
   "metadata": {},
   "source": [
    "# Smallest window that contains all characters of string itself"
   ]
  },
  {
   "cell_type": "markdown",
   "metadata": {},
   "source": [
    "Given a string, find the smallest window length with all distinct characters of the given string. For eg. str = “aabcbcdbca”, then the result would be 4 as of the smallest window will be “dbca” ."
   ]
  },
  {
   "cell_type": "markdown",
   "metadata": {},
   "source": [
    "Same Approach as above but here pattern will be same as the string and here we need to have only unique characters in the window not all the characters"
   ]
  },
  {
   "cell_type": "code",
   "execution_count": 2,
   "metadata": {},
   "outputs": [
    {
     "name": "stdout",
     "output_type": "stream",
     "text": [
      "dbca\n"
     ]
    }
   ],
   "source": [
    "def getSmallestWindow(s):\n",
    "    n1=len(s)\n",
    "    hashMap={}\n",
    "    n2=0\n",
    "    for i in s:\n",
    "        if i not in hashMap:\n",
    "            hashMap[i]=1\n",
    "            n2+=1\n",
    "    count=0\n",
    "    start_index=-1\n",
    "    start=0\n",
    "    min_len=float('infinity')\n",
    "\n",
    "    hashStr=[0]*256\n",
    "\n",
    "    for i in range(n1):\n",
    "        hashStr[ord(s[i])]+=1\n",
    "\n",
    "        if hashStr[ord(s[i])]==1:\n",
    "            count+=1\n",
    "\n",
    "        if count==n2:\n",
    "            while hashStr[ord(s[start])]>1:\n",
    "                hashStr[ord(s[start])]-=1\n",
    "                start+=1\n",
    "\n",
    "            len_window=i-start+1\n",
    "\n",
    "            if len_window<min_len:\n",
    "                min_len=len_window\n",
    "                start_index=start\n",
    "\n",
    "    if start_index!=-1:\n",
    "        return s[start_index:start_index+min_len]\n",
    "    return \"No Window Found\"\n",
    "\n",
    "if __name__ == '__main__':\n",
    "    s=\"aabcbcdbca\"\n",
    "    # s=\"aaab\"\n",
    "    # s=\"AABBBCBB\"\n",
    "    # s=\"GEEKSGEEKSFOR\"\n",
    "    print(getSmallestWindow(s))\n"
   ]
  },
  {
   "cell_type": "markdown",
   "metadata": {},
   "source": [
    "# Count number of substrings with exactly k distinct characters"
   ]
  },
  {
   "cell_type": "markdown",
   "metadata": {},
   "source": [
    "Approach -> Traverse the substring and check for the distinct elements while traversing"
   ]
  },
  {
   "cell_type": "code",
   "execution_count": 3,
   "metadata": {},
   "outputs": [
    {
     "name": "stdout",
     "output_type": "stream",
     "text": [
      "4\n"
     ]
    }
   ],
   "source": [
    "def getSubstrings(s,k):\n",
    "    n=len(s)\n",
    "    count=0\n",
    "    for i in range(n):\n",
    "        hash={}\n",
    "        disEle=0\n",
    "        for j in range(i,n):\n",
    "            if s[j] in hash:\n",
    "                hash[s[j]]+=1\n",
    "            else:\n",
    "                hash[s[j]]=1\n",
    "                disEle+=1\n",
    "            if disEle==k:\n",
    "                count+=1\n",
    "            if disEle>k:\n",
    "                \n",
    "                break\n",
    "    return count\n",
    "\n",
    "                \n",
    "if __name__==\"__main__\":\n",
    "    s=\"abcde\"\n",
    "    k=2\n",
    "    print(getSubstrings(s,k))"
   ]
  },
  {
   "cell_type": "markdown",
   "metadata": {},
   "source": [
    "# Number of substrings with count of each character as k"
   ]
  },
  {
   "cell_type": "markdown",
   "metadata": {},
   "source": [
    "Given a string and an integer k, find number of substrings in which all the different characters occurs exactly k times. "
   ]
  },
  {
   "cell_type": "markdown",
   "metadata": {},
   "source": [
    "Approach -> Traverse through the strings and maintain the frequencies and the mismatch count"
   ]
  },
  {
   "cell_type": "code",
   "execution_count": 5,
   "metadata": {},
   "outputs": [
    {
     "name": "stdout",
     "output_type": "stream",
     "text": [
      "3\n"
     ]
    }
   ],
   "source": [
    "def getSubstringsCount(s,k):\n",
    "    result=0\n",
    "    n=len(s)\n",
    "    for i in range(n):\n",
    "        hash={}\n",
    "        mismatch=0\n",
    "        for j in range(i,n):\n",
    "            if s[j] in hash:\n",
    "                hash[s[j]]+=1\n",
    "                if hash[s[j]]>k:\n",
    "                    break\n",
    "                if hash[s[j]]!=k:\n",
    "                    mismatch+=1\n",
    "                else:\n",
    "                    mismatch-=1\n",
    "            else:\n",
    "                hash[s[j]]=1\n",
    "                if k!=1:\n",
    "                    mismatch+=1\n",
    "            if mismatch==0:\n",
    "                result+=1\n",
    "    return result\n",
    "\n",
    "if __name__==\"__main__\":\n",
    "    # s=\"aabbcc\"\n",
    "    s=\"aabccc\"\n",
    "    k=2\n",
    "    print(getSubstringsCount(s,k))"
   ]
  },
  {
   "cell_type": "markdown",
   "metadata": {},
   "source": [
    "# String with k distinct characters and no same characters adjacent"
   ]
  },
  {
   "cell_type": "markdown",
   "metadata": {},
   "source": [
    "Given N and K, print a string that has n characters. The string should have exactly k distinct characters and no adjacent positions."
   ]
  },
  {
   "cell_type": "markdown",
   "metadata": {},
   "source": [
    "Aprpoach -> Modular Arithmetic"
   ]
  },
  {
   "cell_type": "code",
   "execution_count": 6,
   "metadata": {},
   "outputs": [
    {
     "name": "stdout",
     "output_type": "stream",
     "text": [
      "aba\n"
     ]
    }
   ],
   "source": [
    "def getString(n,k):\n",
    "    result=\"\"\n",
    "    i=0\n",
    "    for _ in range(n):\n",
    "        result+=chr(i+ord('a'))\n",
    "        i=(i+1)%k\n",
    "    return result\n",
    "\n",
    "if __name__ == '__main__':\n",
    "    # n=5\n",
    "    # k=3\n",
    "    n=3\n",
    "    k=2\n",
    "    print(getString(n,k))\n"
   ]
  },
  {
   "cell_type": "markdown",
   "metadata": {},
   "source": [
    "# Distinct strings with odd and even changes allowed"
   ]
  },
  {
   "cell_type": "markdown",
   "metadata": {},
   "source": [
    "Given an array of lower case strings, the task is to find the number of strings that are distinct. Two strings are distinct if on applying the following operations on one string the second string cannot be formed.\n",
    "\n",
    "A character on odd index can be swapped with another character at odd index only.\n",
    "\n",
    "A character on even index can be swapped with another character on even index only."
   ]
  },
  {
   "cell_type": "markdown",
   "metadata": {},
   "source": [
    "Approach->\n",
    "\n",
    "Generate an encoded string for every input string. The encoded has counts of even and odd positioned characters separated by a separator. Two strings are considered distinct if their encoded strings are same else not. Once we have a way to encode string, the problem reduces to counting distinct encoded strings. This is a typical problem of hashing. We create hash set and one by one store encodings of strings. If an encoding already exists, we ignore string. Else we store encoding in hash and increment count of distinct strings."
   ]
  },
  {
   "cell_type": "code",
   "execution_count": 1,
   "metadata": {},
   "outputs": [
    {
     "name": "stdout",
     "output_type": "stream",
     "text": [
      "2\n"
     ]
    }
   ],
   "source": [
    "def encoding(s):\n",
    "    evenHash=[0]*26\n",
    "    oddHash=[0]*26\n",
    "\n",
    "    for i in range(len(s)):\n",
    "        if i&1:\n",
    "            oddHash[ord(s[i])-ord('a')]+=1\n",
    "        else:\n",
    "            evenHash[ord(s[i])-ord('a')]+=1\n",
    "\n",
    "    encoding=\"\"\n",
    "    for i in range(26):\n",
    "        encoding+=str(evenHash[i])\n",
    "        encoding+=str(oddHash[i])\n",
    "    # print(f\"{s} -> {encoding}\")\n",
    "    return encoding\n",
    "\n",
    "\n",
    "def getDistinctElements(arr):\n",
    "    hash=set()\n",
    "    count=0\n",
    "    for i in arr:\n",
    "        temp=encoding(i)\n",
    "        if temp not in hash:\n",
    "            hash.add(temp)\n",
    "            count+=1\n",
    "    return count\n",
    "\n",
    "\n",
    "if __name__==\"__main__\":\n",
    "    arr=[\"abcd\", \"cbad\", \"bacd\"]\n",
    "    # arr=[\"abc\", \"cba\"]\n",
    "    # arr=[\"abcd\", \"acbd\", \"adcb\", \"cdba\", \"bcda\", \"badc\"]\n",
    "    print(getDistinctElements(arr))\n"
   ]
  },
  {
   "cell_type": "markdown",
   "metadata": {},
   "source": [
    "# Find k’th character of decrypted string"
   ]
  },
  {
   "cell_type": "markdown",
   "metadata": {},
   "source": [
    "Given an encoded string where repetitions of substrings are represented as substring followed by count of substrings. For example, if encrypted string is “ab2cd2” and k=4 , so output will be ‘b’ because decrypted string is “ababcdcd” and 4th character is ‘b’.\n",
    "Note: Frequency of encrypted substring can be of more than one digit. For example, in “ab12c3”, ab is repeated 12 times. No leading 0 is present in frequency of substring. "
   ]
  },
  {
   "cell_type": "markdown",
   "metadata": {},
   "source": [
    "Approach 1-> Decrypt the string and compute the result"
   ]
  },
  {
   "cell_type": "code",
   "execution_count": 2,
   "metadata": {},
   "outputs": [
    {
     "name": "stdout",
     "output_type": "stream",
     "text": [
      "e\n"
     ]
    }
   ],
   "source": [
    "def getKthElement(s,k):\n",
    "    n=len(s)\n",
    "    string=\"\"\n",
    "    temp=\"\"\n",
    "    for i in range(len(s)):\n",
    "        if s[i].isdigit():\n",
    "            number=0\n",
    "            j=i\n",
    "            while j<n and s[j].isdigit():\n",
    "                number=number*10+int(s[j])\n",
    "                j+=1\n",
    "            i=j-1 # because i will automatically increment in the for loop\n",
    "            string+=temp*number\n",
    "            temp=\"\"\n",
    "        else:\n",
    "            temp+=s[i]\n",
    "    # print(string)\n",
    "    return string[k-1]\n",
    "\n",
    "\n",
    "if __name__==\"__main__\":\n",
    "    # s=\"ab4c2ed3\"\n",
    "    # k=9\n",
    "    # s=\"a2b2c3\"\n",
    "    # k=5\n",
    "    s=\"ab4c12ed3\"\n",
    "    k=21\n",
    "    print(getKthElement(s,k))\n"
   ]
  },
  {
   "cell_type": "markdown",
   "metadata": {},
   "source": [
    "Another Solution is to keep track of the current length of the string, if somewhere this length becomes more than k then the result lies in the previous substring"
   ]
  },
  {
   "cell_type": "code",
   "execution_count": 3,
   "metadata": {},
   "outputs": [
    {
     "name": "stdout",
     "output_type": "stream",
     "text": [
      "c\n"
     ]
    }
   ],
   "source": [
    "def getKthElement(s,k):\n",
    "    temp=\"\"\n",
    "    count=0\n",
    "    n=len(s)\n",
    "    nodigit=True\n",
    "    for i in range(n):\n",
    "        if s[i].isdigit():\n",
    "            nodigit=False\n",
    "            j=i\n",
    "            num=0\n",
    "            while j<n and s[j].isdigit():\n",
    "                num=num*10+int(s[j])\n",
    "                j+=1\n",
    "            i=j-1\n",
    "            count=count+len(temp)*num\n",
    "            if count>=k:\n",
    "                index=len(temp)*num-(count-k)-1\n",
    "                return temp[index]\n",
    "            else:\n",
    "                temp=\"\"\n",
    "        else:\n",
    "            temp+=s[i]\n",
    "\n",
    "    if nodigit:\n",
    "        return temp[k-1]\n",
    "\n",
    "if __name__ == '__main__':\n",
    "    # s=\"ab4c2ed3\"\n",
    "    # k=9\n",
    "    s=\"a2b2c3\"\n",
    "    k=5\n",
    "    # s=\"abced\"\n",
    "    # k=4\n",
    "    print(getKthElement(s,k))\n"
   ]
  },
  {
   "cell_type": "code",
   "execution_count": null,
   "metadata": {},
   "outputs": [],
   "source": []
  }
 ],
 "metadata": {
  "kernelspec": {
   "display_name": "Python 3",
   "language": "python",
   "name": "python3"
  },
  "language_info": {
   "codemirror_mode": {
    "name": "ipython",
    "version": 3
   },
   "file_extension": ".py",
   "mimetype": "text/x-python",
   "name": "python",
   "nbconvert_exporter": "python",
   "pygments_lexer": "ipython3",
   "version": "3.7.6"
  }
 },
 "nbformat": 4,
 "nbformat_minor": 4
}

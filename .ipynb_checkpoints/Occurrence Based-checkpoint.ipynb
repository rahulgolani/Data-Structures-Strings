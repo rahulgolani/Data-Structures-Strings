{
 "cells": [
  {
   "cell_type": "markdown",
   "metadata": {},
   "source": [
    "# Find first non-repeating character"
   ]
  },
  {
   "cell_type": "markdown",
   "metadata": {},
   "source": [
    "Approach 1 -> Run 2 loops and check if the character is repeating itself, exclude the same index"
   ]
  },
  {
   "cell_type": "markdown",
   "metadata": {},
   "source": [
    "Approach 2-> Hashing + 2 Traversals"
   ]
  },
  {
   "cell_type": "code",
   "execution_count": 1,
   "metadata": {},
   "outputs": [
    {
     "name": "stdout",
     "output_type": "stream",
     "text": [
      "f\n"
     ]
    }
   ],
   "source": [
    "def getFirstNonRepeatingCharacter(s):\n",
    "    hash={}\n",
    "    for i in s:\n",
    "        if i in hash:\n",
    "            hash[i]+=1\n",
    "        else:\n",
    "            hash[i]=1\n",
    "    for i in s:\n",
    "        if hash[i]==1:\n",
    "            return i\n",
    "\n",
    "if __name__ == '__main__':\n",
    "    s=\"geeksforgeeks\"\n",
    "    print(getFirstNonRepeatingCharacter(s))\n"
   ]
  },
  {
   "cell_type": "markdown",
   "metadata": {},
   "source": [
    "Approach 3-> Hashing + Single Traversal"
   ]
  },
  {
   "cell_type": "code",
   "execution_count": 2,
   "metadata": {},
   "outputs": [
    {
     "name": "stdout",
     "output_type": "stream",
     "text": [
      "f\n"
     ]
    }
   ],
   "source": [
    "def getFirstNonRepeatingCharacter(s):\n",
    "    hash={}\n",
    "    for i in range(len(s)):\n",
    "        if s[i] in hash:\n",
    "            hash[s[i]][0]+=1\n",
    "        else:\n",
    "            hash[s[i]]=[1,i]\n",
    "    # print(hash)\n",
    "    result=[None,float('infinity')]\n",
    "    for i in hash:\n",
    "        if hash[i][0]==1:\n",
    "            if hash[i][1]<result[1]:\n",
    "                result[0]=i\n",
    "                result[1]=hash[i][1]\n",
    "    return result[0]\n",
    "\n",
    "if __name__ == '__main__':\n",
    "    s=\"geeksforgeeks\"\n",
    "    print(getFirstNonRepeatingCharacter(s))\n"
   ]
  },
  {
   "cell_type": "markdown",
   "metadata": {},
   "source": [
    "Time Complexity O(n) and Space Complexity O(n)"
   ]
  },
  {
   "cell_type": "markdown",
   "metadata": {},
   "source": [
    "# Print all permutations with repetition of characters"
   ]
  },
  {
   "cell_type": "markdown",
   "metadata": {},
   "source": [
    "The idea is to fix the first character at first index and recursively call for other subsequent indexes. Once all permutations starting with the first character are printed, fix the second character at first index. Continue these steps till last character.\n",
    "\n",
    "Sort the string if we need to get the permutations in lexicographical order"
   ]
  },
  {
   "cell_type": "code",
   "execution_count": 3,
   "metadata": {},
   "outputs": [
    {
     "name": "stdout",
     "output_type": "stream",
     "text": [
      "AAA\n",
      "AAB\n",
      "AAC\n",
      "ABA\n",
      "ABB\n",
      "ABC\n",
      "ACA\n",
      "ACB\n",
      "ACC\n",
      "BAA\n",
      "BAB\n",
      "BAC\n",
      "BBA\n",
      "BBB\n",
      "BBC\n",
      "BCA\n",
      "BCB\n",
      "BCC\n",
      "CAA\n",
      "CAB\n",
      "CAC\n",
      "CBA\n",
      "CBB\n",
      "CBC\n",
      "CCA\n",
      "CCB\n",
      "CCC\n"
     ]
    }
   ],
   "source": [
    "def getPermutationsUtil(s,curr,index):\n",
    "    if index==len(s):\n",
    "        print(curr)\n",
    "        return\n",
    "\n",
    "    for i in range(len(s)):\n",
    "        curr+=s[i]\n",
    "        getPermutationsUtil(s,curr,index+1)\n",
    "        curr=curr[:len(curr)-1]\n",
    "\n",
    "\n",
    "def getPermutations(s):\n",
    "    s=sorted(s)\n",
    "    getPermutationsUtil(s,\"\",0)\n",
    "\n",
    "if __name__ == '__main__':\n",
    "    s=\"CBA\"\n",
    "    getPermutations(s)\n"
   ]
  },
  {
   "cell_type": "code",
   "execution_count": null,
   "metadata": {},
   "outputs": [],
   "source": []
  }
 ],
 "metadata": {
  "kernelspec": {
   "display_name": "Python 3",
   "language": "python",
   "name": "python3"
  },
  "language_info": {
   "codemirror_mode": {
    "name": "ipython",
    "version": 3
   },
   "file_extension": ".py",
   "mimetype": "text/x-python",
   "name": "python",
   "nbconvert_exporter": "python",
   "pygments_lexer": "ipython3",
   "version": "3.7.6"
  }
 },
 "nbformat": 4,
 "nbformat_minor": 4
}

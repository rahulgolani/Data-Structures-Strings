{
 "cells": [
  {
   "cell_type": "markdown",
   "metadata": {},
   "source": [
    "# Find first non-repeating character"
   ]
  },
  {
   "cell_type": "markdown",
   "metadata": {},
   "source": [
    "Approach 1 -> Run 2 loops and check if the character is repeating itself, exclude the same index"
   ]
  },
  {
   "cell_type": "markdown",
   "metadata": {},
   "source": [
    "Approach 2-> Hashing + 2 Traversals"
   ]
  },
  {
   "cell_type": "code",
   "execution_count": 1,
   "metadata": {},
   "outputs": [
    {
     "name": "stdout",
     "output_type": "stream",
     "text": [
      "f\n"
     ]
    }
   ],
   "source": [
    "def getFirstNonRepeatingCharacter(s):\n",
    "    hash={}\n",
    "    for i in s:\n",
    "        if i in hash:\n",
    "            hash[i]+=1\n",
    "        else:\n",
    "            hash[i]=1\n",
    "    for i in s:\n",
    "        if hash[i]==1:\n",
    "            return i\n",
    "\n",
    "if __name__ == '__main__':\n",
    "    s=\"geeksforgeeks\"\n",
    "    print(getFirstNonRepeatingCharacter(s))\n"
   ]
  },
  {
   "cell_type": "markdown",
   "metadata": {},
   "source": [
    "Approach 3-> Hashing + Single Traversal"
   ]
  },
  {
   "cell_type": "code",
   "execution_count": 2,
   "metadata": {},
   "outputs": [
    {
     "name": "stdout",
     "output_type": "stream",
     "text": [
      "f\n"
     ]
    }
   ],
   "source": [
    "def getFirstNonRepeatingCharacter(s):\n",
    "    hash={}\n",
    "    for i in range(len(s)):\n",
    "        if s[i] in hash:\n",
    "            hash[s[i]][0]+=1\n",
    "        else:\n",
    "            hash[s[i]]=[1,i]\n",
    "    # print(hash)\n",
    "    result=[None,float('infinity')]\n",
    "    for i in hash:\n",
    "        if hash[i][0]==1:\n",
    "            if hash[i][1]<result[1]:\n",
    "                result[0]=i\n",
    "                result[1]=hash[i][1]\n",
    "    return result[0]\n",
    "\n",
    "if __name__ == '__main__':\n",
    "    s=\"geeksforgeeks\"\n",
    "    print(getFirstNonRepeatingCharacter(s))\n"
   ]
  },
  {
   "cell_type": "markdown",
   "metadata": {},
   "source": [
    "Time Complexity O(n) and Space Complexity O(n)"
   ]
  },
  {
   "cell_type": "markdown",
   "metadata": {},
   "source": [
    "# Print all permutations with repetition of characters"
   ]
  },
  {
   "cell_type": "markdown",
   "metadata": {},
   "source": [
    "The idea is to fix the first character at first index and recursively call for other subsequent indexes. Once all permutations starting with the first character are printed, fix the second character at first index. Continue these steps till last character.\n",
    "\n",
    "Sort the string if we need to get the permutations in lexicographical order"
   ]
  },
  {
   "cell_type": "code",
   "execution_count": 4,
   "metadata": {},
   "outputs": [
    {
     "name": "stdout",
     "output_type": "stream",
     "text": [
      "AAA\n",
      "AAB\n",
      "AAC\n",
      "ABA\n",
      "ABB\n",
      "ABC\n",
      "ACA\n",
      "ACB\n",
      "ACC\n",
      "BAA\n",
      "BAB\n",
      "BAC\n",
      "BBA\n",
      "BBB\n",
      "BBC\n",
      "BCA\n",
      "BCB\n",
      "BCC\n",
      "CAA\n",
      "CAB\n",
      "CAC\n",
      "CBA\n",
      "CBB\n",
      "CBC\n",
      "CCA\n",
      "CCB\n",
      "CCC\n"
     ]
    }
   ],
   "source": [
    "def getPermutationsUtil(s,curr,index):\n",
    "    if index==len(s):\n",
    "        print(curr)\n",
    "        return\n",
    "\n",
    "    for i in range(len(s)):\n",
    "        curr+=s[i]\n",
    "        getPermutationsUtil(s,curr,index+1)\n",
    "        curr=curr[:len(curr)-1]\n",
    "\n",
    "\n",
    "def getPermutations(s):\n",
    "    s=sorted(s)\n",
    "    getPermutationsUtil(s,\"\",0)\n",
    "\n",
    "if __name__ == '__main__':\n",
    "    s=\"CBA\"\n",
    "    getPermutations(s)\n"
   ]
  },
  {
   "cell_type": "markdown",
   "metadata": {},
   "source": [
    "# Find the first non-repeating character from a stream of characters"
   ]
  },
  {
   "cell_type": "markdown",
   "metadata": {},
   "source": [
    "The idea is to use a DLL (Doubly Linked List) to efficiently get the first non-repeating character from a stream. The DLL contains all non-repeating characters in order, i.e., the head of DLL contains first non-repeating character, the second node contains the second non-repeating and so on. \n",
    "\n",
    "We also maintain two arrays: one array is to maintain characters that are already visited two or more times, we call it repeated[], the other array is an array of pointers to linked list nodes, we call it inDLL[]. The size of both arrays is equal to alphabet size which is typically 256.\n",
    " \n",
    "\n",
    "Create an empty DLL. Also create two arrays inDLL[] and repeated[] of size 256. inDLL is an array of pointers to DLL nodes. repeated[] is a boolean array, repeated[x] is true if x is repeated two or more times, otherwise false. inDLL[x] contains a pointer to a DLL node if character x is present in DLL, otherwise NULL.\n",
    "\n",
    "Initialize all entries of inDLL[] as NULL and repeated[] as false.\n",
    "\n",
    "To get the first non-repeating character, return character at head of DLL.\n",
    "\n",
    "Following are steps to process a new character ‘x’ in a stream. \n",
    "\n",
    "If repeated[x] is true, ignore this character (x is already repeated two or more times in the stream)\n",
    "\n",
    "If repeated[x] is false and inDLL[x] is NULL (x is seen first time). Append x to DLL and store address of new DLL node in inDLL[x].\n",
    "\n",
    "If repeated[x] is false and inDLL[x] is not NULL (x is seen second time). Get DLL node of x using inDLL[x] and remove the node. Also, mark inDLL[x] as NULL and repeated[x] as true.m"
   ]
  },
  {
   "cell_type": "code",
   "execution_count": 6,
   "metadata": {},
   "outputs": [
    {
     "name": "stdout",
     "output_type": "stream",
     "text": [
      "Processing g\n",
      "The first non repeating character is g\n",
      "Processing e\n",
      "The first non repeating character is g\n",
      "Processing e\n",
      "The first non repeating character is g\n",
      "Processing k\n",
      "The first non repeating character is g\n",
      "Processing s\n",
      "The first non repeating character is g\n",
      "Processing f\n",
      "The first non repeating character is g\n",
      "Processing o\n",
      "The first non repeating character is g\n",
      "Processing r\n",
      "The first non repeating character is g\n",
      "Processing g\n",
      "The first non repeating character is k\n",
      "Processing e\n",
      "The first non repeating character is k\n",
      "Processing e\n",
      "The first non repeating character is k\n",
      "Processing k\n",
      "The first non repeating character is s\n",
      "Processing s\n",
      "The first non repeating character is f\n",
      "Processing a\n",
      "The first non repeating character is f\n",
      "Processing n\n",
      "The first non repeating character is f\n",
      "Processing d\n",
      "The first non repeating character is f\n",
      "Processing g\n",
      "The first non repeating character is f\n",
      "Processing e\n",
      "The first non repeating character is f\n",
      "Processing e\n",
      "The first non repeating character is f\n",
      "Processing k\n",
      "The first non repeating character is f\n",
      "Processing s\n",
      "The first non repeating character is f\n",
      "Processing q\n",
      "The first non repeating character is f\n",
      "Processing u\n",
      "The first non repeating character is f\n",
      "Processing i\n",
      "The first non repeating character is f\n",
      "Processing z\n",
      "The first non repeating character is f\n",
      "Processing f\n",
      "The first non repeating character is o\n",
      "Processing o\n",
      "The first non repeating character is r\n",
      "Processing r\n",
      "The first non repeating character is a\n"
     ]
    }
   ],
   "source": [
    "class Node:\n",
    "    def __init__(self,data):\n",
    "        self.data=data\n",
    "        self.next=None\n",
    "        self.prev=None\n",
    "\n",
    "class LinkedList:\n",
    "    def __init__(self):\n",
    "        self.head=None\n",
    "        self.end=None\n",
    "\n",
    "    def push(self,data):\n",
    "        temp=Node(data)\n",
    "        if self.head is None:\n",
    "            self.head=temp\n",
    "            self.end=temp\n",
    "            return temp\n",
    "        self.end.next=temp\n",
    "        temp.prev=self.end\n",
    "        self.end=temp\n",
    "        return temp\n",
    "\n",
    "    def traverse(self):\n",
    "        if self.head is None:\n",
    "            return\n",
    "        curr=self.head\n",
    "        while curr:\n",
    "            print(curr.data,end=\" \")\n",
    "            curr=curr.next\n",
    "        print()\n",
    "\n",
    "    def isEmpty(self):\n",
    "        if self.head is None:\n",
    "            return True\n",
    "        return False\n",
    "\n",
    "    def remove(self,node):\n",
    "        if self.head is None:\n",
    "            return\n",
    "        if node.prev is None:\n",
    "            node.next.prev=None\n",
    "            self.head=node.next\n",
    "            node=None\n",
    "            return\n",
    "        if node.next is None:\n",
    "            node.prev.next=None\n",
    "            self.end=node.prev\n",
    "            node=None\n",
    "            return\n",
    "\n",
    "        node.prev.next=node.next\n",
    "        node.next.prev=node.prev\n",
    "\n",
    "def getNonRepeatingCharacter(stream):\n",
    "    llist=LinkedList()\n",
    "    inDLL=[None]*256\n",
    "    isRepeated=[False]*256\n",
    "    for i in range(len(stream)):\n",
    "        print(f\"Processing {stream[i]}\")\n",
    "\n",
    "        if not isRepeated[ord(stream[i])]:\n",
    "            if inDLL[ord(stream[i])] is None:\n",
    "                inDLL[ord(stream[i])]=llist.push(stream[i])\n",
    "            else:\n",
    "                llist.remove(inDLL[ord(stream[i])])\n",
    "                inDLL[ord(stream[i])]=None\n",
    "                isRepeated[ord(stream[i])]=True\n",
    "        if not llist.isEmpty():\n",
    "            print(f\"The first non repeating character is {llist.head.data}\")\n",
    "\n",
    "if __name__ == '__main__':\n",
    "    # llist=LinkedList()\n",
    "    # llist.push('g')\n",
    "    # llist.push('e')\n",
    "    # llist.push('k')\n",
    "    #\n",
    "    # llist.traverse()\n",
    "    # llist.remove(llist.head.next.next)\n",
    "    # llist.traverse()\n",
    "\n",
    "    stream=\"geeksforgeeksandgeeksquizfor\"\n",
    "    getNonRepeatingCharacter(stream)\n"
   ]
  },
  {
   "cell_type": "markdown",
   "metadata": {},
   "source": [
    "# Convert to a string that is repetition of a substring of k length"
   ]
  },
  {
   "cell_type": "markdown",
   "metadata": {},
   "source": [
    "Given a string, find if it is possible to convert it to a string that is repetition of substring with k characters. To convert, we can replace one substring of length k with k characters."
   ]
  },
  {
   "cell_type": "markdown",
   "metadata": {},
   "source": [
    "One observation is, length of string must be a multiple of k as we can replace only one substring."
   ]
  },
  {
   "cell_type": "markdown",
   "metadata": {},
   "source": [
    "The idea is declare a map mp which maps strings of length k to an integer denoting its count. So, if there are only two different sub-strings of length k in the map container and count of one of the sub-string is 1 then answer is true. Otherwise answer is false."
   ]
  },
  {
   "cell_type": "code",
   "execution_count": 8,
   "metadata": {},
   "outputs": [
    {
     "name": "stdout",
     "output_type": "stream",
     "text": [
      "True\n",
      "False\n"
     ]
    }
   ],
   "source": [
    "def check(s,k):\n",
    "    if len(s)%k!=0:\n",
    "        return False\n",
    "    hash={}\n",
    "    for i in range(0,len(s),k):\n",
    "        if s[i:k] in hash:\n",
    "            hash[s[i:k]]+=1\n",
    "        else:\n",
    "            hash[s[i:k]]=1\n",
    "\n",
    "    if len(hash)==1:\n",
    "        return True\n",
    "    if len(hash)!=2:\n",
    "        return False\n",
    "    for i in hash:\n",
    "        if hash[i]==1 or hash[i]==(len(s)//k)-1:\n",
    "            return True\n",
    "    return False\n",
    "\n",
    "if __name__ == '__main__':\n",
    "    s=\"abcbedabcabc\"\n",
    "    k=3\n",
    "    print(check(s,k))\n",
    "    s=\"abcbedabcab\"\n",
    "    k=3\n",
    "    print(check(s,k))\n"
   ]
  },
  {
   "cell_type": "markdown",
   "metadata": {},
   "source": [
    "# Smallest length string with repeated replacement of two distinct adjacent"
   ]
  },
  {
   "cell_type": "markdown",
   "metadata": {},
   "source": [
    "# Distributing all balls without repetition"
   ]
  },
  {
   "cell_type": "markdown",
   "metadata": {},
   "source": [
    "Given N balls. For convenience, we denote color of each ball as — lowercase letter. We have to distribute N balls among K people. They will be upset, if they get two balls of the same color. We can give any number of balls to people and they won’t be upset even if they do not get any ball, but, we have to distribute all balls, such that no one will be upset — print YES, if it is possible , and NO, otherwise."
   ]
  },
  {
   "cell_type": "markdown",
   "metadata": {},
   "source": [
    "Approach-> If the count of any color ball is more than k then any one person will get the repeated color ball"
   ]
  },
  {
   "cell_type": "markdown",
   "metadata": {},
   "source": [
    "# Maximum consecutive repeating character in string"
   ]
  },
  {
   "cell_type": "code",
   "execution_count": 9,
   "metadata": {},
   "outputs": [
    {
     "name": "stdout",
     "output_type": "stream",
     "text": [
      "a 4\n"
     ]
    }
   ],
   "source": [
    "def getMaxConsecutiveChar(s):\n",
    "    maxChar=None\n",
    "    maxLen=float('-infinity')\n",
    "    i=0\n",
    "    while i<len(s):\n",
    "        count=1\n",
    "        key=s[i]\n",
    "        j=i+1\n",
    "        while j<len(s) and s[j]==key:\n",
    "            j+=1\n",
    "            count+=1\n",
    "        if maxLen<count:\n",
    "            maxLen=count\n",
    "            maxChar=key\n",
    "        i=j\n",
    "    print(maxChar,maxLen)\n",
    "\n",
    "\n",
    "if __name__ == '__main__':\n",
    "    # s=\"geeekk\"\n",
    "    s=\"aaaabbcbbb\"\n",
    "    getMaxConsecutiveChar(s)\n"
   ]
  },
  {
   "cell_type": "markdown",
   "metadata": {},
   "source": [
    "# Minimum number of deletions so that no two consecutive are same"
   ]
  },
  {
   "cell_type": "markdown",
   "metadata": {},
   "source": [
    "AAABBB 4 deletions"
   ]
  },
  {
   "cell_type": "code",
   "execution_count": 2,
   "metadata": {},
   "outputs": [
    {
     "name": "stdout",
     "output_type": "stream",
     "text": [
      "4\n"
     ]
    }
   ],
   "source": [
    "def deleteConsecutives(s):\n",
    "    i=0\n",
    "    n=len(s)\n",
    "    count=0\n",
    "    while i<n:\n",
    "        key=s[i]\n",
    "        j=i+1\n",
    "        while j<n and key==s[j]:\n",
    "            count+=1\n",
    "            j+=1\n",
    "        i=j\n",
    "    print(count)\n",
    "\n",
    "\n",
    "if __name__ == '__main__':\n",
    "    s=\"AAABBB\"\n",
    "#     s=\"ABABABAB\"\n",
    "    deleteConsecutives(s)\n"
   ]
  },
  {
   "cell_type": "markdown",
   "metadata": {},
   "source": [
    "# Queue based approach for first non-repeating character in a stream"
   ]
  },
  {
   "cell_type": "markdown",
   "metadata": {},
   "source": [
    "Create a count array of size 26(assuming only lower case characters are present) and initialize it with zero.\n",
    "\n",
    "Create a queue of char datatype.\n",
    "\n",
    "Store each character in queue and increase its frequency in the hash array.\n",
    "\n",
    "For every character of stream, we check front of the queue.\n",
    "\n",
    "If the frequency of character at the front of queue is one, then that will be the first non repeating character.\n",
    "\n",
    "Else if frequency is more than 1, then we pop that element.\n",
    "\n",
    "If queue became empty that means there are no non repeating character so we will print -1.\n"
   ]
  },
  {
   "cell_type": "code",
   "execution_count": 3,
   "metadata": {},
   "outputs": [
    {
     "name": "stdout",
     "output_type": "stream",
     "text": [
      "Processing a\n",
      "Non repeating character is a\n",
      "Processing a\n",
      "Non repeating character is -1\n",
      "Processing c\n",
      "Non repeating character is c\n"
     ]
    }
   ],
   "source": [
    "def getNonRepeatingCharacter(s):\n",
    "    queue=[]\n",
    "    freq=[0]*26\n",
    "    for i in range(len(s)):\n",
    "        print(f\"Processing {s[i]}\")\n",
    "        queue.append(s[i])\n",
    "        freq[ord(s[i])-ord('a')]+=1\n",
    "        while queue:\n",
    "            if freq[ord(queue[0])-ord('a')]==1:\n",
    "                print(f\"Non repeating character is {queue[0]}\")\n",
    "                break\n",
    "            else:\n",
    "                queue.pop(0)\n",
    "        if len(queue)==0:\n",
    "            print(f\"Non repeating character is {-1}\")\n",
    "\n",
    "if __name__ == '__main__':\n",
    "    # s=\"aabc\"\n",
    "    s=\"aac\"\n",
    "    getNonRepeatingCharacter(s)\n"
   ]
  },
  {
   "cell_type": "markdown",
   "metadata": {},
   "source": [
    "# K’th Non-repeating Character"
   ]
  },
  {
   "cell_type": "markdown",
   "metadata": {},
   "source": [
    "Queue based Approach"
   ]
  },
  {
   "cell_type": "code",
   "execution_count": 4,
   "metadata": {},
   "outputs": [
    {
     "name": "stdout",
     "output_type": "stream",
     "text": [
      "r\n"
     ]
    }
   ],
   "source": [
    "def getKthNonRepeatingCharacter(s,k):\n",
    "    queue=[]\n",
    "    freq=[0]*26\n",
    "    for i in range(len(s)):\n",
    "        queue.append(s[i])\n",
    "        freq[ord(s[i])-ord('a')]+=1\n",
    "    result=None\n",
    "    while k>0 and queue:\n",
    "        if freq[ord(queue[0])-ord('a')]==1:\n",
    "            k-=1\n",
    "            result=queue.pop(0)\n",
    "        else:\n",
    "            queue.pop(0)\n",
    "    if k>0:\n",
    "        return -1\n",
    "    else:\n",
    "        return result\n",
    "\n",
    "if __name__ == '__main__':\n",
    "    s=\"geeksforgeeks\"\n",
    "    k=3\n",
    "    print(getKthNonRepeatingCharacter(s,k))\n"
   ]
  },
  {
   "cell_type": "markdown",
   "metadata": {},
   "source": [
    "Another Approach can be to use DLL"
   ]
  },
  {
   "cell_type": "code",
   "execution_count": null,
   "metadata": {},
   "outputs": [],
   "source": []
  }
 ],
 "metadata": {
  "kernelspec": {
   "display_name": "Python 3",
   "language": "python",
   "name": "python3"
  },
  "language_info": {
   "codemirror_mode": {
    "name": "ipython",
    "version": 3
   },
   "file_extension": ".py",
   "mimetype": "text/x-python",
   "name": "python",
   "nbconvert_exporter": "python",
   "pygments_lexer": "ipython3",
   "version": "3.7.6"
  }
 },
 "nbformat": 4,
 "nbformat_minor": 4
}

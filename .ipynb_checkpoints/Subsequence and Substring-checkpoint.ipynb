{
 "cells": [
  {
   "cell_type": "markdown",
   "metadata": {},
   "source": [
    "# Longest subsequence where every character appears at-least k times"
   ]
  },
  {
   "cell_type": "markdown",
   "metadata": {},
   "source": [
    "Given a string and a number k, find the longest subsequence of a string where every character appears at-least k times."
   ]
  },
  {
   "cell_type": "markdown",
   "metadata": {},
   "source": [
    "Hashing and Traversal"
   ]
  },
  {
   "cell_type": "code",
   "execution_count": 1,
   "metadata": {},
   "outputs": [
    {
     "name": "stdout",
     "output_type": "stream",
     "text": [
      "aabbaabaabb 11\n"
     ]
    }
   ],
   "source": [
    "def getLongestSubsequence(s,k):\n",
    "    character=[0]*26\n",
    "    for i in range(len(s)):\n",
    "        character[ord(s[i])-ord('a')]+=1\n",
    "    subsequence=\"\"\n",
    "    subsequenceLength=0\n",
    "    for i in s:\n",
    "        if character[ord(i)-ord('a')]>=k:\n",
    "            subsequence+=i\n",
    "            subsequenceLength+=1\n",
    "\n",
    "    return (subsequence,subsequenceLength)\n",
    "\n",
    "if __name__ == '__main__':\n",
    "    # s=\"geeksforgeeks\"\n",
    "    # k=2\n",
    "    s=\"aabbaabacabb\"\n",
    "    k=5\n",
    "    result=getLongestSubsequence(s,k)\n",
    "    print(result[0],result[1])\n"
   ]
  },
  {
   "cell_type": "markdown",
   "metadata": {},
   "source": [
    "# Given two strings, find if first string is a subsequence of second"
   ]
  },
  {
   "cell_type": "markdown",
   "metadata": {},
   "source": [
    "Given two strings str1 and str2, find if str1 is a subsequence of str2. A subsequence is a sequence that can be derived from another sequence by deleting some elements without changing the order of the remaining elements "
   ]
  },
  {
   "cell_type": "markdown",
   "metadata": {},
   "source": [
    "Traversing bigger string and using index for the smaller. If smaller index is equal to length then True"
   ]
  },
  {
   "cell_type": "code",
   "execution_count": 2,
   "metadata": {},
   "outputs": [
    {
     "name": "stdout",
     "output_type": "stream",
     "text": [
      "False\n"
     ]
    }
   ],
   "source": [
    "def isSubsequence(s1,s2):\n",
    "    n=len(s2)\n",
    "    index=0\n",
    "    for i in range(n):\n",
    "        if s1[index]==s2[i]:\n",
    "            index+=1\n",
    "            if index==len(s1):\n",
    "                return True\n",
    "\n",
    "    return False\n",
    "\n",
    "if __name__ == '__main__':\n",
    "    str1=\"AXY\"\n",
    "    # str2=\"YADXCYPR\"\n",
    "    str2=\"YADXCP\"\n",
    "    print(isSubsequence(str1,str2))\n"
   ]
  },
  {
   "cell_type": "markdown",
   "metadata": {},
   "source": [
    "# Number of subsequences of the form a^i b^j c^k"
   ]
  },
  {
   "cell_type": "markdown",
   "metadata": {},
   "source": [
    "Given a string, count number of subsequences of the form aibjck, i.e., it consists of i ’a’ characters, followed by j ’b’ characters, followed by k ’c’ characters where i >= 1, j >=1 and k >= 1.\n",
    "\n",
    "\n",
    "Note: Two subsequences are considered different if the set of array indexes picked for the 2 subsequences are different."
   ]
  },
  {
   "cell_type": "markdown",
   "metadata": {},
   "source": [
    "<pre>\n",
    "Approach:\n",
    "We traverse given string. For every character encounter, we do the following:\n",
    "\n",
    "1) Initialize counts of different subsequences caused by different combination of ‘a’. Let this count be aCount.\n",
    "\n",
    "2) Initialize counts of different subsequences caused by different combination of ‘b’. Let this count be bCount.\n",
    "\n",
    "3) Initialize counts of different subsequences caused by different combination of ‘c’. Let this count be cCount.\n",
    "\n",
    "4) Traverse all characters of given string. Do following for current character s[i]\n",
    "    If current character is ‘a’, then there are following possibilities :\n",
    "    a) Current character begins a new subsequence.\n",
    "    b) Current character is part of aCount subsequences.\n",
    "    c) Current character is not part of aCount subsequences.\n",
    "    Therefore we do aCount = (1 + 2 * aCount);\n",
    "\n",
    "    If current character is ‘b’, then there are following possibilities :\n",
    "    a) Current character begins a new subsequence of b’s with aCount subsequences.\n",
    "    b) Current character is part of bCount subsequences.\n",
    "    c) Current character is not part of bCount subsequences.\n",
    "    Therefore we do bCount = (aCount + 2 * bCount);\n",
    "\n",
    "    If current character is ‘c’, then there are following possibilities :\n",
    "    a) Current character begins a new subsequence of c’s with bCount subsequences.\n",
    "    b) Current character is part of cCount subsequences.\n",
    "    c) Current character is not part of cCount subsequences.\n",
    "    Therefore we do cCount = (bCount + 2 * cCount);\n",
    "\n",
    "5) Finally we return cCount;\n",
    "</pre>"
   ]
  },
  {
   "cell_type": "code",
   "execution_count": 2,
   "metadata": {},
   "outputs": [
    {
     "name": "stdout",
     "output_type": "stream",
     "text": [
      "7\n"
     ]
    }
   ],
   "source": [
    "def getSubsequences(s):\n",
    "    n=len(s)\n",
    "    a=0\n",
    "    ab=0\n",
    "    abc=0\n",
    "    for i in range(n):\n",
    "        if s[i]=='a':\n",
    "            a=2*a+1\n",
    "        elif s[i]=='b':\n",
    "            ab=2*ab+a\n",
    "        else:\n",
    "            abc=2*abc+ab\n",
    "    return abc\n",
    "\n",
    "if __name__ == '__main__':\n",
    "    s=\"abcabc\"\n",
    "    # s=\"abbc\"\n",
    "    result=getSubsequences(s)\n",
    "    print(result)\n"
   ]
  },
  {
   "cell_type": "markdown",
   "metadata": {},
   "source": [
    "<strong>CONCEPT - POSSIBILITIES BY INCLUDING THE CHARACTER OR EXCLUDING THE CHARACTER</strong>"
   ]
  },
  {
   "cell_type": "markdown",
   "metadata": {},
   "source": [
    "# Number of subsequences in a string divisible by n"
   ]
  },
  {
   "cell_type": "markdown",
   "metadata": {},
   "source": [
    "Given a string consisting of digits 0-9, count the number of subsequences in it divisible by m."
   ]
  },
  {
   "cell_type": "markdown",
   "metadata": {},
   "source": [
    "Same concept of include and exclude"
   ]
  },
  {
   "cell_type": "markdown",
   "metadata": {},
   "source": [
    "Let remainder of a string with value x be ‘r’ when divided with n. Adding one more character to this string changes its remainder to (r*10 + newdigit) % n. For every new character, we have two choices, either add it in all current subsequences or ignore it."
   ]
  },
  {
   "cell_type": "code",
   "execution_count": 3,
   "metadata": {},
   "outputs": [
    {
     "name": "stdout",
     "output_type": "stream",
     "text": [
      "4\n"
     ]
    }
   ],
   "source": [
    "def getCountUtil(s,n,index,rem,l):\n",
    "\n",
    "    if index==l:\n",
    "        if rem==0:\n",
    "            return 1\n",
    "        else:\n",
    "            return 0\n",
    "\n",
    "    answer=0\n",
    "    answer+=getCountUtil(s,n,index+1,rem,l)\n",
    "    answer+=getCountUtil(s,n,index+1,(rem*10+int(s[index]))%n,l)\n",
    "    return answer\n",
    "\n",
    "def getCount(s,n):\n",
    "    l=len(s)\n",
    "    return getCountUtil(s,n,0,0,l)-1\n",
    "    # -1 for the case when no character is selecteds\n",
    "\n",
    "if __name__ == '__main__':\n",
    "    s=\"1234\"\n",
    "    n=4\n",
    "    result=getCount(s,n)\n",
    "    print(result)\n"
   ]
  },
  {
   "cell_type": "markdown",
   "metadata": {},
   "source": [
    "DP Solution"
   ]
  },
  {
   "cell_type": "markdown",
   "metadata": {},
   "source": [
    "# Find number of times a string occurs as a subsequence in given string"
   ]
  },
  {
   "cell_type": "markdown",
   "metadata": {},
   "source": [
    "Either fix the character and recur for the remaining or not fix the character"
   ]
  },
  {
   "cell_type": "code",
   "execution_count": 4,
   "metadata": {},
   "outputs": [
    {
     "name": "stdout",
     "output_type": "stream",
     "text": [
      "3\n"
     ]
    }
   ],
   "source": [
    "def getCount(str1,str2,m,n):\n",
    "    if (m==0 and n==0) or n==0:\n",
    "        return 1\n",
    "    if m==0:\n",
    "        return 0\n",
    "\n",
    "    if str1[m-1]==str2[n-1]:\n",
    "        return getCount(str1,str2,m-1,n-1) + getCount(str1,str2,m-1,n)\n",
    "    else:\n",
    "        return getCount(str1,str2,m-1,n)\n",
    "\n",
    "if __name__ == '__main__':\n",
    "    # str2=\"gks\"\n",
    "    # str1=\"geeksforgeeks\"\n",
    "    str1=\"abcac\"\n",
    "    str2=\"ac\"\n",
    "    print(getCount(str1,str2,len(str1),len(str2)))\n"
   ]
  },
  {
   "cell_type": "markdown",
   "metadata": {},
   "source": [
    "<strong>CONCEPT - INCLUDE/EXCLUDE</strong>"
   ]
  },
  {
   "cell_type": "markdown",
   "metadata": {},
   "source": [
    "Dynamic Programming Solution"
   ]
  },
  {
   "cell_type": "code",
   "execution_count": 3,
   "metadata": {},
   "outputs": [
    {
     "name": "stdout",
     "output_type": "stream",
     "text": [
      "4\n"
     ]
    }
   ],
   "source": [
    "def getSubsequences(a,b):\n",
    "    m=len(a)\n",
    "    n=len(b)\n",
    "    lookup=[[0 for j in range(n+1)] for i in range(m+1)]\n",
    "    # if second string is empty\n",
    "    for i in range(m+1):\n",
    "        lookup[i][0]=1\n",
    "\n",
    "    for i in range(1,m+1):\n",
    "        for j in range(1,n+1):\n",
    "            if a[i-1]==b[j-1]:\n",
    "                lookup[i][j]=lookup[i-1][j-1]+lookup[i-1][j]\n",
    "            else:\n",
    "                lookup[i][j]=lookup[i-1][j]\n",
    "    return lookup[m][n]\n",
    "\n",
    "if __name__ == '__main__':\n",
    "    a=\"GeeksforGeeks\"\n",
    "    b=\"Gks\"\n",
    "    print(getSubsequences(a,b))\n"
   ]
  },
  {
   "cell_type": "markdown",
   "metadata": {},
   "source": [
    "# Number of subsequences as “ab” in a string repeated K times"
   ]
  },
  {
   "cell_type": "markdown",
   "metadata": {},
   "source": [
    "Naive approach-> Run 2 loops and find the count"
   ]
  },
  {
   "cell_type": "markdown",
   "metadata": {},
   "source": [
    "<pre>\n",
    "Let T be the newly formed string\n",
    "T = s1 + s2 + s3 + ….. + sk;\n",
    "where si is the ith occurrence of the string s.\n",
    "Here, occurrence of “ab” in T are as follows:\n",
    "1)”ab” lies completely in the some of occurrence of string S, so we can simply find occurrences of “ab” in Si.Let it be C. So, total no.of occurrences of “ab” in T will be C*K.\n",
    "\n",
    "2) Otherwise, ”a” lies strictly inside some string Si and “b” lies inside some other string Sj, (i < j). In this way finding no.of occurrences of \"ab\" will be choosing two occurrences of string S from K occurrences(KC2) and multiplying it with no. of occurrences of “a” in Si and no.of occurrences of “b” in Sj.\n",
    "</pre>"
   ]
  },
  {
   "cell_type": "markdown",
   "metadata": {},
   "source": [
    "# Count of ‘GFG’ Subsequences in the given string"
   ]
  },
  {
   "cell_type": "markdown",
   "metadata": {},
   "source": [
    "Recursive code"
   ]
  },
  {
   "cell_type": "code",
   "execution_count": 5,
   "metadata": {},
   "outputs": [
    {
     "name": "stdout",
     "output_type": "stream",
     "text": [
      "1\n"
     ]
    }
   ],
   "source": [
    "def getSubsequences(s,p,n,m):\n",
    "\n",
    "    if (m==0 and n==0) or m==0:\n",
    "        return 1\n",
    "    if n==0:\n",
    "        return 0\n",
    "\n",
    "    if s[n-1]==p[m-1]:\n",
    "        return getSubsequences(s,p,n-1,m-1)+getSubsequences(s,p,n-1,m)\n",
    "    else:\n",
    "        return getSubsequences(s,p,n-1,m)\n",
    "\n",
    "if __name__ == '__main__':\n",
    "    # s=\"GFGFG\"\n",
    "    # p=\"GFG\"\n",
    "    s=\"ABCFGFPG\"\n",
    "    p=\"GFG\"\n",
    "    print(getSubsequences(s,p,len(s),len(p)))\n"
   ]
  },
  {
   "cell_type": "markdown",
   "metadata": {},
   "source": [
    "# Count Distinct Subsequences"
   ]
  },
  {
   "cell_type": "markdown",
   "metadata": {},
   "source": [
    "Pepcoding"
   ]
  },
  {
   "cell_type": "code",
   "execution_count": 6,
   "metadata": {},
   "outputs": [
    {
     "name": "stdout",
     "output_type": "stream",
     "text": [
      "50\n"
     ]
    }
   ],
   "source": [
    "def getDistinctSubsequences(s):\n",
    "    n=len(s)\n",
    "    dp=[0]*(n+1)\n",
    "    dp[0]=1\n",
    "    hashMap={}\n",
    "    for i in range(1,n+1):\n",
    "        dp[i]=dp[i-1]*2\n",
    "        if s[i-1] in hashMap:\n",
    "            dp[i]=dp[i]-dp[hashMap[s[i-1]]-1]\n",
    "        hashMap[s[i-1]]=i\n",
    "    return dp[n]\n",
    "\n",
    "if __name__ == '__main__':\n",
    "    # s=\"ggg\"\n",
    "    s=\"abcbac\"\n",
    "    print(getDistinctSubsequences(s))\n"
   ]
  },
  {
   "cell_type": "markdown",
   "metadata": {},
   "source": [
    "# Count distinct occurrences as a subsequence"
   ]
  },
  {
   "cell_type": "code",
   "execution_count": 6,
   "metadata": {},
   "outputs": [
    {
     "name": "stdout",
     "output_type": "stream",
     "text": [
      "3\n",
      "6\n"
     ]
    }
   ],
   "source": [
    "def getCount(str1,str2,m,n):\n",
    "    if (m==0 and n==0) or n==0:\n",
    "        return 1\n",
    "    if m==0:\n",
    "        return 0\n",
    "\n",
    "    if str1[m-1]==str2[n-1]:\n",
    "        return getCount(str1,str2,m-1,n-1) + getCount(str1,str2,m-1,n)\n",
    "    else:\n",
    "        return getCount(str1,str2,m-1,n)\n",
    "\n",
    "if __name__ == '__main__':\n",
    "    str1=\"banana\"\n",
    "    str2=\"ban\"\n",
    "    print(getCount(str1,str2,len(str1),len(str2)))\n",
    "    str1=\"geeksforgeeks\"\n",
    "    str2=\"ge\"\n",
    "    print(getCount(str1,str2,len(str1),len(str2)))\n"
   ]
  },
  {
   "cell_type": "markdown",
   "metadata": {},
   "source": [
    "# Longest common subsequence with permutations allowed"
   ]
  },
  {
   "cell_type": "markdown",
   "metadata": {},
   "source": [
    "Given two strings in lowercase, find the longest string whose permutations are subsequences of given two strings. The output longest string must be sorted."
   ]
  },
  {
   "cell_type": "markdown",
   "metadata": {},
   "source": [
    "Approach-> CHARACTER ARRAY, IN RESULTANT STRING WE COPY THE MINIMUM COUNT OF EACH CHARACTER IF CHARACTER IS PRESENT IN BOTH THE STRINGS"
   ]
  },
  {
   "cell_type": "code",
   "execution_count": 7,
   "metadata": {},
   "outputs": [
    {
     "name": "stdout",
     "output_type": "stream",
     "text": [
      "ik\n"
     ]
    }
   ],
   "source": [
    "def getLCS(str1,str2):\n",
    "    hashMap1=[0]*26\n",
    "    hashMap2=[0]*26\n",
    "    result=\"\"\n",
    "    for i in range(len(str1)):\n",
    "        hashMap1[ord(str1[i])-ord('a')]+=1\n",
    "    for i in range(len(str2)):\n",
    "        hashMap2[ord(str2[i])-ord('a')]+=1\n",
    "    for i in range(26):\n",
    "        if hashMap1[i]>0 and hashMap2[i]>0:\n",
    "            result+=chr(i+ord('a'))*min(hashMap1[i],hashMap2[i])\n",
    "    return result\n",
    "\n",
    "\n",
    "if __name__ == '__main__':\n",
    "    str1=\"pink\"\n",
    "    str2=\"kite\"\n",
    "    print(getLCS(str1,str2))\n"
   ]
  },
  {
   "cell_type": "markdown",
   "metadata": {},
   "source": [
    "# Repeated subsequence of length 2 or more"
   ]
  },
  {
   "cell_type": "markdown",
   "metadata": {},
   "source": [
    "We can follow the longest common subsequence approach to find the longest repeated subsequence, if length of the LRS is more than 2 then we can return True else False"
   ]
  },
  {
   "cell_type": "code",
   "execution_count": 1,
   "metadata": {},
   "outputs": [
    {
     "name": "stdout",
     "output_type": "stream",
     "text": [
      "False\n"
     ]
    }
   ],
   "source": [
    "def checkForRepeatedSubsequences(s):\n",
    "    n=len(s)\n",
    "    dp=[[0 for j in range(n+1)]for i in range(n+1)]\n",
    "\n",
    "    for i in range(1,n+1):\n",
    "        for j in range(1,n+1):\n",
    "            if s[i-1]==s[j-1] and i!=j:\n",
    "                dp[i][j]=dp[i-1][j-1]+1\n",
    "            else:\n",
    "                dp[i][j]=max(dp[i-1][j],dp[i][j-1])\n",
    "\n",
    "    return dp[n][n]>=2\n",
    "\n",
    "if __name__ == '__main__':\n",
    "    # s=\"ABCABD\"\n",
    "    # s=\"ABBB\"\n",
    "    # s=\"AAB\"\n",
    "    # s=\"AABBC\"\n",
    "    # s=\"ABCDACB\"\n",
    "    s=\"ABCD\"\n",
    "    print(checkForRepeatedSubsequences(s))\n"
   ]
  },
  {
   "cell_type": "markdown",
   "metadata": {},
   "source": [
    "Time Complexity O(n^2) and Space Complexity O(n^2)"
   ]
  },
  {
   "cell_type": "markdown",
   "metadata": {},
   "source": [
    "# Printing Longest Common Subsequence"
   ]
  },
  {
   "cell_type": "code",
   "execution_count": 2,
   "metadata": {},
   "outputs": [
    {
     "name": "stdout",
     "output_type": "stream",
     "text": [
      "ACC\n"
     ]
    }
   ],
   "source": [
    "def getLCS(x,y,m,n,dp):\n",
    "    for i in range(1,m+1):\n",
    "        for j in range(1,n+1):\n",
    "            if x[i-1]==y[j-1]:\n",
    "                dp[i][j]=dp[i-1][j-1]+1\n",
    "            else:\n",
    "                dp[i][j]=max(dp[i-1][j],dp[i][j-1])\n",
    "\n",
    "    return dp\n",
    "\n",
    "def printLCS(x,y,m,n,dp,LCSLength):\n",
    "    lcs=[\"\"]*(LCSLength)\n",
    "    index=LCSLength-1\n",
    "    i=m\n",
    "    j=n\n",
    "    while i>0 and j>0:\n",
    "        if x[i-1]==y[j-1]:\n",
    "            lcs[index]=x[i-1]\n",
    "            i-=1\n",
    "            j-=1\n",
    "            index-=1\n",
    "        elif dp[i-1][j]>dp[i][j-1]:\n",
    "            i-=1\n",
    "        else:\n",
    "            j-=1\n",
    "    print(\"\".join(lcs))\n",
    "\n",
    "if __name__ == '__main__':\n",
    "    x=\"AATCC\"\n",
    "    y=\"ACACG\"\n",
    "    m=len(x)\n",
    "    n=len(y)\n",
    "    dp=[[0 for j in range(n+1)] for i in range(m+1)]\n",
    "    dp=getLCS(x,y,m,n,dp)\n",
    "    LCSLength=dp[m][n]\n",
    "    printLCS(x,y,m,n,dp,LCSLength)\n"
   ]
  },
  {
   "cell_type": "markdown",
   "metadata": {},
   "source": [
    "# Printing Longest Common Subsequence"
   ]
  },
  {
   "cell_type": "markdown",
   "metadata": {},
   "source": [
    "ALL"
   ]
  },
  {
   "cell_type": "code",
   "execution_count": 3,
   "metadata": {},
   "outputs": [
    {
     "name": "stdout",
     "output_type": "stream",
     "text": [
      "Lenght of the LCS is 3\n",
      "AAC\n",
      "ACC\n"
     ]
    }
   ],
   "source": [
    "def findAllLCS(x,y,m,n,dp):\n",
    "    s=set()\n",
    "\n",
    "    if m==0 or n==0:\n",
    "        s.add(\"\")\n",
    "        return s\n",
    "\n",
    "    if x[m-1]==y[n-1]:\n",
    "        temp=findAllLCS(x,y,m-1,n-1,dp)\n",
    "        for i in temp:\n",
    "            s.add(i+x[m-1])\n",
    "    else:\n",
    "        if dp[m-1][n]>=dp[m][n-1]:\n",
    "            s=findAllLCS(x,y,m-1,n,dp)\n",
    "        if dp[m][n-1]>=dp[m-1][n]:\n",
    "            temp=findAllLCS(x,y,m,n-1,dp)\n",
    "            for i in temp:\n",
    "                s.add(i)\n",
    "    return s\n",
    "\n",
    "def LCS(x,y,m,n):\n",
    "    dp=[[0 for j in range(n+1)]for i in range(m+1)]\n",
    "    for i in range(1,m+1):\n",
    "        for j in range(1,n+1):\n",
    "            if x[i-1]==y[j-1]:\n",
    "                dp[i][j]=dp[i-1][j-1]+1\n",
    "            else:\n",
    "                dp[i][j]=max(dp[i-1][j],dp[i][j-1])\n",
    "    return dp\n",
    "\n",
    "if __name__ == '__main__':\n",
    "    x=\"AATCC\"\n",
    "    y=\"ACACG\"\n",
    "    m=len(x)\n",
    "    n=len(y)\n",
    "    dp=LCS(x,y,m,n)\n",
    "    print(f\"Lenght of the LCS is {dp[m][n]}\")\n",
    "    result=findAllLCS(x,y,m,n,dp)\n",
    "    for i in result:\n",
    "        print(i)\n"
   ]
  },
  {
   "cell_type": "markdown",
   "metadata": {},
   "source": [
    "# Print all longest common sub-sequences in lexicographical order"
   ]
  },
  {
   "cell_type": "code",
   "execution_count": 4,
   "metadata": {},
   "outputs": [
    {
     "name": "stdout",
     "output_type": "stream",
     "text": [
      "['ababa', 'abaca', 'abcba', 'acaba', 'acaca', 'acbaa', 'acbca']\n"
     ]
    }
   ],
   "source": [
    "def getLCS(x,y,m,n):\n",
    "    dp=[[0 for j in range(n+1)]for i in range(m+1)]\n",
    "    for i in range(1,m+1):\n",
    "        for j in range(1,n+1):\n",
    "            if x[i-1]==y[j-1]:\n",
    "                dp[i][j]=dp[i-1][j-1]+1\n",
    "            else:\n",
    "                dp[i][j]=max(dp[i-1][j],dp[i][j-1])\n",
    "    return dp\n",
    "\n",
    "def printAllLCS(x,y,m,n,dp):\n",
    "    s=set()\n",
    "\n",
    "    if m==0 or n==0:\n",
    "        s.add(\"\")\n",
    "        return s\n",
    "\n",
    "    if x[m-1]==y[n-1]:\n",
    "        temp=printAllLCS(x,y,m-1,n-1,dp)\n",
    "        for i in temp:\n",
    "            s.add(i+x[m-1])\n",
    "    else:\n",
    "        if dp[m-1][n]>=dp[m][n-1]:\n",
    "            s=printAllLCS(x,y,m-1,n,dp)\n",
    "        if dp[m][n-1]>=dp[m-1][n]:\n",
    "            temp=printAllLCS(x,y,m,n-1,dp)\n",
    "            for i in temp:\n",
    "                s.add(i)\n",
    "    return s\n",
    "\n",
    "if __name__ == '__main__':\n",
    "    x=\"abcabcaa\"\n",
    "    y=\"acbacba\"\n",
    "    m=len(x)\n",
    "    n=len(y)\n",
    "    dp=getLCS(x,y,m,n)\n",
    "    # for i in dp:\n",
    "    #     print(i)\n",
    "    result=list(printAllLCS(x,y,m,n,dp))\n",
    "    result.sort()\n",
    "    print(result)\n"
   ]
  },
  {
   "cell_type": "markdown",
   "metadata": {},
   "source": [
    "# Find Maximum Overlap in the String"
   ]
  },
  {
   "cell_type": "code",
   "execution_count": 1,
   "metadata": {},
   "outputs": [
    {
     "name": "stdout",
     "output_type": "stream",
     "text": [
      "3 gctaagt\n"
     ]
    }
   ],
   "source": [
    "def findMaxOverlap(s1,s2):\n",
    "    str=\"\"\n",
    "    max=float('-infinity')\n",
    "    len1=len(s1)\n",
    "    len2=len(s2)\n",
    "    for i in range(min(len1,len2)):\n",
    "        if s1[len1-i-1:]==s2[:i+1]:\n",
    "            if max<i:\n",
    "                max=i\n",
    "                str=s1+s2[i+1:]\n",
    "    for i in range(min(len1,len2)):\n",
    "        if s2[len2-i-1:]==s1[:i+1]:\n",
    "            if max<i:\n",
    "                max=i\n",
    "                str=s2+s1[i+1:]\n",
    "    print(max+1,str)\n",
    "\n",
    "if __name__ == '__main__':\n",
    "    # s1=\"catgc\"\n",
    "    # s2=\"atgcatc\"\n",
    "    s1=\"ctaagt\"\n",
    "    s2=\"gcta\"\n",
    "    findMaxOverlap(s1,s2)\n"
   ]
  },
  {
   "cell_type": "markdown",
   "metadata": {},
   "source": [
    "# Shortest Superstring Problem"
   ]
  },
  {
   "cell_type": "markdown",
   "metadata": {},
   "source": [
    "Given a set of n strings arr[], find the smallest string that contains each string in the given set as substring. We may assume that no string in arr[] is substring of another string."
   ]
  },
  {
   "cell_type": "markdown",
   "metadata": {},
   "source": [
    "Examples: \n",
    "\n",
    "Input:  arr[] = {\"geeks\", \"quiz\", \"for\"}\n",
    "Output: geeksquizfor\n",
    "\n",
    "Input:  arr[] = {\"catg\", \"ctaagt\", \"gcta\", \"ttca\", \"atgcatc\"}\n",
    "Output: gctaagttcatgcatc"
   ]
  },
  {
   "cell_type": "markdown",
   "metadata": {},
   "source": [
    "<pre>\n",
    "Approach->\n",
    "\n",
    "Let arr[] be given set of strings.\n",
    "\n",
    "1) Create an auxiliary array of strings, temp[].  Copy contents\n",
    "   of arr[] to temp[]\n",
    "\n",
    "2) While temp[] contains more than one strings\n",
    "     a) Find the most overlapping string pair in temp[]. Let this\n",
    "        pair be 'a' and 'b'. \n",
    "     b) Replace 'a' and 'b' with the string obtained after combining\n",
    "        them.\n",
    "\n",
    "3) The only string left in temp[] is the result, return it.\n",
    "</pre>"
   ]
  },
  {
   "cell_type": "code",
   "execution_count": 4,
   "metadata": {},
   "outputs": [
    {
     "name": "stdout",
     "output_type": "stream",
     "text": [
      "gctaagttcatgcatc\n"
     ]
    }
   ],
   "source": [
    "def getMaxOverlap(s1,s2):\n",
    "    max=float('-infinity')\n",
    "    str=\"\"\n",
    "    len1=len(s1)\n",
    "    len2=len(s2)\n",
    "    for i in range(min(len1,len2)):\n",
    "        if s1[len1-i-1:]==s2[:i+1]:\n",
    "            if max<i:\n",
    "                max=i\n",
    "                str=s1+s2[i+1:]\n",
    "    for i in range(min(len1,len2)):\n",
    "        if s2[len2-i-1:]==s1[:i+1]:\n",
    "            if max<i:\n",
    "                max=i\n",
    "                str=s2+s1[i+1:]\n",
    "    return (max+1,str)\n",
    "\n",
    "def getShortestSuperstring(arr):\n",
    "    n=len(arr)\n",
    "    while n!=1:\n",
    "        max=float('-infinity')\n",
    "        resStr=\"\"\n",
    "        l=0\n",
    "        r=0\n",
    "        for i in range(n):\n",
    "            for j in range(i+1,n):\n",
    "                result=getMaxOverlap(arr[i],arr[j])\n",
    "                if max<result[0]:\n",
    "                    max=result[0]\n",
    "                    resStr=result[1]\n",
    "                    l=i\n",
    "                    r=j\n",
    "        n-=1\n",
    "        if max==float('-infinity'):\n",
    "            arr[0]+=arr[n]\n",
    "        else:\n",
    "            arr[l]=resStr\n",
    "            arr[r]=arr[n]\n",
    "    return arr[0]\n",
    "\n",
    "if __name__ == '__main__':\n",
    "    arr=[\"catg\", \"ctaagt\", \"gcta\", \"ttca\", \"atgcatc\"]\n",
    "#     arr=[\"geeks\", \"quiz\", \"for\"]\n",
    "    print(getShortestSuperstring(arr))\n"
   ]
  },
  {
   "cell_type": "code",
   "execution_count": null,
   "metadata": {},
   "outputs": [],
   "source": []
  }
 ],
 "metadata": {
  "kernelspec": {
   "display_name": "Python 3",
   "language": "python",
   "name": "python3"
  },
  "language_info": {
   "codemirror_mode": {
    "name": "ipython",
    "version": 3
   },
   "file_extension": ".py",
   "mimetype": "text/x-python",
   "name": "python",
   "nbconvert_exporter": "python",
   "pygments_lexer": "ipython3",
   "version": "3.7.6"
  }
 },
 "nbformat": 4,
 "nbformat_minor": 4
}

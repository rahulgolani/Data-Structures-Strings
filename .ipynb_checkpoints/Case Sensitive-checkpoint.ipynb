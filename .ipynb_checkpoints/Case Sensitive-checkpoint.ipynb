{
 "cells": [
  {
   "cell_type": "markdown",
   "metadata": {},
   "source": [
    "# Maximum distinct lowercase alphabets between two uppercase"
   ]
  },
  {
   "cell_type": "markdown",
   "metadata": {},
   "source": [
    "Given a string containing alphabets in lowercase and uppercase, find the maximum count of distinct lowercase alphabets present between two uppercase alphabets."
   ]
  },
  {
   "cell_type": "code",
   "execution_count": 2,
   "metadata": {},
   "outputs": [
    {
     "name": "stdout",
     "output_type": "stream",
     "text": [
      "3\n"
     ]
    }
   ],
   "source": [
    "def getMaxCount(s):\n",
    "    result=float('-infinity')\n",
    "    i=0\n",
    "    n=len(s)\n",
    "    while i<n:\n",
    "        if s[i].isupper():\n",
    "            count=0\n",
    "            hash=set()\n",
    "            j=i+1\n",
    "            while j<n and s[j].islower():\n",
    "                if s[j] not in hash:\n",
    "                    count+=1\n",
    "                    hash.add(s[j])\n",
    "                j+=1\n",
    "            if count>result:\n",
    "                result=count\n",
    "            i=j\n",
    "        else:\n",
    "            i+=1\n",
    "    return result\n",
    "\n",
    "if __name__ == '__main__':\n",
    "    s=\"zACaAbbaazzC\"\n",
    "#     s=\"edxedxxxCQiIVmYEUtLi\"\n",
    "    print(getMaxCount(s))\n"
   ]
  },
  {
   "cell_type": "markdown",
   "metadata": {},
   "source": [
    "# Print all words matching a pattern in CamelCase Notation Dictonary"
   ]
  },
  {
   "cell_type": "markdown",
   "metadata": {},
   "source": [
    "Approach - Trie"
   ]
  },
  {
   "cell_type": "markdown",
   "metadata": {},
   "source": [
    "# Permute a string by changing case"
   ]
  },
  {
   "cell_type": "code",
   "execution_count": 3,
   "metadata": {},
   "outputs": [
    {
     "name": "stdout",
     "output_type": "stream",
     "text": [
      "abc\n",
      "abC\n",
      "aBc\n",
      "aBC\n",
      "Abc\n",
      "AbC\n",
      "ABc\n",
      "ABC\n"
     ]
    }
   ],
   "source": [
    "def getPermutationsUtil(s,curr,index,n):\n",
    "    if len(curr)==n:\n",
    "        print(curr)\n",
    "        return\n",
    "\n",
    "    for i in range(index+1,n):\n",
    "        getPermutationsUtil(s,curr+s[i].lower(),i,n)\n",
    "        getPermutationsUtil(s,curr+s[i].upper(),i,n)\n",
    "\n",
    "def getPermutations(s):\n",
    "    getPermutationsUtil(s,\"\",-1,len(s))\n",
    "\n",
    "if __name__ == '__main__':\n",
    "    s=\"ab\"\n",
    "    s=\"ABC\"\n",
    "    getPermutations(s)\n"
   ]
  },
  {
   "cell_type": "markdown",
   "metadata": {},
   "source": [
    "TO DO"
   ]
  },
  {
   "cell_type": "markdown",
   "metadata": {},
   "source": [
    "# Toggle case of a string using Bitwise Operators"
   ]
  },
  {
   "cell_type": "markdown",
   "metadata": {},
   "source": [
    "Given a string, write a function that returns toggle case of a string using the bitwise operators in place.\n",
    "\n",
    "In ASCII codes, character ‘A’ is integer 65 = (0100 0001)2, while character ‘a’ is integer 97 = (0110 0001)2. Similarly, character ‘D’ is integer 68 = (0100 0100)2, while character ‘d’ is integer 100 = (0110 0100)2.\n",
    "\n",
    "As we can see, only sixth least significant bit is different in ASCII code of ‘A’ and ‘a’. Similar behavior can be seen in ASCII code of ‘D’ and ‘d’. Therefore, we need to toggle this bit for toggling case."
   ]
  },
  {
   "cell_type": "code",
   "execution_count": 4,
   "metadata": {},
   "outputs": [
    {
     "name": "stdout",
     "output_type": "stream",
     "text": [
      "cHErRy\n"
     ]
    }
   ],
   "source": [
    "def toggleCase(s):\n",
    "    for i in range(len(s)):\n",
    "        s=s[:i]+chr(ord(s[i])^32)+s[i+1:]\n",
    "    return s\n",
    "\n",
    "if __name__ == '__main__':\n",
    "    s=\"CheRrY\"\n",
    "    print(toggleCase(s))\n"
   ]
  },
  {
   "cell_type": "code",
   "execution_count": null,
   "metadata": {},
   "outputs": [],
   "source": []
  }
 ],
 "metadata": {
  "kernelspec": {
   "display_name": "Python 3",
   "language": "python",
   "name": "python3"
  },
  "language_info": {
   "codemirror_mode": {
    "name": "ipython",
    "version": 3
   },
   "file_extension": ".py",
   "mimetype": "text/x-python",
   "name": "python",
   "nbconvert_exporter": "python",
   "pygments_lexer": "ipython3",
   "version": "3.7.6"
  }
 },
 "nbformat": 4,
 "nbformat_minor": 4
}

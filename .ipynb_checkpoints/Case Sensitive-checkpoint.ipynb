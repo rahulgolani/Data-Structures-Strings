{
 "cells": [
  {
   "cell_type": "markdown",
   "metadata": {},
   "source": [
    "# Maximum distinct lowercase alphabets between two uppercase"
   ]
  },
  {
   "cell_type": "markdown",
   "metadata": {},
   "source": [
    "Given a string containing alphabets in lowercase and uppercase, find the maximum count of distinct lowercase alphabets present between two uppercase alphabets."
   ]
  },
  {
   "cell_type": "code",
   "execution_count": 2,
   "metadata": {},
   "outputs": [
    {
     "name": "stdout",
     "output_type": "stream",
     "text": [
      "3\n"
     ]
    }
   ],
   "source": [
    "def getMaxCount(s):\n",
    "    result=float('-infinity')\n",
    "    i=0\n",
    "    n=len(s)\n",
    "    while i<n:\n",
    "        if s[i].isupper():\n",
    "            count=0\n",
    "            hash=set()\n",
    "            j=i+1\n",
    "            while j<n and s[j].islower():\n",
    "                if s[j] not in hash:\n",
    "                    count+=1\n",
    "                    hash.add(s[j])\n",
    "                j+=1\n",
    "            if count>result:\n",
    "                result=count\n",
    "            i=j\n",
    "        else:\n",
    "            i+=1\n",
    "    return result\n",
    "\n",
    "if __name__ == '__main__':\n",
    "    s=\"zACaAbbaazzC\"\n",
    "#     s=\"edxedxxxCQiIVmYEUtLi\"\n",
    "    print(getMaxCount(s))\n"
   ]
  },
  {
   "cell_type": "code",
   "execution_count": null,
   "metadata": {},
   "outputs": [],
   "source": []
  }
 ],
 "metadata": {
  "kernelspec": {
   "display_name": "Python 3",
   "language": "python",
   "name": "python3"
  },
  "language_info": {
   "codemirror_mode": {
    "name": "ipython",
    "version": 3
   },
   "file_extension": ".py",
   "mimetype": "text/x-python",
   "name": "python",
   "nbconvert_exporter": "python",
   "pygments_lexer": "ipython3",
   "version": "3.7.6"
  }
 },
 "nbformat": 4,
 "nbformat_minor": 4
}

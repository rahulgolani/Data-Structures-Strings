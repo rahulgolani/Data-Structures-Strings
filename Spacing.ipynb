{
 "cells": [
  {
   "cell_type": "markdown",
   "metadata": {},
   "source": [
    "# Remove spaces from a given string"
   ]
  },
  {
   "cell_type": "code",
   "execution_count": 1,
   "metadata": {},
   "outputs": [
    {
     "name": "stdout",
     "output_type": "stream",
     "text": [
      "geeksforgeeeks\n"
     ]
    }
   ],
   "source": [
    "def removeSpaces(s):\n",
    "    s=s.replace(' ','')\n",
    "    return s\n",
    "\n",
    "def removeSpaces2(s):\n",
    "    result=\"\"\n",
    "    for i in s:\n",
    "        if i!=\" \":\n",
    "            result+=i\n",
    "    return result\n",
    "\n",
    "if __name__ == '__main__':\n",
    "    s=\"g  eeks   for ge  eeks  \"\n",
    "    s=removeSpaces(s)\n",
    "    print(s)\n"
   ]
  },
  {
   "cell_type": "markdown",
   "metadata": {},
   "source": [
    "Time Complexity O(n)"
   ]
  },
  {
   "cell_type": "markdown",
   "metadata": {},
   "source": [
    "# Move spaces to front of string in single traversal"
   ]
  },
  {
   "cell_type": "code",
   "execution_count": 2,
   "metadata": {},
   "outputs": [
    {
     "name": "stdout",
     "output_type": "stream",
     "text": [
      "    movethesespacestobeginning\n"
     ]
    }
   ],
   "source": [
    "def moveSpaces(s):\n",
    "    result=\"\"\n",
    "    for i in s:\n",
    "        if i==\" \":\n",
    "            result=\" \"+result\n",
    "        else:\n",
    "            result+=i\n",
    "    return result\n",
    "\n",
    "if __name__ == '__main__':\n",
    "    # s=\"geeks for geeks\"\n",
    "    s=\"move these spaces to beginning\"\n",
    "    s=moveSpaces(s)\n",
    "    print(s)\n"
   ]
  },
  {
   "cell_type": "markdown",
   "metadata": {},
   "source": [
    "Time Complexity O(n)"
   ]
  },
  {
   "cell_type": "markdown",
   "metadata": {},
   "source": [
    "# Put spaces between words starting with capital letters"
   ]
  },
  {
   "cell_type": "code",
   "execution_count": 3,
   "metadata": {},
   "outputs": [
    {
     "name": "stdout",
     "output_type": "stream",
     "text": [
      " bruce wayne is batman\n"
     ]
    }
   ],
   "source": [
    "def addSpaces(s):\n",
    "    result=\"\"\n",
    "    for i in s:\n",
    "        if i.isupper():\n",
    "            result+=\" \"\n",
    "            result+=i.lower()\n",
    "        else:\n",
    "            result+=i\n",
    "    return result\n",
    "\n",
    "if __name__ == '__main__':\n",
    "    s=\"BruceWayneIsBatman\"\n",
    "    s=addSpaces(s)\n",
    "    print(s)\n"
   ]
  },
  {
   "cell_type": "markdown",
   "metadata": {},
   "source": [
    "# Removing spaces from a string "
   ]
  },
  {
   "cell_type": "markdown",
   "metadata": {},
   "source": [
    "Done"
   ]
  },
  {
   "cell_type": "code",
   "execution_count": null,
   "metadata": {},
   "outputs": [],
   "source": []
  }
 ],
 "metadata": {
  "kernelspec": {
   "display_name": "Python 3",
   "language": "python",
   "name": "python3"
  },
  "language_info": {
   "codemirror_mode": {
    "name": "ipython",
    "version": 3
   },
   "file_extension": ".py",
   "mimetype": "text/x-python",
   "name": "python",
   "nbconvert_exporter": "python",
   "pygments_lexer": "ipython3",
   "version": "3.7.6"
  }
 },
 "nbformat": 4,
 "nbformat_minor": 4
}

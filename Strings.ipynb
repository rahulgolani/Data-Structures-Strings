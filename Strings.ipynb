{
 "cells": [
  {
   "cell_type": "markdown",
   "metadata": {},
   "source": [
    "<h1><center>BASICS</center></h1>"
   ]
  },
  {
   "cell_type": "markdown",
   "metadata": {},
   "source": [
    "# Function to copy string (Iterative and Recursive)"
   ]
  },
  {
   "cell_type": "code",
   "execution_count": 7,
   "metadata": {},
   "outputs": [
    {
     "name": "stdout",
     "output_type": "stream",
     "text": [
      "JUPYTER NOTEBOOK\n"
     ]
    }
   ],
   "source": [
    "def copy_string(s1,s2):\n",
    "    for i in range(len(s1)):\n",
    "        s2[i]=s1[i]\n",
    "    return s2\n",
    "\n",
    "if __name__ == \"__main__\":\n",
    "    s1=\"JUPYTER NOTEBOOK\"\n",
    "    s2=['']*len(s1)\n",
    "    s2=copy_string(s1,s2)\n",
    "    s2=\"\".join(s2)\n",
    "    print(s2)"
   ]
  },
  {
   "cell_type": "code",
   "execution_count": 8,
   "metadata": {},
   "outputs": [
    {
     "name": "stdout",
     "output_type": "stream",
     "text": [
      "JUPYTER NOTEBOOK\n"
     ]
    }
   ],
   "source": [
    "def copy_stringRecur(s1,s2,i,n):\n",
    "    if i>=n:\n",
    "        return s2\n",
    "    s2[i]=s1[i]\n",
    "    return copy_stringRecur(s1,s2,i+1,n)\n",
    "\n",
    "if __name__ == \"__main__\":\n",
    "    s1=\"JUPYTER NOTEBOOK\"\n",
    "    s2=['']*len(s1)\n",
    "    s2=copy_stringRecur(s1,s2,0,len(s1))\n",
    "    s2=\"\".join(s2)\n",
    "    print(s2)"
   ]
  },
  {
   "cell_type": "markdown",
   "metadata": {},
   "source": [
    "# Pangram Checking\n",
    "Given a string check if it is Pangram or not. A pangram is a sentence containing every letter in the English Alphabet."
   ]
  },
  {
   "cell_type": "code",
   "execution_count": 22,
   "metadata": {},
   "outputs": [
    {
     "name": "stdout",
     "output_type": "stream",
     "text": [
      "False\n"
     ]
    }
   ],
   "source": [
    "def isPangram(s):\n",
    "    s=s.lower()\n",
    "    #print(s)\n",
    "    mark=[False]*26\n",
    "    for i in range(len(s)):\n",
    "        if s[i]!=\" \":\n",
    "            #print(ord(s[i])-ord('a'))\n",
    "            mark[ord(s[i])-ord('a')]=True\n",
    "    #print(mark)\n",
    "    if False in mark:\n",
    "        return False\n",
    "    return True\n",
    "\n",
    "if __name__ == \"__main__\":\n",
    "    s1=\"The quick brown fox jumps over the lazy dog\"\n",
    "    s2=\"The quick brown fox jumps over the dog\"\n",
    "    result=isPangram(s2)\n",
    "    \n",
    "    print(result)"
   ]
  },
  {
   "cell_type": "markdown",
   "metadata": {},
   "source": [
    "# Missing characters to make a string Pangram\n",
    "\n",
    "Given a string, find all characters that are missing from the string, i.e., the characters that can make string a Pangram. We need to print output in alphabetic order."
   ]
  },
  {
   "cell_type": "code",
   "execution_count": 31,
   "metadata": {},
   "outputs": [
    {
     "name": "stdout",
     "output_type": "stream",
     "text": [
      "adglvyz\n"
     ]
    }
   ],
   "source": [
    "def isPangram(s):\n",
    "    s=s.lower()\n",
    "    #print(s)\n",
    "    mark=[False]*26\n",
    "    for i in range(len(s)):\n",
    "        if s[i]!=\" \":\n",
    "            #print(ord(s[i])-ord('a'))\n",
    "            mark[ord(s[i])-ord('a')]=True\n",
    "    #print(mark)\n",
    "    missing=\"\"\n",
    "    for i in range(len(mark)):\n",
    "        if mark[i]==False:\n",
    "            missing+=(chr(ord('a')+i))\n",
    "    return missing\n",
    "\n",
    "if __name__ == \"__main__\":\n",
    "    s1=\"The quick brown fox jumps over the lazy dog\"\n",
    "    s2=\"The quick brown fox jumps\"\n",
    "    result=isPangram(s2)\n",
    "    \n",
    "    print(result)"
   ]
  },
  {
   "cell_type": "markdown",
   "metadata": {},
   "source": [
    "# Pangrammatic Lipogram\n",
    "A pangrammatic lipogram is a text that uses every letter of the alphabet except one. For example, “The quick brown fox jumped over the lazy dog” omits the letter S, which the usual pangram includes by using the word jumps."
   ]
  },
  {
   "cell_type": "code",
   "execution_count": 33,
   "metadata": {},
   "outputs": [
    {
     "name": "stdout",
     "output_type": "stream",
     "text": [
      "True\n"
     ]
    }
   ],
   "source": [
    "def isPanLipo(s):\n",
    "    s=s.lower()\n",
    "    #print(s)\n",
    "    mark=[False]*26\n",
    "    for i in range(len(s)):\n",
    "        if s[i]!=\" \":\n",
    "            #print(ord(s[i])-ord('a'))\n",
    "            mark[ord(s[i])-ord('a')]=True\n",
    "    #print(mark)\n",
    "    if mark.count(False)==1:\n",
    "        return True\n",
    "    return False\n",
    "if __name__ == \"__main__\":\n",
    "    s1=\"The quick brown fox jumps over the lazy dog\"\n",
    "    s2=\"The quick brown fox jumped over the lazy dog\"\n",
    "    result=isPanLipo(s2)\n",
    "    \n",
    "    print(result)"
   ]
  },
  {
   "cell_type": "markdown",
   "metadata": {},
   "source": [
    "# Removing punctuations from a given string"
   ]
  },
  {
   "cell_type": "code",
   "execution_count": 16,
   "metadata": {},
   "outputs": [
    {
     "name": "stdout",
     "output_type": "stream",
     "text": [
      "welcome to geeksforgeek<s\n"
     ]
    }
   ],
   "source": [
    "def removePunctuations(s):\n",
    "    #s=s.lower()\n",
    "    punctuation='''!\"#$%&'()*+,-./:;?@[\\]^_`{|}~'''\n",
    "    for i in s:\n",
    "        if i in punctuation:\n",
    "            s=s.replace(i,\"\")\n",
    "    return s\n",
    "if __name__ == \"__main__\":\n",
    "    s1=\"Hello!!!, he said ---and went\"\n",
    "    s2=\"%welcome' to @geeksforgeek<s\"\n",
    "    result=removePunctuations(s2)\n",
    "    \n",
    "    print(result)"
   ]
  },
  {
   "cell_type": "markdown",
   "metadata": {},
   "source": [
    "# Program to check if input is an integer or a string"
   ]
  },
  {
   "cell_type": "code",
   "execution_count": 20,
   "metadata": {},
   "outputs": [
    {
     "name": "stdout",
     "output_type": "stream",
     "text": [
      "False\n"
     ]
    }
   ],
   "source": [
    "def is_Integer(n):\n",
    "    for i in range(len(n)):\n",
    "        if not n[i].isdigit():\n",
    "            return False\n",
    "    return True\n",
    "if __name__ == \"__main__\":\n",
    "    s2=\"123B\"\n",
    "    result=is_Integer(s2)\n",
    "    \n",
    "    print(result)"
   ]
  },
  {
   "cell_type": "markdown",
   "metadata": {},
   "source": [
    "# Check if all the characters of a string are same"
   ]
  },
  {
   "cell_type": "code",
   "execution_count": 36,
   "metadata": {},
   "outputs": [
    {
     "name": "stdout",
     "output_type": "stream",
     "text": [
      "True\n"
     ]
    }
   ],
   "source": [
    "def isSame(s):\n",
    "    for i in range(1,len(s)):\n",
    "        #print(s[i],s[0])\n",
    "        if s[i]!=s[0]:\n",
    "            return False\n",
    "    return True\n",
    "if __name__ == \"__main__\":\n",
    "    s2=\"gggg\"\n",
    "    result=isSame(s2)\n",
    "    \n",
    "    print(result)"
   ]
  },
  {
   "cell_type": "markdown",
   "metadata": {},
   "source": [
    "# Program to find the initials of a name."
   ]
  },
  {
   "cell_type": "code",
   "execution_count": 38,
   "metadata": {},
   "outputs": [
    {
     "name": "stdout",
     "output_type": "stream",
     "text": [
      "P K S\n"
     ]
    }
   ],
   "source": [
    "def getInitials(s):\n",
    "    s=s.split(\" \")\n",
    "    result=[]\n",
    "    for i in s:\n",
    "        result.append(i[0].upper())\n",
    "    return \" \".join(result)\n",
    "    \n",
    "    \n",
    "if __name__ == \"__main__\":\n",
    "    s2=\"prabhat kumar singh\"\n",
    "    result=getInitials(s2)\n",
    "    \n",
    "    print(result)\n",
    "#O(w) where w is the number of words in the sentence"
   ]
  },
  {
   "cell_type": "markdown",
   "metadata": {},
   "source": [
    "# Check Whether a number is Duck Number or not\n",
    "A Duck number is a number which has zeroes present in it, but there should be no zero present in the beginning of the number. For example 3210, 8050896, 70709 are all duck numbers whereas 02364, 03401 are not."
   ]
  },
  {
   "cell_type": "code",
   "execution_count": 43,
   "metadata": {},
   "outputs": [
    {
     "name": "stdout",
     "output_type": "stream",
     "text": [
      "True\n"
     ]
    }
   ],
   "source": [
    "def isDuck(s):\n",
    "    if s[0]==\"0\":\n",
    "        return False\n",
    "    count=0\n",
    "    for i in range(1,len(s)):\n",
    "        if s[i]=='0':\n",
    "            count+=1\n",
    "    if count>0:\n",
    "        return True\n",
    "    return False\n",
    "    \n",
    "if __name__ == \"__main__\":\n",
    "    s2=\"3201\"\n",
    "    result=isDuck(s2)\n",
    "    \n",
    "    print(result)\n",
    "#O(w) where w is the number of words in the sentence"
   ]
  },
  {
   "cell_type": "markdown",
   "metadata": {},
   "source": [
    "# Round the given number to nearest multiple of 10"
   ]
  },
  {
   "cell_type": "code",
   "execution_count": 47,
   "metadata": {},
   "outputs": [
    {
     "name": "stdout",
     "output_type": "stream",
     "text": [
      "3210\n"
     ]
    }
   ],
   "source": [
    "def roundNumber(num):\n",
    "    a=(num//10)*10\n",
    "    b=a+10\n",
    "    if num-a >b-num:\n",
    "        return b\n",
    "    return a\n",
    "    \n",
    "if __name__ == \"__main__\":\n",
    "    s2=3209\n",
    "    result=roundNumber(s2)\n",
    "    \n",
    "    print(result)\n",
    "#O(w) where w is the number of words in the sentence"
   ]
  },
  {
   "cell_type": "code",
   "execution_count": null,
   "metadata": {},
   "outputs": [],
   "source": []
  }
 ],
 "metadata": {
  "kernelspec": {
   "display_name": "Python 3",
   "language": "python",
   "name": "python3"
  },
  "language_info": {
   "codemirror_mode": {
    "name": "ipython",
    "version": 3
   },
   "file_extension": ".py",
   "mimetype": "text/x-python",
   "name": "python",
   "nbconvert_exporter": "python",
   "pygments_lexer": "ipython3",
   "version": "3.7.6"
  }
 },
 "nbformat": 4,
 "nbformat_minor": 4
}

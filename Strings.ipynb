{
 "cells": [
  {
   "cell_type": "markdown",
   "metadata": {},
   "source": [
    "<h1><center>BASICS</center></h1>"
   ]
  },
  {
   "cell_type": "markdown",
   "metadata": {},
   "source": [
    "# Function to copy string (Iterative and Recursive)"
   ]
  },
  {
   "cell_type": "code",
   "execution_count": 7,
   "metadata": {},
   "outputs": [
    {
     "name": "stdout",
     "output_type": "stream",
     "text": [
      "JUPYTER NOTEBOOK\n"
     ]
    }
   ],
   "source": [
    "def copy_string(s1,s2):\n",
    "    for i in range(len(s1)):\n",
    "        s2[i]=s1[i]\n",
    "    return s2\n",
    "\n",
    "if __name__ == \"__main__\":\n",
    "    s1=\"JUPYTER NOTEBOOK\"\n",
    "    s2=['']*len(s1)\n",
    "    s2=copy_string(s1,s2)\n",
    "    s2=\"\".join(s2)\n",
    "    print(s2)"
   ]
  },
  {
   "cell_type": "code",
   "execution_count": 8,
   "metadata": {},
   "outputs": [
    {
     "name": "stdout",
     "output_type": "stream",
     "text": [
      "JUPYTER NOTEBOOK\n"
     ]
    }
   ],
   "source": [
    "def copy_stringRecur(s1,s2,i,n):\n",
    "    if i>=n:\n",
    "        return s2\n",
    "    s2[i]=s1[i]\n",
    "    return copy_stringRecur(s1,s2,i+1,n)\n",
    "\n",
    "if __name__ == \"__main__\":\n",
    "    s1=\"JUPYTER NOTEBOOK\"\n",
    "    s2=['']*len(s1)\n",
    "    s2=copy_stringRecur(s1,s2,0,len(s1))\n",
    "    s2=\"\".join(s2)\n",
    "    print(s2)"
   ]
  },
  {
   "cell_type": "markdown",
   "metadata": {},
   "source": [
    "# Pangram Checking\n",
    "Given a string check if it is Pangram or not. A pangram is a sentence containing every letter in the English Alphabet."
   ]
  },
  {
   "cell_type": "code",
   "execution_count": 22,
   "metadata": {},
   "outputs": [
    {
     "name": "stdout",
     "output_type": "stream",
     "text": [
      "False\n"
     ]
    }
   ],
   "source": [
    "def isPangram(s):\n",
    "    s=s.lower()\n",
    "    #print(s)\n",
    "    mark=[False]*26\n",
    "    for i in range(len(s)):\n",
    "        if s[i]!=\" \":\n",
    "            #print(ord(s[i])-ord('a'))\n",
    "            mark[ord(s[i])-ord('a')]=True\n",
    "    #print(mark)\n",
    "    if False in mark:\n",
    "        return False\n",
    "    return True\n",
    "\n",
    "if __name__ == \"__main__\":\n",
    "    s1=\"The quick brown fox jumps over the lazy dog\"\n",
    "    s2=\"The quick brown fox jumps over the dog\"\n",
    "    result=isPangram(s2)\n",
    "    \n",
    "    print(result)"
   ]
  },
  {
   "cell_type": "markdown",
   "metadata": {},
   "source": [
    "# Missing characters to make a string Pangram\n",
    "\n",
    "Given a string, find all characters that are missing from the string, i.e., the characters that can make string a Pangram. We need to print output in alphabetic order."
   ]
  },
  {
   "cell_type": "code",
   "execution_count": 31,
   "metadata": {},
   "outputs": [
    {
     "name": "stdout",
     "output_type": "stream",
     "text": [
      "adglvyz\n"
     ]
    }
   ],
   "source": [
    "def isPangram(s):\n",
    "    s=s.lower()\n",
    "    #print(s)\n",
    "    mark=[False]*26\n",
    "    for i in range(len(s)):\n",
    "        if s[i]!=\" \":\n",
    "            #print(ord(s[i])-ord('a'))\n",
    "            mark[ord(s[i])-ord('a')]=True\n",
    "    #print(mark)\n",
    "    missing=\"\"\n",
    "    for i in range(len(mark)):\n",
    "        if mark[i]==False:\n",
    "            missing+=(chr(ord('a')+i))\n",
    "    return missing\n",
    "\n",
    "if __name__ == \"__main__\":\n",
    "    s1=\"The quick brown fox jumps over the lazy dog\"\n",
    "    s2=\"The quick brown fox jumps\"\n",
    "    result=isPangram(s2)\n",
    "    \n",
    "    print(result)"
   ]
  },
  {
   "cell_type": "markdown",
   "metadata": {},
   "source": [
    "# Pangrammatic Lipogram\n",
    "A pangrammatic lipogram is a text that uses every letter of the alphabet except one. For example, “The quick brown fox jumped over the lazy dog” omits the letter S, which the usual pangram includes by using the word jumps."
   ]
  },
  {
   "cell_type": "code",
   "execution_count": 33,
   "metadata": {},
   "outputs": [
    {
     "name": "stdout",
     "output_type": "stream",
     "text": [
      "True\n"
     ]
    }
   ],
   "source": [
    "def isPanLipo(s):\n",
    "    s=s.lower()\n",
    "    #print(s)\n",
    "    mark=[False]*26\n",
    "    for i in range(len(s)):\n",
    "        if s[i]!=\" \":\n",
    "            #print(ord(s[i])-ord('a'))\n",
    "            mark[ord(s[i])-ord('a')]=True\n",
    "    #print(mark)\n",
    "    if mark.count(False)==1:\n",
    "        return True\n",
    "    return False\n",
    "if __name__ == \"__main__\":\n",
    "    s1=\"The quick brown fox jumps over the lazy dog\"\n",
    "    s2=\"The quick brown fox jumped over the lazy dog\"\n",
    "    result=isPanLipo(s2)\n",
    "    \n",
    "    print(result)"
   ]
  },
  {
   "cell_type": "markdown",
   "metadata": {},
   "source": [
    "# Removing punctuations from a given string"
   ]
  },
  {
   "cell_type": "code",
   "execution_count": 16,
   "metadata": {},
   "outputs": [
    {
     "name": "stdout",
     "output_type": "stream",
     "text": [
      "welcome to geeksforgeek<s\n"
     ]
    }
   ],
   "source": [
    "def removePunctuations(s):\n",
    "    #s=s.lower()\n",
    "    punctuation='''!\"#$%&'()*+,-./:;?@[\\]^_`{|}~'''\n",
    "    for i in s:\n",
    "        if i in punctuation:\n",
    "            s=s.replace(i,\"\")\n",
    "    return s\n",
    "if __name__ == \"__main__\":\n",
    "    s1=\"Hello!!!, he said ---and went\"\n",
    "    s2=\"%welcome' to @geeksforgeek<s\"\n",
    "    result=removePunctuations(s2)\n",
    "    \n",
    "    print(result)"
   ]
  },
  {
   "cell_type": "markdown",
   "metadata": {},
   "source": [
    "# Program to check if input is an integer or a string"
   ]
  },
  {
   "cell_type": "code",
   "execution_count": 20,
   "metadata": {},
   "outputs": [
    {
     "name": "stdout",
     "output_type": "stream",
     "text": [
      "False\n"
     ]
    }
   ],
   "source": [
    "def is_Integer(n):\n",
    "    for i in range(len(n)):\n",
    "        if not n[i].isdigit():\n",
    "            return False\n",
    "    return True\n",
    "if __name__ == \"__main__\":\n",
    "    s2=\"123B\"\n",
    "    result=is_Integer(s2)\n",
    "    \n",
    "    print(result)"
   ]
  },
  {
   "cell_type": "markdown",
   "metadata": {},
   "source": [
    "# Check if all the characters of a string are same"
   ]
  },
  {
   "cell_type": "code",
   "execution_count": 36,
   "metadata": {},
   "outputs": [
    {
     "name": "stdout",
     "output_type": "stream",
     "text": [
      "True\n"
     ]
    }
   ],
   "source": [
    "def isSame(s):\n",
    "    for i in range(1,len(s)):\n",
    "        #print(s[i],s[0])\n",
    "        if s[i]!=s[0]:\n",
    "            return False\n",
    "    return True\n",
    "if __name__ == \"__main__\":\n",
    "    s2=\"gggg\"\n",
    "    result=isSame(s2)\n",
    "    \n",
    "    print(result)"
   ]
  },
  {
   "cell_type": "markdown",
   "metadata": {},
   "source": [
    "# Program to find the initials of a name."
   ]
  },
  {
   "cell_type": "code",
   "execution_count": 38,
   "metadata": {},
   "outputs": [
    {
     "name": "stdout",
     "output_type": "stream",
     "text": [
      "P K S\n"
     ]
    }
   ],
   "source": [
    "def getInitials(s):\n",
    "    s=s.split(\" \")\n",
    "    result=[]\n",
    "    for i in s:\n",
    "        result.append(i[0].upper())\n",
    "    return \" \".join(result)\n",
    "    \n",
    "    \n",
    "if __name__ == \"__main__\":\n",
    "    s2=\"prabhat kumar singh\"\n",
    "    result=getInitials(s2)\n",
    "    \n",
    "    print(result)\n",
    "#O(w) where w is the number of words in the sentence"
   ]
  },
  {
   "cell_type": "markdown",
   "metadata": {},
   "source": [
    "# Check Whether a number is Duck Number or not\n",
    "A Duck number is a number which has zeroes present in it, but there should be no zero present in the beginning of the number. For example 3210, 8050896, 70709 are all duck numbers whereas 02364, 03401 are not."
   ]
  },
  {
   "cell_type": "code",
   "execution_count": 43,
   "metadata": {},
   "outputs": [
    {
     "name": "stdout",
     "output_type": "stream",
     "text": [
      "True\n"
     ]
    }
   ],
   "source": [
    "def isDuck(s):\n",
    "    if s[0]==\"0\":\n",
    "        return False\n",
    "    count=0\n",
    "    for i in range(1,len(s)):\n",
    "        if s[i]=='0':\n",
    "            count+=1\n",
    "    if count>0:\n",
    "        return True\n",
    "    return False\n",
    "    \n",
    "if __name__ == \"__main__\":\n",
    "    s2=\"3201\"\n",
    "    result=isDuck(s2)\n",
    "    \n",
    "    print(result)\n",
    "#O(w) where w is the number of words in the sentence"
   ]
  },
  {
   "cell_type": "markdown",
   "metadata": {},
   "source": [
    "# Round the given number to nearest multiple of 10"
   ]
  },
  {
   "cell_type": "code",
   "execution_count": 47,
   "metadata": {},
   "outputs": [
    {
     "name": "stdout",
     "output_type": "stream",
     "text": [
      "3210\n"
     ]
    }
   ],
   "source": [
    "def roundNumber(num):\n",
    "    a=(num//10)*10\n",
    "    b=a+10\n",
    "    if num-a >b-num:\n",
    "        return b\n",
    "    return a\n",
    "    \n",
    "if __name__ == \"__main__\":\n",
    "    s2=3209\n",
    "    result=roundNumber(s2)\n",
    "    \n",
    "    print(result)\n",
    "#O(w) where w is the number of words in the sentence"
   ]
  },
  {
   "cell_type": "markdown",
   "metadata": {},
   "source": [
    "# Change string to a new character set\n",
    "Given a 26 letter character set, which is equivalent to character set of English alphabet i.e. (abcd….xyz) and act as a relation. We are also given several sentences and we have to translate them with the help of given new character set.\n",
    "\n",
    "New character set : qwertyuiopasdfghjklzxcvbnm\n",
    "Input : \"utta\"\n",
    "Output : geek"
   ]
  },
  {
   "cell_type": "code",
   "execution_count": 7,
   "metadata": {},
   "outputs": [
    {
     "name": "stdout",
     "output_type": "stream",
     "text": [
      "Before utta\n",
      "After geek\n"
     ]
    }
   ],
   "source": [
    "def convertString(s,characterSet):\n",
    "    conversion={}\n",
    "    for i in range(len(characterSet)):\n",
    "        conversion[characterSet[i]]=chr(ord('a')+i)\n",
    "    #print(conversion)\n",
    "    new_s=\"\"\n",
    "    for i in range(len(s)):\n",
    "        new_s+=conversion[s[i]]\n",
    "    return new_s\n",
    "    \n",
    "if __name__ == \"__main__\":\n",
    "    s=\"utta\"\n",
    "    print(f\"Before {s}\")\n",
    "    characterSet='qwertyuiopasdfghjklzxcvbnm'\n",
    "    s=convertString(s,characterSet)\n",
    "    print(f\"After {s}\")"
   ]
  },
  {
   "cell_type": "markdown",
   "metadata": {},
   "source": [
    "# Find one extra character in a string\n",
    "Given two strings which are of lengths n and n+1. The second string contains all the character of the first string, but there is one extra character. Your task to find the extra character in the second string."
   ]
  },
  {
   "cell_type": "code",
   "execution_count": 10,
   "metadata": {},
   "outputs": [
    {
     "name": "stdout",
     "output_type": "stream",
     "text": [
      "e\n"
     ]
    }
   ],
   "source": [
    "# HASHING APPROACH \n",
    "def findExtraChar(s1,s2):\n",
    "    map={}\n",
    "    for i in s2:\n",
    "        if i in map:\n",
    "            map[i]+=1\n",
    "        else:\n",
    "            map[i]=1\n",
    "    for i in s1:\n",
    "        map[i]-=1\n",
    "    for i in map:\n",
    "        if map[i]==1:\n",
    "            return i\n",
    "if __name__ == \"__main__\":\n",
    "    s1=\"abcd\"\n",
    "    s2=\"abcde\"\n",
    "    result=findExtraChar(s1,s2)\n",
    "    print(result)\n",
    "#O(n) Time\n",
    "#O(n) Space"
   ]
  },
  {
   "cell_type": "code",
   "execution_count": 12,
   "metadata": {},
   "outputs": [
    {
     "name": "stdout",
     "output_type": "stream",
     "text": [
      "l\n"
     ]
    }
   ],
   "source": [
    "# XOR Bits APPROACH \n",
    "def findExtraChar(s1,s2):\n",
    "    res=0\n",
    "    for i in s1:\n",
    "        res^=ord(i)\n",
    "    for i in s2:\n",
    "        res^=ord(i)\n",
    "    return chr(res)\n",
    "if __name__ == \"__main__\":\n",
    "    s1=\"kxml\"\n",
    "    s2=\"klxml\"\n",
    "    result=findExtraChar(s1,s2)\n",
    "    print(result)\n",
    "#O(n) Time\n",
    "#O(1) Space"
   ]
  },
  {
   "cell_type": "code",
   "execution_count": 14,
   "metadata": {},
   "outputs": [
    {
     "name": "stdout",
     "output_type": "stream",
     "text": [
      "l\n"
     ]
    }
   ],
   "source": [
    "# SUM APPROACH \n",
    "def findExtraChar(s1,s2):\n",
    "    res=0\n",
    "    for i in s2:\n",
    "        res+=ord(i)\n",
    "    for i in s1:\n",
    "        res-=ord(i)\n",
    "    return chr(res)\n",
    "if __name__ == \"__main__\":\n",
    "    s1=\"kxml\"\n",
    "    s2=\"klxml\"\n",
    "    result=findExtraChar(s1,s2)\n",
    "    print(result)\n",
    "\n",
    "#O(n) Time\n",
    "#O(n) Space"
   ]
  },
  {
   "cell_type": "markdown",
   "metadata": {},
   "source": [
    "<h1><center>Strings in Python</center></h1>"
   ]
  },
  {
   "cell_type": "markdown",
   "metadata": {},
   "source": [
    "# find(“string”, beg, end) \n",
    "This function is used to find the position of the substring within a string.It takes 3 arguments, substring , starting index( by default 0) and ending index( by default string length).\n",
    "\n",
    "It returns “-1 ” if string is not found in given range.\n",
    "It returns first occurrence of string if found.\n",
    "\n",
    "\n",
    "# rfind(“string”, beg, end)\n",
    "This function has the similar working as find(), but it returns the position of the last occurrence of string.\n",
    "\n",
    "\n",
    "# startswith(“string”, beg, end)\n",
    "The purpose of this function is to return true if the function begins with mentioned string(prefix) else return false\n",
    "\n",
    "\n",
    "# endswith(“string”, beg, end)\n",
    "The purpose of this function is to return true if the function ends with mentioned string(suffix) else return false.\n",
    "\n",
    "\n",
    "# islower()\n",
    "This function returns true if all the letters in the string are lower cased, otherwise false.\n",
    "\n",
    "\n",
    "# isupper()\n",
    "This function returns true if all the letters in the string are upper cased, otherwise false.\n",
    "\n",
    "\n",
    "# lower()\n",
    "This function returns the new string with all the letters converted into its lower case.\n",
    "\n",
    "\n",
    "# upper()\n",
    "This function returns the new string with all the letters converted into its upper case.\n",
    "\n",
    "\n",
    "# swapcase()\n",
    "This function is used to swap the cases of string i.e upper case is converted to lower case and vice versa.\n",
    "\n",
    "\n",
    "# title()\n",
    "This function converts the string to its title case i.e the first letter of every word of string is upper cased and else all are lower cased."
   ]
  },
  {
   "cell_type": "code",
   "execution_count": 22,
   "metadata": {},
   "outputs": [
    {
     "name": "stdout",
     "output_type": "stream",
     "text": [
      "8\n",
      "11\n",
      "True\n",
      "True\n",
      "True\n",
      "False\n",
      "jupyter notebook\n",
      "JUPYTER NOTEBOOK\n",
      "JUPYTER NOTEBOOK\n",
      "Jupyter Notebook\n"
     ]
    }
   ],
   "source": [
    "str='jupyter notebook'\n",
    "\n",
    "#1\n",
    "result1=str.find('note')\n",
    "print(result1)\n",
    "\n",
    "#2\n",
    "result2=str.rfind('e')\n",
    "print(result2)\n",
    "\n",
    "result3=str.startswith('jupy')\n",
    "print(result3)\n",
    "\n",
    "result4=str.endswith('book')\n",
    "print(result4)\n",
    "\n",
    "result5=str.islower()\n",
    "print(result5)\n",
    "\n",
    "result6=str.isupper()\n",
    "print(result6)\n",
    "\n",
    "str1=str.lower()\n",
    "print(str1)\n",
    "\n",
    "str2=str.upper()\n",
    "print(str2)\n",
    "\n",
    "str3=str.swapcase()\n",
    "print(str3)\n",
    "\n",
    "str4=str.title()\n",
    "print(str4)"
   ]
  },
  {
   "cell_type": "markdown",
   "metadata": {},
   "source": [
    "# len()\n",
    "This function returns the length of the string.\n",
    " \n",
    " \n",
    "# count(“string”, beg, end)\n",
    "This function counts the occurrence of mentioned substring in whole string. This function takes 3 arguments, substring, beginning position( by default 0) and end position(by default string length).\n",
    "\n",
    "\n",
    "# center()\n",
    "This function is used to surround the string with a character repeated both sides of string multiple times. By default the character is a space. Takes 2 arguments, length of string and the character.\n",
    "\n",
    "\n",
    "# ljust()\n",
    "This function returns the original string shifted to left that has a character at its right. It left adjusts the string. By default the character is space. It also takes two arguments, length of string and the character.\n",
    "\n",
    "\n",
    "# rjust()\n",
    "This function returns the original string shifted to right that has a character at its left. It right adjusts the string. By default the character is space. It also takes two arguments, length of string and the character.\n",
    "\n",
    "\n",
    "# isalpha()\n",
    "This function returns true when all the characters in the string are alphabets else returns false.\n",
    "\n",
    "\n",
    "# isalnum()\n",
    "This function returns true when all the characters in the string are combination of numbers and/or alphabets else returns false.\n",
    "\n",
    "\n",
    "# isspace()\n",
    "This function returns true when all the characters in the string are spaces else returns false\n",
    "\n",
    "\n",
    "# join()\n",
    "This function is used to join a sequence of strings mentioned in its arguments with the string.\n",
    "\n",
    "\n",
    "# isdigit()\n",
    "This function returns true when all the characters in the string are integers else returns false"
   ]
  },
  {
   "cell_type": "code",
   "execution_count": 27,
   "metadata": {},
   "outputs": [
    {
     "name": "stdout",
     "output_type": "stream",
     "text": [
      "16\n",
      "2\n",
      "16\n",
      "       jupyter notebook       \n",
      "jupyter notebook              \n",
      "              jupyter notebook\n",
      "True\n",
      "True\n",
      "False\n",
      "Hello Jupyter Notebook\n",
      "True\n"
     ]
    }
   ],
   "source": [
    "str='jupyter notebook'\n",
    "\n",
    "result=len(str)\n",
    "print(result)\n",
    "\n",
    "result=str.count('t')\n",
    "print(result)\n",
    "\n",
    "result=len(str)\n",
    "print(result)\n",
    "\n",
    "result=str.center(30,' ')\n",
    "print(result)\n",
    "\n",
    "result=str.ljust(30,' ')\n",
    "print(result)\n",
    "\n",
    "result=str.rjust(30,' ')\n",
    "print(result)\n",
    "\n",
    "str3='jupyternotebook'\n",
    "result=str3.isalpha()\n",
    "print(result)\n",
    "\n",
    "str2='hello123'\n",
    "result=str2.isalnum()\n",
    "print(result)\n",
    "\n",
    "result=str.isspace()\n",
    "print(result)\n",
    "\n",
    "values=['Hello', 'Jupyter', 'Notebook']\n",
    "result=' '.join(values)\n",
    "print(result)\n",
    "\n",
    "num='123'\n",
    "result=num.isdigit()\n",
    "print(result)"
   ]
  },
  {
   "cell_type": "markdown",
   "metadata": {},
   "source": [
    "# strip()\n",
    "This method is used to delete all the leading and trailing characters mentioned in its argument.\n",
    "\n",
    "\n",
    "# lstrip()\n",
    "This method is used to delete all the leading characters mentioned in its argument.\n",
    "\n",
    "\n",
    "# rstrip()\n",
    "This method is used to delete all the trailing characters mentioned in its argument."
   ]
  },
  {
   "cell_type": "code",
   "execution_count": 28,
   "metadata": {},
   "outputs": [
    {
     "name": "stdout",
     "output_type": "stream",
     "text": [
      "jupyter notebook\n",
      "jupyter notebook------------------------\n",
      "------------jupyter notebook\n"
     ]
    }
   ],
   "source": [
    "str='------------jupyter notebook------------------------'\n",
    "\n",
    "result=str.strip('-')\n",
    "print(result)\n",
    "\n",
    "result=str.lstrip('-')\n",
    "print(result)\n",
    "\n",
    "result=str.rstrip('-')\n",
    "print(result)"
   ]
  },
  {
   "cell_type": "markdown",
   "metadata": {},
   "source": [
    "# min(“string”)\n",
    "This function returns the minimum value alphabet from string. Space, if given is minimum\n",
    "\n",
    "# max(“string”)\n",
    "This function returns the maximum value alphabet from string."
   ]
  },
  {
   "cell_type": "code",
   "execution_count": 38,
   "metadata": {},
   "outputs": [],
   "source": [
    "str='jupyternotebook'"
   ]
  },
  {
   "cell_type": "code",
   "execution_count": 39,
   "metadata": {},
   "outputs": [
    {
     "data": {
      "text/plain": [
       "'b'"
      ]
     },
     "execution_count": 39,
     "metadata": {},
     "output_type": "execute_result"
    }
   ],
   "source": [
    "min(str)"
   ]
  },
  {
   "cell_type": "code",
   "execution_count": 40,
   "metadata": {},
   "outputs": [
    {
     "data": {
      "text/plain": [
       "'y'"
      ]
     },
     "execution_count": 40,
     "metadata": {},
     "output_type": "execute_result"
    }
   ],
   "source": [
    "max(str)"
   ]
  },
  {
   "cell_type": "markdown",
   "metadata": {},
   "source": [
    "# maketrans()\n",
    "It is used to map the contents of string 1 with string 2 with respective indices to be translated later using translate().\n",
    "\n",
    "# translate()\n",
    "This is used to swap the string elements mapped with the help of maketrans()."
   ]
  },
  {
   "cell_type": "code",
   "execution_count": 46,
   "metadata": {},
   "outputs": [
    {
     "name": "stdout",
     "output_type": "stream",
     "text": [
      "{111: 101, 106: 116, 107: 109}\n",
      "tupyter netebeem\n"
     ]
    }
   ],
   "source": [
    "str='jupyter notebook'\n",
    "\n",
    "str1='ojk'\n",
    "str2='etm'\n",
    "\n",
    "mapped=str.maketrans(str1,str2)\n",
    "print(mapped)\n",
    "\n",
    "result=str.translate(mapped)\n",
    "print(result)"
   ]
  },
  {
   "cell_type": "markdown",
   "metadata": {},
   "source": [
    "# replace()\n",
    "This function is used to replace the substring with a new substring in the string. This function has 3 arguments. The string to replace, new string which would replace and max value denoting the limit to replace action ( by default unlimited ).\n",
    "\n",
    "\n",
    "# expandtabs()\n",
    "It is used to replace all tab characters(“\\t”) with whitespace or simply spaces using the given tab size, which is optional to supply.\n",
    "Parameters: Specifying the number of characters to be replaced for one tab character. By default, the function takes tab size as 8."
   ]
  },
  {
   "cell_type": "code",
   "execution_count": 51,
   "metadata": {},
   "outputs": [
    {
     "name": "stdout",
     "output_type": "stream",
     "text": [
      "geeksfornerds is for nerds\n",
      "geeksforgeeks is for nerds\n",
      "geeksforgeeks is for geeks\n",
      "GEEKS FOR GEEKS\n",
      "GEEKS   FOR     GEEKS\n"
     ]
    }
   ],
   "source": [
    "str = \"nerdsfornerds is for nerds\"\n",
    "  \n",
    "str1 = \"nerds\"\n",
    "str2 = \"geeks\"\n",
    "\n",
    "result=str.replace(str1,str2,1)\n",
    "print(result)\n",
    "\n",
    "result=str.replace(str1,str2,2)\n",
    "print(result)\n",
    "\n",
    "result=str.replace(str1,str2,3)\n",
    "print(result)\n",
    "\n",
    "\n",
    "string = 'GEEKS\\tFOR\\tGEEKS'\n",
    "result=string.expandtabs(1)\n",
    "print(result)\n",
    "\n",
    "result=string.expandtabs()\n",
    "print(result)"
   ]
  },
  {
   "cell_type": "markdown",
   "metadata": {},
   "source": [
    "# Given an array of names of candidates in an election. A candidate name in array represents a vote casted to the candidate. Print the name of candidates received Max vote. If there is tie, print lexicographically smaller name."
   ]
  },
  {
   "cell_type": "code",
   "execution_count": 9,
   "metadata": {},
   "outputs": [
    {
     "name": "stdout",
     "output_type": "stream",
     "text": [
      "['john', 'johnny']\n",
      "john\n"
     ]
    }
   ],
   "source": [
    "from collections import Counter\n",
    "def findWinner(arr):\n",
    "    votes=Counter(arr)\n",
    "    #print(dict)\n",
    "    vote_value={}\n",
    "    for i in votes.values():\n",
    "        vote_value[i]=[]\n",
    "    for key,value in votes.items():\n",
    "        vote_value[value].append(key)\n",
    "    \n",
    "    maxVote=sorted(vote_value.keys(),reverse=True)[0]\n",
    "    print(vote_value[maxVote])\n",
    "    if len(vote_value[maxVote])>1:\n",
    "        return sorted(vote_value[maxVote])[0]\n",
    "    else:\n",
    "        return vote_value[maxVote][0]\n",
    "\n",
    "if __name__ == '__main__':\n",
    "    arr=[\"john\", \"johnny\", \"jackie\",\"johnny\", \"john\", \"jackie\",\"jamie\", \"jamie\", \"john\",\"johnny\", \"jamie\", \"johnny\", \"john\"]\n",
    "    result=findWinner(arr)\n",
    "    print(result)"
   ]
  },
  {
   "cell_type": "markdown",
   "metadata": {},
   "source": [
    "# Maximum length of consecutive 1’s in a binary string in Python using Map function\n",
    "We are given a binary string containing 1’s and 0’s. Find maximum length of consecutive 1’s in it."
   ]
  },
  {
   "cell_type": "code",
   "execution_count": 18,
   "metadata": {},
   "outputs": [
    {
     "name": "stdout",
     "output_type": "stream",
     "text": [
      "['11', '', '', '1111', '1', '1', '111']\n",
      "[2, 0, 0, 4, 1, 1, 3]\n",
      "4\n",
      "4\n"
     ]
    }
   ],
   "source": [
    "def findMax(s):\n",
    "    count=0\n",
    "    result=float('-infinity')\n",
    "    for i in s:\n",
    "        if i=='0':\n",
    "            count=0\n",
    "        else:\n",
    "            count+=1\n",
    "            result=max(count,result)\n",
    "    return result\n",
    "\n",
    "def findMaxUsingMap(s):\n",
    "    result=s.split('0')\n",
    "    print(result)\n",
    "    result=list(map(len,result))\n",
    "    print(result)\n",
    "    print(max(result))\n",
    "    \n",
    "if __name__ == '__main__':\n",
    "    s='11000111101010111'\n",
    "    result=findMax(s)\n",
    "    findMaxUsingMap(s)\n",
    "    print(result)"
   ]
  },
  {
   "cell_type": "markdown",
   "metadata": {},
   "source": [
    "# Print common characters of two Strings in alphabetical order"
   ]
  },
  {
   "cell_type": "code",
   "execution_count": 22,
   "metadata": {},
   "outputs": [
    {
     "name": "stdout",
     "output_type": "stream",
     "text": [
      "eegks\n"
     ]
    }
   ],
   "source": [
    "def findCommon(s1,s2):\n",
    "    alphabet=[False]*26\n",
    "    result=''\n",
    "    for i in range(len(s1)):\n",
    "        alphabet[ord(s1[i])-ord('a')]=True\n",
    "    for i in range(len(s2)):\n",
    "        if alphabet[ord(s2[i])-ord('a')]==True:\n",
    "            result+=s2[i]\n",
    "    return (\"\".join(sorted(result)))\n",
    "\n",
    "if __name__ == '__main__':\n",
    "    s1='geeks'\n",
    "    s2='forgeeks'\n",
    "    result=findCommon(s1,s2)\n",
    "    print(result)"
   ]
  },
  {
   "cell_type": "code",
   "execution_count": 8,
   "metadata": {},
   "outputs": [
    {
     "name": "stdout",
     "output_type": "stream",
     "text": [
      "eegks\n"
     ]
    }
   ],
   "source": [
    "from collections import Counter\n",
    "def findCommon(s1,s2):\n",
    "    dict1=Counter(s1)\n",
    "    dict2=Counter(s2)\n",
    "    common=dict1 & dict2\n",
    "    #print(common)\n",
    "    ele=list(common.elements())\n",
    "    #print(ele)\n",
    "    if len(ele)==0:\n",
    "        return -1\n",
    "    else:\n",
    "        return ''.join(sorted(ele))\n",
    "\n",
    "if __name__ == '__main__':\n",
    "    s1='geeks'\n",
    "    s2='forgeeks'\n",
    "    result=findCommon(s1,s2)\n",
    "    print(result)"
   ]
  },
  {
   "cell_type": "markdown",
   "metadata": {},
   "source": [
    "# Find minimum character removal to make two strings anagram\n",
    "If two strings contains same data set in any order then strings are called Anagrams"
   ]
  },
  {
   "cell_type": "code",
   "execution_count": 13,
   "metadata": {},
   "outputs": [
    {
     "name": "stdout",
     "output_type": "stream",
     "text": [
      "b c d\n"
     ]
    }
   ],
   "source": [
    "from collections import Counter\n",
    "def findMinChar(s1,s2):\n",
    "    #dict1=Counter(s1)\n",
    "    dict2=Counter(s2)\n",
    "    #print(dict1)\n",
    "    #print(dict2)\n",
    "    result=[]\n",
    "    for i in s1:\n",
    "        if i not in dict2:\n",
    "            result.append(i)\n",
    "    return ' '.join(result)\n",
    "if __name__ == '__main__':\n",
    "    s1='bcadeh'\n",
    "    s2='hea'\n",
    "    result=findMinChar(s1,s2)\n",
    "    print(result)"
   ]
  },
  {
   "cell_type": "code",
   "execution_count": 15,
   "metadata": {},
   "outputs": [
    {
     "name": "stdout",
     "output_type": "stream",
     "text": [
      "3\n"
     ]
    }
   ],
   "source": [
    "from collections import Counter\n",
    "def findMinChar(s1,s2):\n",
    "    dict1=Counter(s1)\n",
    "    dict2=Counter(s2)\n",
    "    #print(dict1)\n",
    "    #print(dict2)\n",
    "    keys1=dict1.keys()\n",
    "    keys2=dict2.keys()\n",
    "    #print(keys1)\n",
    "    count1=len(keys1)\n",
    "    count2=len(keys2)\n",
    "    set1=set(keys1)\n",
    "    commonKeys=len(set1.intersection(keys2))\n",
    "    if commonKeys==0:\n",
    "        return count1+count2\n",
    "    else:\n",
    "        return max(count1,count2)-commonKeys\n",
    "if __name__ == '__main__':\n",
    "    s1='bcadeh'\n",
    "    s2='hea'\n",
    "    result=findMinChar(s1,s2)\n",
    "    print(result)"
   ]
  },
  {
   "cell_type": "markdown",
   "metadata": {},
   "source": [
    "# Reverse String"
   ]
  },
  {
   "cell_type": "code",
   "execution_count": 20,
   "metadata": {},
   "outputs": [
    {
     "name": "stdout",
     "output_type": "stream",
     "text": [
      "olleh\n"
     ]
    }
   ],
   "source": [
    "def reverseStringRecur(s,low,high):\n",
    "    if low>high:\n",
    "        return s\n",
    "    s[low],s[high]=s[high],s[low]\n",
    "    return reverseStringRecur(s,low+1,high-1)\n",
    "\n",
    "def reverseString(s):\n",
    "    low=0\n",
    "    high=len(s)-1\n",
    "    s=list(s)\n",
    "    return ''.join(reverseStringRecur(s,low,high))\n",
    "\n",
    "if __name__ == '__main__':\n",
    "    s='hello'\n",
    "    s=reverseString(s)\n",
    "    print(s)"
   ]
  },
  {
   "cell_type": "code",
   "execution_count": 21,
   "metadata": {},
   "outputs": [
    {
     "name": "stdout",
     "output_type": "stream",
     "text": [
      "olleh\n"
     ]
    }
   ],
   "source": [
    "def reverseString(s):\n",
    "    str=''\n",
    "    for i in s:\n",
    "        str=i+str\n",
    "    return str\n",
    "if __name__ == '__main__':\n",
    "    s='hello'\n",
    "    s=reverseString(s)\n",
    "    print(s)"
   ]
  },
  {
   "cell_type": "code",
   "execution_count": 24,
   "metadata": {},
   "outputs": [
    {
     "name": "stdout",
     "output_type": "stream",
     "text": [
      "olleh\n"
     ]
    }
   ],
   "source": [
    "def reverseStringUtil(s,str,n):\n",
    "    if n<0:\n",
    "        return str\n",
    "    str+=s[n]\n",
    "    return reverseStringUtil(s,str,n-1)\n",
    "\n",
    "def reverseString(s):\n",
    "    str=''\n",
    "    n=len(s)-1\n",
    "    return reverseStringUtil(s,str,n)\n",
    "    \n",
    "    \n",
    "if __name__ == '__main__':\n",
    "    s='hello'\n",
    "    s=reverseString(s)\n",
    "    print(s)"
   ]
  },
  {
   "cell_type": "code",
   "execution_count": 26,
   "metadata": {},
   "outputs": [
    {
     "name": "stdout",
     "output_type": "stream",
     "text": [
      "olleh\n",
      "olleh\n"
     ]
    }
   ],
   "source": [
    "def reverseString(s):\n",
    "    str=''\n",
    "    stack=[]\n",
    "    for i in s:\n",
    "        stack.append(i)\n",
    "    while stack:\n",
    "        str+=stack.pop()\n",
    "    #print(str)\n",
    "    return str\n",
    "    \n",
    "    \n",
    "if __name__ == '__main__':\n",
    "    s='hello'\n",
    "    s=reverseString(s)\n",
    "    print(s)"
   ]
  },
  {
   "cell_type": "code",
   "execution_count": 27,
   "metadata": {},
   "outputs": [
    {
     "name": "stdout",
     "output_type": "stream",
     "text": [
      "olleh\n"
     ]
    }
   ],
   "source": [
    "def reverseString(s):\n",
    "    str=s[::-1]\n",
    "    return str\n",
    "    \n",
    "    \n",
    "if __name__ == '__main__':\n",
    "    s='hello'\n",
    "    s=reverseString(s)\n",
    "    print(s)"
   ]
  },
  {
   "cell_type": "code",
   "execution_count": 28,
   "metadata": {},
   "outputs": [
    {
     "name": "stdout",
     "output_type": "stream",
     "text": [
      "olleh\n"
     ]
    }
   ],
   "source": [
    "def reverseString(s):\n",
    "    str=''.join(reversed(s))\n",
    "    return str\n",
    "    \n",
    "    \n",
    "if __name__ == '__main__':\n",
    "    s='hello'\n",
    "    s=reverseString(s)\n",
    "    print(s)"
   ]
  },
  {
   "cell_type": "markdown",
   "metadata": {},
   "source": [
    "# Remove all consecutive duplicates\n",
    "Input  : aaaaabbbbbb\n",
    "Output : ab"
   ]
  },
  {
   "cell_type": "code",
   "execution_count": 35,
   "metadata": {},
   "outputs": [
    {
     "name": "stdout",
     "output_type": "stream",
     "text": [
      "ab\n"
     ]
    }
   ],
   "source": [
    "def removeDuplicates(s):\n",
    "    i=0\n",
    "    while i<len(s)-1:\n",
    "        if s[i]==s[i+1]:\n",
    "            s=s.replace(s[i],'',1)\n",
    "        else:\n",
    "            i+=1\n",
    "    return s\n",
    "if __name__ == '__main__':\n",
    "    s='aaaaabbbbbb'\n",
    "    s=removeDuplicates(s)\n",
    "    print(s)"
   ]
  },
  {
   "cell_type": "code",
   "execution_count": 38,
   "metadata": {},
   "outputs": [
    {
     "name": "stdout",
     "output_type": "stream",
     "text": [
      "ab\n"
     ]
    }
   ],
   "source": [
    "def removeDuplicates(s):\n",
    "    stack=[]\n",
    "    for i in s:\n",
    "        stack.append(i)\n",
    "    s=stack.pop()\n",
    "    while stack:\n",
    "        if s[0]==stack[-1]:\n",
    "            stack.pop()\n",
    "        else:\n",
    "            s=stack.pop() + s\n",
    "    #print(s)\n",
    "    return s    \n",
    "if __name__ == '__main__':\n",
    "    s='aaaaabbbbbb'\n",
    "    s=removeDuplicates(s)\n",
    "    print(s)"
   ]
  },
  {
   "cell_type": "code",
   "execution_count": 39,
   "metadata": {},
   "outputs": [
    {
     "name": "stdout",
     "output_type": "stream",
     "text": [
      "ab\n"
     ]
    }
   ],
   "source": [
    "from itertools import groupby\n",
    "def removeDuplicates(s):\n",
    "    result=[]\n",
    "    for (key,group) in groupby(s):\n",
    "        result.append(key)\n",
    "    return ''.join(result)\n",
    "    \n",
    "if __name__ == '__main__':\n",
    "    s='aaaaabbbbbb'\n",
    "    s=removeDuplicates(s)\n",
    "    print(s)"
   ]
  },
  {
   "cell_type": "markdown",
   "metadata": {},
   "source": [
    "# Generate two output strings depending upon occurrence of character\n",
    "\n",
    "Given an input string str[], generate two output strings. One of which consists of those character which occurs only once in input string and second which consists of multi-time occurring characters. Output strings must be sorted."
   ]
  },
  {
   "cell_type": "code",
   "execution_count": 45,
   "metadata": {},
   "outputs": [
    {
     "name": "stdout",
     "output_type": "stream",
     "text": [
      "Counter({'e': 3, 'c': 2, 'g': 1, 'k': 1, 's': 1, 'p': 1, 'r': 1, 'a': 1, 't': 1, 'i': 1})\n",
      "agikprst ce\n"
     ]
    }
   ],
   "source": [
    "from collections import Counter\n",
    "def genStrings(s):\n",
    "    result1=[]\n",
    "    result2=[]\n",
    "    dict1=Counter(s)\n",
    "    print(dict1)\n",
    "    for (key,value) in dict1.items():\n",
    "        if value == 1:\n",
    "            result1.append(key)\n",
    "        else:\n",
    "            result2.append(key)\n",
    "    s1=''.join(sorted(result1))\n",
    "    s2=''.join(sorted(result2))\n",
    "    return [s1,s2]\n",
    "    \n",
    "if __name__ == '__main__':\n",
    "    s='geekspractice'\n",
    "    s=genStrings(s)\n",
    "    print(s[0],s[1])"
   ]
  },
  {
   "cell_type": "markdown",
   "metadata": {},
   "source": [
    "# Find mirror characters in a string\n"
   ]
  },
  {
   "cell_type": "code",
   "execution_count": 59,
   "metadata": {},
   "outputs": [
    {
     "name": "stdout",
     "output_type": "stream",
     "text": [
      "pnefnlmrz\n"
     ]
    }
   ],
   "source": [
    "def findMirror(s,n):\n",
    "    alphabet='abcdefghijklmnopqrstuvwxyz'\n",
    "    mirror=alphabet[::-1]\n",
    "    str=''\n",
    "    key=s.maketrans(alphabet,mirror)\n",
    "    for i in range(len(s)):\n",
    "        if i<n-1:\n",
    "            str+=s[i]\n",
    "        else:\n",
    "            \n",
    "            str+=chr(key[ord(s[i])])\n",
    "    return str\n",
    "    \n",
    "if __name__ == '__main__':\n",
    "    s='pneumonia'\n",
    "    n=4\n",
    "    result=findMirror(s,n)\n",
    "    print(result)"
   ]
  },
  {
   "cell_type": "markdown",
   "metadata": {},
   "source": [
    "# Convert a list of characters into a string"
   ]
  },
  {
   "cell_type": "code",
   "execution_count": 60,
   "metadata": {},
   "outputs": [
    {
     "name": "stdout",
     "output_type": "stream",
     "text": [
      "geeksforgeeks\n"
     ]
    }
   ],
   "source": [
    "def convertIntoString(s):\n",
    "    \n",
    "    return ''.join(s)\n",
    "    \n",
    "if __name__ == '__main__':\n",
    "    s=['g', 'e', 'e', 'k', 's', 'f', 'o', 'r', 'g', 'e', 'e', 'k', 's']\n",
    "    \n",
    "    result=convertIntoString(s)\n",
    "    print(result)"
   ]
  },
  {
   "cell_type": "code",
   "execution_count": null,
   "metadata": {},
   "outputs": [],
   "source": []
  }
 ],
 "metadata": {
  "kernelspec": {
   "display_name": "Python 3",
   "language": "python",
   "name": "python3"
  },
  "language_info": {
   "codemirror_mode": {
    "name": "ipython",
    "version": 3
   },
   "file_extension": ".py",
   "mimetype": "text/x-python",
   "name": "python",
   "nbconvert_exporter": "python",
   "pygments_lexer": "ipython3",
   "version": "3.7.6"
  }
 },
 "nbformat": 4,
 "nbformat_minor": 4
}

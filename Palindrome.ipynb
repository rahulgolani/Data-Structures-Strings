{
 "cells": [
  {
   "cell_type": "markdown",
   "metadata": {},
   "source": [
    "# Check if a Given String is Palindrome"
   ]
  },
  {
   "cell_type": "markdown",
   "metadata": {},
   "source": [
    "# Check if a given string is a rotation of a palindrome"
   ]
  },
  {
   "cell_type": "markdown",
   "metadata": {},
   "source": [
    "# Print all palindromes in a given range"
   ]
  },
  {
   "cell_type": "markdown",
   "metadata": {},
   "source": [
    "# Check if characters of a given string can be rearranged to form a palindrome"
   ]
  },
  {
   "cell_type": "markdown",
   "metadata": {},
   "source": [
    "A set of characters can form a palindrome if at most one character occurs odd number of times and all characters occur even number of times."
   ]
  },
  {
   "cell_type": "markdown",
   "metadata": {},
   "source": [
    "Hashing Approach, Insert/Remove from List approach"
   ]
  },
  {
   "cell_type": "markdown",
   "metadata": {},
   "source": [
    "Bit Maniputaion to do"
   ]
  },
  {
   "cell_type": "markdown",
   "metadata": {},
   "source": [
    "# Minimum insertions to form a palindrome"
   ]
  },
  {
   "cell_type": "markdown",
   "metadata": {},
   "source": [
    "The minimum number of insertions in the string str[l…..h] can be given as: \n",
    " \n",
    "minInsertions(str[l+1…..h-1]) if str[l] is equal to str[h]\n",
    "\n",
    "min(minInsertions(str[l…..h-1]), minInsertions(str[l+1…..h])) + 1 otherwise"
   ]
  },
  {
   "cell_type": "code",
   "execution_count": 1,
   "metadata": {},
   "outputs": [
    {
     "name": "stdout",
     "output_type": "stream",
     "text": [
      "3\n"
     ]
    }
   ],
   "source": [
    "def getMinInsertions(s,l,h):\n",
    "    if l==h:\n",
    "        return 0\n",
    "    if l==h-1:\n",
    "        if s[l]==s[h]:\n",
    "            return 0\n",
    "        return 1\n",
    "    if s[l]==s[h]:\n",
    "        return getMinInsertions(s,l+1,h-1)\n",
    "    return min(getMinInsertions(s,l+1,h),getMinInsertions(s,l,h-1))+1\n",
    "\n",
    "if __name__ == '__main__':\n",
    "    s=\"geeks\"\n",
    "    print(getMinInsertions(s,0,len(s)-1))\n"
   ]
  },
  {
   "cell_type": "markdown",
   "metadata": {},
   "source": [
    "Memoization Approach"
   ]
  },
  {
   "cell_type": "code",
   "execution_count": 2,
   "metadata": {},
   "outputs": [
    {
     "name": "stdout",
     "output_type": "stream",
     "text": [
      "3\n"
     ]
    }
   ],
   "source": [
    "def getMinInsertions(s):\n",
    "    n=len(s)\n",
    "    dp=[[0 for j in range(n)]for i in range(n)]\n",
    "    for gap in range(1,n):\n",
    "        i=0\n",
    "        for j in range(gap,n):\n",
    "            if s[i]==s[j]:\n",
    "                dp[i][j]=dp[i+1][j-1]\n",
    "            else:\n",
    "                dp[i][j]=min(dp[i][j-1],dp[i+1][j])+1\n",
    "            i+=1\n",
    "    return dp[0][n-1]\n",
    "\n",
    "if __name__ == '__main__':\n",
    "    s=\"geeks\"\n",
    "    print(getMinInsertions(s))\n"
   ]
  },
  {
   "cell_type": "code",
   "execution_count": null,
   "metadata": {},
   "outputs": [],
   "source": []
  }
 ],
 "metadata": {
  "kernelspec": {
   "display_name": "Python 3",
   "language": "python",
   "name": "python3"
  },
  "language_info": {
   "codemirror_mode": {
    "name": "ipython",
    "version": 3
   },
   "file_extension": ".py",
   "mimetype": "text/x-python",
   "name": "python",
   "nbconvert_exporter": "python",
   "pygments_lexer": "ipython3",
   "version": "3.7.6"
  }
 },
 "nbformat": 4,
 "nbformat_minor": 4
}

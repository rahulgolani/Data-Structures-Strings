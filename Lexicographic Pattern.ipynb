{
 "cells": [
  {
   "cell_type": "markdown",
   "metadata": {},
   "source": [
    "# Lexicographic rank of a string"
   ]
  },
  {
   "cell_type": "markdown",
   "metadata": {},
   "source": [
    "Given a string, find its rank among all its permutations sorted lexicographically. For example, rank of “abc” is 1, rank of “acb” is 2, and rank of “cba” is 6."
   ]
  },
  {
   "cell_type": "markdown",
   "metadata": {},
   "source": [
    "<pre>\n",
    "Let the given string be “STRING”. In the input string, ‘S’ is the first character. There are total 6 characters and 4 of them are smaller than ‘S’. So there can be 4 * 5! smaller strings where first character is smaller than ‘S’, like following\n",
    "R X X X X X \n",
    "I X X X X X \n",
    "N X X X X X \n",
    "G X X X X X\n",
    "Now let us Fix S’ and find the smaller strings starting with ‘S’.\n",
    "\n",
    "Repeat the same process for T, rank is 4*5! + 4*4! +…\n",
    "\n",
    "Now fix T and repeat the same process for R, rank is 4*5! + 4*4! + 3*3! +…\n",
    "\n",
    "Now fix R and repeat the same process for I, rank is 4*5! + 4*4! + 3*3! + 1*2! +…\n",
    "\n",
    "Now fix I and repeat the same process for N, rank is 4*5! + 4*4! + 3*3! + 1*2! + 1*1! +…\n",
    "\n",
    "Now fix N and repeat the same process for G, rank is 4*5! + 4*4! + 3*3! + 1*2! + 1*1! + 0*0!\n",
    "\n",
    "Rank = 4*5! + 4*4! + 3*3! + 1*2! + 1*1! + 0*0! = 597\n",
    "\n",
    "Note that the above computations find count of smaller strings. Therefore rank of given string is count of smaller strings plus 1. The final rank = 1 + 597 = 598\n",
    "</pre>"
   ]
  },
  {
   "cell_type": "code",
   "execution_count": 1,
   "metadata": {},
   "outputs": [
    {
     "name": "stdout",
     "output_type": "stream",
     "text": [
      "598\n"
     ]
    }
   ],
   "source": [
    "from math import factorial\n",
    "\n",
    "def getCountRight(s,low,high):\n",
    "    countRight=0\n",
    "    for i in range(low+1,high):\n",
    "        if s[i]<s[low]:\n",
    "            countRight+=1\n",
    "    return countRight\n",
    "\n",
    "def findLexicographicRank(s):\n",
    "    n=len(s)\n",
    "    fact=factorial(n)\n",
    "    i=0\n",
    "    rank=0\n",
    "    for i in range(n):\n",
    "        fact=fact//(n-i)\n",
    "        countRight=getCountRight(s,i,n)\n",
    "        rank+=fact*countRight\n",
    "    return rank+1\n",
    "\n",
    "if __name__ == '__main__':\n",
    "    s=\"string\"\n",
    "    print(findLexicographicRank(s))\n"
   ]
  },
  {
   "cell_type": "markdown",
   "metadata": {},
   "source": [
    "Time Complexity O(n^2)"
   ]
  },
  {
   "cell_type": "markdown",
   "metadata": {},
   "source": [
    "O(n) solution to do"
   ]
  },
  {
   "cell_type": "markdown",
   "metadata": {},
   "source": [
    "# Power Set in Lexicographic order"
   ]
  },
  {
   "cell_type": "code",
   "execution_count": 2,
   "metadata": {},
   "outputs": [
    {
     "name": "stdout",
     "output_type": "stream",
     "text": [
      "a\n",
      "ab\n",
      "abc\n",
      "ac\n",
      "b\n",
      "bc\n",
      "c\n"
     ]
    }
   ],
   "source": [
    "def getPowerSetUtil(s,n,index,curr):\n",
    "    if index==n:\n",
    "        return\n",
    "\n",
    "    if len(curr)>0:\n",
    "        print(curr)\n",
    "\n",
    "    for i in range(index+1,n):\n",
    "        curr+=s[i]\n",
    "        getPowerSetUtil(s,n,i,curr)\n",
    "        curr=curr[:len(curr)-1]\n",
    "\n",
    "\n",
    "def getPowerSet(s):\n",
    "    s=\"\".join(sorted(s))\n",
    "    getPowerSetUtil(s,len(s),-1,\"\")\n",
    "\n",
    "if __name__ == '__main__':\n",
    "    s=\"cab\"\n",
    "    getPowerSet(s)\n"
   ]
  },
  {
   "cell_type": "markdown",
   "metadata": {},
   "source": [
    "# Lexicographically n-th permutation of a string"
   ]
  },
  {
   "cell_type": "markdown",
   "metadata": {},
   "source": [
    "Aprroach -> Recursion, but since we have to get strings of original length and may need to go back in the string, we use hashMap as well"
   ]
  },
  {
   "cell_type": "code",
   "execution_count": 1,
   "metadata": {},
   "outputs": [
    {
     "name": "stdout",
     "output_type": "stream",
     "text": [
      "bac\n"
     ]
    }
   ],
   "source": [
    "def getPermutations(s,n):\n",
    "    l=len(s)\n",
    "    mapValue={i:False for i in s}\n",
    "    k=[0]\n",
    "    getPermutationsUtil(s,n,l,\"\",mapValue,k)\n",
    "\n",
    "def getPermutationsUtil(s,n,l,curr,mapValue,k):\n",
    "    if len(curr)==n:\n",
    "        k[0]+=1\n",
    "        if k[0]==n:\n",
    "            print(curr)\n",
    "        return\n",
    "\n",
    "    for i in range(l):\n",
    "        if mapValue[s[i]]==False:\n",
    "            curr+=s[i]\n",
    "            mapValue[s[i]]=True\n",
    "            getPermutationsUtil(s,n,l,curr,mapValue,k)\n",
    "            mapValue[curr[-1]]=False\n",
    "            curr=curr[:len(curr)-1]\n",
    "\n",
    "if __name__ == '__main__':\n",
    "    s=\"abc\"\n",
    "    n=3\n",
    "    # s=\"aba\"\n",
    "    # n=2\n",
    "    getPermutations(s,n)\n"
   ]
  },
  {
   "cell_type": "markdown",
   "metadata": {},
   "source": [
    "# All Permutations"
   ]
  },
  {
   "cell_type": "code",
   "execution_count": 2,
   "metadata": {},
   "outputs": [
    {
     "name": "stdout",
     "output_type": "stream",
     "text": [
      "abc\n",
      "acb\n",
      "bac\n",
      "bca\n",
      "cab\n",
      "cba\n"
     ]
    }
   ],
   "source": [
    "def getPermutations(s):\n",
    "    n=len(s)\n",
    "    mapValue={i:False for i in s}\n",
    "    getPermutationsUtil(s,n,\"\",mapValue)\n",
    "\n",
    "def getPermutationsUtil(s,n,curr,mapValue):\n",
    "    if len(curr)==n:\n",
    "        print(curr)\n",
    "        return\n",
    "\n",
    "    for i in range(n):\n",
    "        if mapValue[s[i]] == False:\n",
    "            curr+=s[i]\n",
    "            mapValue[s[i]]=True\n",
    "            getPermutationsUtil(s,n,curr,mapValue)\n",
    "            mapValue[curr[-1]]=False\n",
    "            curr=curr[:len(curr)-1]\n",
    "\n",
    "if __name__ == '__main__':\n",
    "    s=\"abc\"\n",
    "    getPermutations(s)\n"
   ]
  },
  {
   "cell_type": "markdown",
   "metadata": {},
   "source": [
    "# Lexicographically minimum string rotation"
   ]
  },
  {
   "cell_type": "markdown",
   "metadata": {},
   "source": [
    "Write code to find lexicographic minimum in a circular array, e.g. for the array BCABDADAB, the lexicographic minimum is ABBCABDAD"
   ]
  },
  {
   "cell_type": "markdown",
   "metadata": {},
   "source": [
    "Approach - double sized array, generate all rotations and get the smaller one by sorting"
   ]
  },
  {
   "cell_type": "code",
   "execution_count": 3,
   "metadata": {},
   "outputs": [
    {
     "name": "stdout",
     "output_type": "stream",
     "text": [
      "EEKSQUIZG\n"
     ]
    }
   ],
   "source": [
    "def getMinStringRotation(s):\n",
    "    n=len(s)\n",
    "    sTemp=s*2\n",
    "    result=[]\n",
    "    for i in range(n):\n",
    "        result.append(sTemp[i:i+n])\n",
    "\n",
    "    result.sort()\n",
    "    return result[0]\n",
    "\n",
    "if __name__ == '__main__':\n",
    "    # s=\"BCABDADAB\"\n",
    "    s=\"GEEKSQUIZ\"\n",
    "    print(getMinStringRotation(s))\n"
   ]
  },
  {
   "cell_type": "markdown",
   "metadata": {},
   "source": [
    "# Generating distinct subsequences of a given string in lexicographical order"
   ]
  },
  {
   "cell_type": "markdown",
   "metadata": {},
   "source": [
    "Power set but here distinct susbsequences have to be considered"
   ]
  },
  {
   "cell_type": "code",
   "execution_count": 9,
   "metadata": {},
   "outputs": [
    {
     "name": "stdout",
     "output_type": "stream",
     "text": [
      "['x', 'xx', 'xy', 'xyx', 'xyz', 'xyzx', 'xz', 'xzx', 'y', 'yx', 'yz', 'yzx', 'z', 'zx']\n"
     ]
    }
   ],
   "source": [
    "def getAllSubsequencesUtil(s,n,curr,index,hashMap,result):\n",
    "\n",
    "    if len(curr)>0 and curr not in hashMap:\n",
    "        # print(curr)\n",
    "        result.append(curr)\n",
    "        hashMap[curr]=True\n",
    "\n",
    "    for i in range(index+1,n):\n",
    "        curr+=s[i]\n",
    "        getAllSubsequencesUtil(s,n,curr,i,hashMap,result)\n",
    "        curr=curr[:len(curr)-1]\n",
    "\n",
    "def getAllSubsequences(s):\n",
    "    n=len(s)\n",
    "    hashMap={}\n",
    "    result=[]\n",
    "    getAllSubsequencesUtil(s,n,\"\",-1,hashMap,result)\n",
    "    result=sorted(result)\n",
    "    print(result)\n",
    "\n",
    "if __name__ == '__main__':\n",
    "    s=\"xyzx\"\n",
    "    getAllSubsequences(s)\n"
   ]
  },
  {
   "cell_type": "markdown",
   "metadata": {},
   "source": [
    "# Lexicographically smallest string obtained after concatenating array"
   ]
  },
  {
   "cell_type": "markdown",
   "metadata": {},
   "source": [
    "Approach 1-> Generate all the strings using recursion and simultaneously check for the smallest one"
   ]
  },
  {
   "cell_type": "code",
   "execution_count": 6,
   "metadata": {},
   "outputs": [
    {
     "name": "stdout",
     "output_type": "stream",
     "text": [
      "cbacbc\n"
     ]
    }
   ],
   "source": [
    "def getSmallestSubstringUtil(s,n,lenOfStr,hashMap,curr,result):\n",
    "\n",
    "    if len(curr)==lenOfStr:\n",
    "        if result[0]>curr:\n",
    "            result[0]=curr\n",
    "\n",
    "    for i in range(n):\n",
    "        if hashMap[s[i]]==False:\n",
    "            curr+=s[i]\n",
    "            hashMap[s[i]]=True\n",
    "            getSmallestSubstringUtil(s,n,lenOfStr,hashMap,curr,result)\n",
    "            hashMap[s[i]]=False\n",
    "            k=len(s[i])\n",
    "            curr=curr[:len(curr)-k]\n",
    "\n",
    "def getSmallestSubstring(s):\n",
    "    n=len(s)\n",
    "    hashMap={i:False for i in s}\n",
    "    result=[\"\".join(s)]\n",
    "    lenOfStr=len(result[0])\n",
    "    getSmallestSubstringUtil(s,n,lenOfStr,hashMap,\"\",result)\n",
    "    print(result[0])\n",
    "\n",
    "if __name__ == '__main__':\n",
    "    s=[\"c\",\"cb\",\"cba\"]\n",
    "    # s=[\"aa\", \"ab\", \"aaa\"]\n",
    "    getSmallestSubstring(s)\n"
   ]
  },
  {
   "cell_type": "markdown",
   "metadata": {},
   "source": [
    "Another Approach -> is to use a regular sorting algorithm. When two strings a and b are compared to decide if they have to be swapped or not, do not check if a is lexicographically smaller than b or not. Instead check if appending b at the end of a produces a lexicographically smaller string or appending a at the end of b does. This approach works because we want the concatenated string to be lexicographically small, not the individual strings to be in the lexicographical order."
   ]
  },
  {
   "cell_type": "code",
   "execution_count": 7,
   "metadata": {},
   "outputs": [
    {
     "name": "stdout",
     "output_type": "stream",
     "text": [
      "cbacbc\n"
     ]
    }
   ],
   "source": [
    "from functools import cmp_to_key\n",
    "\n",
    "def compare(a,b):\n",
    "    s1=a+b\n",
    "    s2=b+a\n",
    "    if s1<s2:\n",
    "        return -1\n",
    "    elif s1>s2:\n",
    "        return 1\n",
    "    else:\n",
    "        return 0\n",
    "\n",
    "def getSmallestSubstring(arr):\n",
    "    arr.sort(key=cmp_to_key(compare))\n",
    "    return \"\".join(arr)\n",
    "\n",
    "if __name__ == '__main__':\n",
    "    arr=[\"c\",\"cb\",\"cba\"]\n",
    "    print(getSmallestSubstring(arr))\n"
   ]
  },
  {
   "cell_type": "markdown",
   "metadata": {},
   "source": [
    "# Lexicographical Maximum substring of string"
   ]
  },
  {
   "cell_type": "markdown",
   "metadata": {},
   "source": [
    "Approach 1-> Find all the substrings and check for the lexicographically maximum one"
   ]
  },
  {
   "cell_type": "markdown",
   "metadata": {},
   "source": [
    "Approach2-> We find the largest character and all its indexes. Now we simply traverse through all instances of the largest character to find lexicographically maximum substring"
   ]
  },
  {
   "cell_type": "code",
   "execution_count": 8,
   "metadata": {},
   "outputs": [
    {
     "name": "stdout",
     "output_type": "stream",
     "text": [
      "sdfaa\n"
     ]
    }
   ],
   "source": [
    "def getLexicographicallyMaxSubstring(s):\n",
    "    n=len(s)\n",
    "    maxChar='a'\n",
    "    for i in s:\n",
    "        if i>maxChar:\n",
    "            maxChar=i\n",
    "    result=\"\"\n",
    "    for i in range(n):\n",
    "        if s[i]==maxChar:\n",
    "            temp=s[i:n]\n",
    "            if temp>result:\n",
    "                result=temp\n",
    "    return result\n",
    "\n",
    "if __name__ == '__main__':\n",
    "    # s=\"ababaa\"\n",
    "    s=\"asdfaa\"\n",
    "    print(getLexicographicallyMaxSubstring(s))\n"
   ]
  },
  {
   "cell_type": "markdown",
   "metadata": {},
   "source": [
    "# Lexicographical concatenation of all substrings of a string"
   ]
  },
  {
   "cell_type": "markdown",
   "metadata": {},
   "source": [
    "Get all the substrings and store those in a array. Sort the array and then get the concatenation"
   ]
  },
  {
   "cell_type": "code",
   "execution_count": 10,
   "metadata": {},
   "outputs": [
    {
     "name": "stdout",
     "output_type": "stream",
     "text": [
      "abbaccacbcba\n"
     ]
    }
   ],
   "source": [
    "def getLexicographicalSubstringUtil(s,n,curr,result,index):\n",
    "    if index==n:\n",
    "        return\n",
    "\n",
    "    if len(curr)>0:\n",
    "        result.append(curr)\n",
    "\n",
    "    for i in range(index+1,n):\n",
    "        curr+=s[i]\n",
    "        getLexicographicalSubstringUtil(s,n,curr,result,i)\n",
    "        curr=curr[:len(curr)-1]\n",
    "\n",
    "def getLexicographicalSubstring(s):\n",
    "    n=len(s)\n",
    "    # s=sorted(s)\n",
    "    result=[]\n",
    "    getLexicographicalSubstringUtil(s,n,\"\",result,-1)\n",
    "    result=sorted(result)\n",
    "    return \"\".join(result)\n",
    "\n",
    "if __name__ == '__main__':\n",
    "    # s=\"abc\"\n",
    "    s=\"cba\"\n",
    "    print(getLexicographicalSubstring(s))\n"
   ]
  },
  {
   "cell_type": "markdown",
   "metadata": {},
   "source": [
    "# Construct lexicographically smallest palindrome"
   ]
  },
  {
   "cell_type": "markdown",
   "metadata": {},
   "source": [
    "Given a string of lowercase alphabets. Some of characters of given string got corrupted and are now represented by *. We can replace * with any of lowercase alphabets. You have to construct lexicographically smallest palindrome string. If it is not possible to construct a palindrome print “Not Possible”."
   ]
  },
  {
   "cell_type": "markdown",
   "metadata": {},
   "source": [
    "<pre>\n",
    "Start traversing the string from both end. Say with i=0, j=strlen-1, keep increasing i and decreasing j after every single iteration till i exceeds j. Now at any intermediate position we have five possible case :\n",
    "\n",
    "str[i] and str[j] both are same and also not equal to ‘*’. In this case simply continue.\n",
    "str[i] and str[j] both are same and are equal to ‘*’. Here you must fill str[i] = str[j] = ‘a’ for smallest possible palindrome.\n",
    "str[i] equals to ‘*’ and str[j] is some alphabet. Here fill str[i] = str[j] to make our string a palindrome.\n",
    "str[j] equals to ‘*’ and str[i] is some alphabet. Here fill str[j] = str[i] to make our string a palindrome.\n",
    "str[i] is not equals to str[j] and also both are some alphabet. In this case palindrome construction is not possible. So, print “Not Possible” and break from loop.\n",
    "</pre>"
   ]
  },
  {
   "cell_type": "markdown",
   "metadata": {},
   "source": [
    "# Lexicographically smallest string whose hamming distance from given string is exactly K"
   ]
  },
  {
   "cell_type": "markdown",
   "metadata": {},
   "source": [
    "Given a lowercase string A of length N and an integer K, find the lexicographically smallest string B of the same length as A such that hamming distance between A and B is exactly K."
   ]
  },
  {
   "cell_type": "markdown",
   "metadata": {},
   "source": [
    "Approach"
   ]
  },
  {
   "cell_type": "markdown",
   "metadata": {},
   "source": [
    "We start from left to right, if the character at the current position of string A is ‘a’, then we assign the current position of string B character ‘a’. This position will not contribute towards the hamming distance. If character at this position in A is not equal to ‘a’, then also we will assign current position of string B character ‘a’, now this will contribute towards hamming distance and this can be done at most k times because Hamming distance has to be equal to K, if this is already done K times, we will assign this position of B same character as A.\n",
    "If after the previous step, hamming distance between A and B is K, we are done otherwise we have to make more changes to B. Now we will start from right to left in B, and if character at the current position is equal to the corresponding character of A, change character of B to ‘b’, hence increasing the hamming distance by one, we will do it until hamming distance becomes equal to K."
   ]
  },
  {
   "cell_type": "code",
   "execution_count": 11,
   "metadata": {},
   "outputs": [
    {
     "name": "stdout",
     "output_type": "stream",
     "text": [
      "aars\n"
     ]
    }
   ],
   "source": [
    "def genenrateLexicographicallySmallestSubstring(s,k):\n",
    "    b=[None]*len(s)\n",
    "    for i in range(len(s)):\n",
    "        if k==0:\n",
    "            b[i]=s[i]\n",
    "        else:\n",
    "            if s[i]=='a':\n",
    "                b[i]='a'\n",
    "            else:\n",
    "                b[i]='a'\n",
    "                k-=1\n",
    "    if k==0:\n",
    "        return \"\".join(b)\n",
    "\n",
    "    for i in range(len(s)-1,-1,-1):\n",
    "        if k==0:\n",
    "            return \"\".join(b)\n",
    "        if s[i]==b[i]:\n",
    "            b[i]='b'\n",
    "            k-=1\n",
    "\n",
    "if __name__ == '__main__':\n",
    "    s=\"pqrs\"\n",
    "    # s=\"aaaa\"\n",
    "    k=2\n",
    "    print(genenrateLexicographicallySmallestSubstring(s,k))\n"
   ]
  },
  {
   "cell_type": "markdown",
   "metadata": {},
   "source": [
    "# Lexicographically next string"
   ]
  },
  {
   "cell_type": "code",
   "execution_count": 12,
   "metadata": {},
   "outputs": [
    {
     "name": "stdout",
     "output_type": "stream",
     "text": [
      "zzza\n"
     ]
    }
   ],
   "source": [
    "def getNextString(s):\n",
    "    if s==\"\":\n",
    "        return \"a\"\n",
    "\n",
    "    found=False\n",
    "    s=list(s)\n",
    "    for i in range(len(s)-1,-1,-1):\n",
    "        if s[i]=='z':\n",
    "            continue\n",
    "        else:\n",
    "            s[i]=chr(ord(s[i])+1)\n",
    "            found=True\n",
    "            break\n",
    "\n",
    "    if found==False:\n",
    "        s.append('a')\n",
    "    return \"\".join(s)\n",
    "\n",
    "if __name__ == '__main__':\n",
    "    s=\"geeks\"\n",
    "    s=\"raavz\"\n",
    "    s=\"zzz\"\n",
    "    print(getNextString(s))\n"
   ]
  },
  {
   "cell_type": "code",
   "execution_count": null,
   "metadata": {},
   "outputs": [],
   "source": []
  }
 ],
 "metadata": {
  "kernelspec": {
   "display_name": "Python 3",
   "language": "python",
   "name": "python3"
  },
  "language_info": {
   "codemirror_mode": {
    "name": "ipython",
    "version": 3
   },
   "file_extension": ".py",
   "mimetype": "text/x-python",
   "name": "python",
   "nbconvert_exporter": "python",
   "pygments_lexer": "ipython3",
   "version": "3.7.6"
  }
 },
 "nbformat": 4,
 "nbformat_minor": 4
}
